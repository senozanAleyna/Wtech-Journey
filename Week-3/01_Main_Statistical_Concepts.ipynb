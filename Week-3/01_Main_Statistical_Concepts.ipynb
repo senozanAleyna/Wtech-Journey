{
  "nbformat": 4,
  "nbformat_minor": 0,
  "metadata": {
    "kernelspec": {
      "display_name": "Python 3",
      "language": "python",
      "name": "python3"
    },
    "language_info": {
      "codemirror_mode": {
        "name": "ipython",
        "version": 3
      },
      "file_extension": ".py",
      "mimetype": "text/x-python",
      "name": "python",
      "nbconvert_exporter": "python",
      "pygments_lexer": "ipython3",
      "version": "3.8.7"
    },
    "colab": {
      "name": "A_01_Main_Statistical_Concepts_tr.ipynb adlı not defterinin kopyası",
      "provenance": [],
      "collapsed_sections": []
    }
  },
  "cells": [
    {
      "cell_type": "markdown",
      "metadata": {
        "id": "5WZLphP4Bace"
      },
      "source": [
        "# 1.Temel İstatistik Kavramları"
      ]
    },
    {
      "cell_type": "markdown",
      "metadata": {
        "id": "eiF4GiQBBacj"
      },
      "source": [
        "numpy kütüphanesini kullanarak üreteceğiniz 3 farklı veri aracılığı ile merkezi eğilim ve dağılım ölçümlerini hem yukarıda verilen matematiksel formülle hem de python'da hazır bulunan (built-in) kodlar aracılığıyla analiz edin!!!"
      ]
    },
    {
      "cell_type": "code",
      "metadata": {
        "id": "pQtPRAcOBack",
        "colab": {
          "base_uri": "https://localhost:8080/"
        },
        "outputId": "09b54410-395e-4b71-8ef3-6d23be6cd07b"
      },
      "source": [
        "import numpy as np\n",
        "rassal1 = np.random.randint(100, size=100)\n",
        "rassal2 = np.random.normal(69, 8, 100)\n",
        "rassal3 = np.random.normal(64, 5, 100)\n",
        "print(f\"Birinci veri:{rassal1}\\nİkinci veri:{rassal2}\\nÜçüncü veri:{rassal3}\")"
      ],
      "execution_count": 3,
      "outputs": [
        {
          "output_type": "stream",
          "name": "stdout",
          "text": [
            "Birinci veri:[19  8 17 38 28  6 46 89 72 11  4 19 94 96 83 97 60 46 65 78 43  3 24  9\n",
            " 30 95  4 20 85 14 36 17 68 21 12 72 70 25 77 95 35  9 44 63 68 19 53 12\n",
            " 74  8 44 23 86 38 81 74 35 51 84 40  3 46 59 63 48 63 84 26 71 20 34 95\n",
            " 66 55 92 84  9 52 97 62 71 22  1  9  6 53 41 22 36 30 22 56 43 17 63 16\n",
            " 93 92 35 64]\n",
            "İkinci veri:[61.50308798 77.45928691 75.56626326 65.38636711 75.62768442 74.38339538\n",
            " 72.44522137 71.03662642 73.21280913 70.73970555 88.49611824 76.43643664\n",
            " 66.20675857 59.76822642 60.4716095  77.18169611 53.97855874 62.25155934\n",
            " 64.05798716 53.33653198 60.73472664 78.32425309 79.96076849 76.03484362\n",
            " 68.89565964 70.55140417 73.13300648 75.04295685 65.33528234 55.06233875\n",
            " 64.53484653 67.48445093 58.17198597 60.4408897  70.28780927 65.60808651\n",
            " 54.12204676 78.79570573 70.04182791 54.52786201 74.73530015 80.81816648\n",
            " 64.89998849 65.86763246 65.80773156 69.27141559 81.84489221 68.44632015\n",
            " 60.50867577 58.13001792 66.23328328 59.0610198  73.5774095  73.87190525\n",
            " 72.56018199 65.56968976 63.9591917  71.46684616 67.47648568 70.7365305\n",
            " 58.34942938 62.24706089 70.9422044  89.46553569 78.37007893 73.25966788\n",
            " 67.07906148 72.99898855 51.76738798 75.35942842 57.77067089 51.73923115\n",
            " 75.52601899 65.14328173 74.96594269 69.78249601 77.49045504 61.34414072\n",
            " 62.80082296 64.55018365 73.01140216 73.99967706 69.44908362 62.39019109\n",
            " 70.27480889 73.14188415 68.02868712 83.41710211 72.19668587 74.65581137\n",
            " 65.95497185 76.07400616 79.56579436 61.52598729 65.29009388 68.1634911\n",
            " 68.53157467 71.00094711 72.1296291  62.62216348]\n",
            "Üçüncü veri:[66.89315985 64.17673212 63.67743862 61.36575861 67.12686553 63.86376391\n",
            " 57.80834656 51.48579075 59.03925623 64.95218182 68.33903371 69.48553545\n",
            " 60.63703189 60.13538254 69.59470594 59.50980368 61.97634826 62.60481957\n",
            " 65.56012988 60.36461949 68.17172346 68.0884961  69.24640938 65.8565568\n",
            " 69.91035872 61.56502715 62.95052573 65.67936133 62.94007265 62.69085481\n",
            " 59.4630875  53.2387857  51.50494705 57.78803043 63.6019364  58.95805691\n",
            " 61.97703619 60.53455758 52.69267551 74.86974101 67.32671475 55.92013011\n",
            " 65.43122549 59.53507628 63.50849254 69.61968992 62.73024175 61.28818867\n",
            " 67.56024812 72.17993855 65.94747907 71.86755981 63.13096014 63.5412823\n",
            " 61.39343635 56.49880285 61.22155786 69.85090603 66.75742385 61.47364734\n",
            " 58.80020836 64.80618622 59.14649139 66.64529895 60.55731921 66.07469024\n",
            " 67.14746039 67.92884437 63.96419065 64.41993686 62.6485723  59.99805892\n",
            " 65.61427506 61.18800883 59.94449924 67.73326016 68.23679347 69.21883946\n",
            " 68.36793598 70.09693563 61.3802382  65.76667076 63.43291493 60.88790728\n",
            " 60.76433748 60.3898674  65.8285857  64.08668846 66.89436649 66.72403944\n",
            " 67.43045774 73.59952286 71.01813137 66.70410553 56.87193445 68.5750134\n",
            " 68.74462688 62.09624845 61.06961759 53.10451925]\n"
          ]
        }
      ]
    },
    {
      "cell_type": "code",
      "metadata": {
        "id": "N11jZTXLBacm",
        "colab": {
          "base_uri": "https://localhost:8080/"
        },
        "outputId": "3fae9ef1-3e61-4816-901f-80e7c44780c8"
      },
      "source": [
        "#Matematiksel Formul kullanarak ortalama hesaplama\n",
        "ort1=sum(rassal1) / len(rassal1)\n",
        "ort2=sum(rassal2) / len(rassal2)\n",
        "ort3=sum(rassal3) / len(rassal3)\n",
        "print(f\"Birinci veri:{ort1}\\nİkinci veri:{ort2}\\nÜçüncü veri:{ort3}\")"
      ],
      "execution_count": 5,
      "outputs": [
        {
          "output_type": "stream",
          "name": "stdout",
          "text": [
            "Birinci veri:46.58\n",
            "İkinci veri:68.73855445877646\n",
            "Üçüncü veri:63.750155459095495\n"
          ]
        }
      ]
    },
    {
      "cell_type": "code",
      "metadata": {
        "id": "LoxOnwgdBacm",
        "colab": {
          "base_uri": "https://localhost:8080/"
        },
        "outputId": "bc1c7546-2264-436f-853a-e6980c96e0a3"
      },
      "source": [
        "#Hazır (built-in) Python fonksiyonları kullanarak ortalama hesaplama\n",
        "print(f\"Birinci veri:{np.mean(rassal1)}\\nİkinci veri:{np.mean(rassal2)}\\nÜçüncü veri:{np.mean(rassal3)}\")"
      ],
      "execution_count": 8,
      "outputs": [
        {
          "output_type": "stream",
          "name": "stdout",
          "text": [
            "Birinci veri:46.58\n",
            "İkinci veri:68.73855445877648\n",
            "Üçüncü veri:63.750155459095474\n"
          ]
        }
      ]
    },
    {
      "cell_type": "code",
      "metadata": {
        "id": "ysvJDvutBacn"
      },
      "source": [
        "#Formul ile Median \n",
        "def median(rassal):\n",
        "    n = len(rassal)\n",
        "    if n < 1:\n",
        "            return None\n",
        "    if n % 2 == 1:\n",
        "            return sorted(rassal)[n//2]\n",
        "    else:\n",
        "            return sum(sorted(rassal)[n//2-1:n//2+1])/2.0"
      ],
      "execution_count": 9,
      "outputs": []
    },
    {
      "cell_type": "code",
      "metadata": {
        "id": "KgcsvibPBaco",
        "colab": {
          "base_uri": "https://localhost:8080/"
        },
        "outputId": "d39e0b74-cb50-4d2a-ffc6-be6e9e5fe5b4"
      },
      "source": [
        "print(f\"Birinci veri:{median(rassal1)}\\nİkinci veri:{median(rassal2)}\\nÜçüncü veri:{median(rassal3)}\")"
      ],
      "execution_count": 10,
      "outputs": [
        {
          "output_type": "stream",
          "name": "stdout",
          "text": [
            "Birinci veri:44.0\n",
            "İkinci veri:69.36024960500117\n",
            "Üçüncü veri:63.63968750609067\n"
          ]
        }
      ]
    },
    {
      "cell_type": "code",
      "metadata": {
        "id": "THesaqVvBaco",
        "colab": {
          "base_uri": "https://localhost:8080/"
        },
        "outputId": "39430ef0-d0af-436e-b0b6-b76176c3f4e9"
      },
      "source": [
        "#Built-in formul Median\n",
        "import statistics\n",
        "print(f\"Birinci veri:{statistics.median(rassal1)}\\nİkinci veri:{statistics.median(rassal2)}\\nÜçüncü veri:{statistics.median(rassal3)}\")"
      ],
      "execution_count": 11,
      "outputs": [
        {
          "output_type": "stream",
          "name": "stdout",
          "text": [
            "Birinci veri:44.0\n",
            "İkinci veri:69.36024960500117\n",
            "Üçüncü veri:63.63968750609067\n"
          ]
        }
      ]
    },
    {
      "cell_type": "code",
      "metadata": {
        "colab": {
          "base_uri": "https://localhost:8080/"
        },
        "id": "60BHJM3-FYMc",
        "outputId": "6a0f4d72-c427-4af5-ba79-db034c633067"
      },
      "source": [
        "from scipy import stats as s\n",
        "print(f\"Birinci veri:{int(s.mode(rassal1)[0])}\\nİkinci veri:{int(s.mode(rassal2)[0])}\\nÜçüncü veri:{int(s.mode(rassal3)[0])}\")"
      ],
      "execution_count": 26,
      "outputs": [
        {
          "output_type": "stream",
          "name": "stdout",
          "text": [
            "Birinci veri:9\n",
            "İkinci veri:51\n",
            "Üçüncü veri:51\n"
          ]
        }
      ]
    },
    {
      "cell_type": "code",
      "metadata": {
        "id": "y01VV4DMBacp",
        "colab": {
          "base_uri": "https://localhost:8080/"
        },
        "outputId": "e371e9fd-c557-40fd-eb9b-babb8a7bc01a"
      },
      "source": [
        "#numpy ile medyan hesaplama\n",
        "print(f\"Birinci veri:{np.median(rassal1)}\\nİkinci veri:{np.median(rassal2)}\\nÜçüncü veri:{np.median(rassal3)}\")"
      ],
      "execution_count": 12,
      "outputs": [
        {
          "output_type": "stream",
          "name": "stdout",
          "text": [
            "Birinci veri:44.0\n",
            "İkinci veri:69.36024960500117\n",
            "Üçüncü veri:63.63968750609067\n"
          ]
        }
      ]
    },
    {
      "cell_type": "code",
      "metadata": {
        "id": "_tXdZJTeBacq",
        "colab": {
          "base_uri": "https://localhost:8080/"
        },
        "outputId": "360f20ac-9999-4533-918d-dc644d5fe37e"
      },
      "source": [
        "#Varyans Hesaplama\n",
        "print(f\"Birinci veri:{rassal1.var()}\\nİkinci veri:{rassal2.var()}\\nÜçüncü veri:{rassal3.var()}\")"
      ],
      "execution_count": 27,
      "outputs": [
        {
          "output_type": "stream",
          "name": "stdout",
          "text": [
            "Birinci veri:847.2036\n",
            "İkinci veri:60.176284609099596\n",
            "Üçüncü veri:22.320415077273484\n"
          ]
        }
      ]
    },
    {
      "cell_type": "code",
      "metadata": {
        "id": "QIJ7gTziBacr",
        "colab": {
          "base_uri": "https://localhost:8080/"
        },
        "outputId": "6058c2c2-f460-4581-a165-914aada4d528"
      },
      "source": [
        "#Varyans Hesaplama\n",
        "print(f\"Birinci veri:{np.var(rassal1)}\\nİkinci veri:{np.var(rassal2)}\\nÜçüncü veri:{np.var(rassal3)}\")"
      ],
      "execution_count": 28,
      "outputs": [
        {
          "output_type": "stream",
          "name": "stdout",
          "text": [
            "Birinci veri:847.2036\n",
            "İkinci veri:60.176284609099596\n",
            "Üçüncü veri:22.320415077273484\n"
          ]
        }
      ]
    },
    {
      "cell_type": "code",
      "metadata": {
        "id": "of8uPk9nBacr",
        "colab": {
          "base_uri": "https://localhost:8080/"
        },
        "outputId": "dd5316fc-0d00-484a-ec98-47b627553102"
      },
      "source": [
        "#Varyans Hesaplama\n",
        "var1 = sum((rassal1 -np.mean(rassal1))**2) / (len(rassal1))\n",
        "var2 = sum((rassal2 -np.mean(rassal2))**2) / (len(rassal2))\n",
        "var3 = sum((rassal3 -np.mean(rassal3))**2) / (len(rassal3))\n",
        "print(f\"Birinci veri:{var1}\\nİkinci veri:{var2}\\nÜçüncü veri:{var3}\")"
      ],
      "execution_count": 29,
      "outputs": [
        {
          "output_type": "stream",
          "name": "stdout",
          "text": [
            "Birinci veri:847.2035999999996\n",
            "İkinci veri:60.176284609099596\n",
            "Üçüncü veri:22.320415077273474\n"
          ]
        }
      ]
    },
    {
      "cell_type": "code",
      "metadata": {
        "id": "xPphx3pSBacs",
        "colab": {
          "base_uri": "https://localhost:8080/"
        },
        "outputId": "45660a49-0aaa-41e8-9204-801d1d1c9a55"
      },
      "source": [
        "#Standard Sapma \n",
        "print(f\"Birinci veri:{np.std(rassal1)}\\nİkinci veri:{np.std(rassal2)}\\nÜçüncü veri:{np.std(rassal3)}\")"
      ],
      "execution_count": 30,
      "outputs": [
        {
          "output_type": "stream",
          "name": "stdout",
          "text": [
            "Birinci veri:29.106762100927682\n",
            "İkinci veri:7.757337469074012\n",
            "Üçüncü veri:4.724448653258228\n"
          ]
        }
      ]
    },
    {
      "cell_type": "code",
      "metadata": {
        "id": "4nMnXtVDBacs",
        "colab": {
          "base_uri": "https://localhost:8080/"
        },
        "outputId": "49f6d5c1-4533-42c3-bb1b-00b4a3f03bc2"
      },
      "source": [
        "#Standart Hata \n",
        "stdh1=np.std(rassal1) / np.sqrt(len(rassal1))\n",
        "stdh2=np.std(rassal2) / np.sqrt(len(rassal2))\n",
        "stdh3=np.std(rassal3) / np.sqrt(len(rassal3))\n",
        "print(f\"Birinci veri:{stdh1}\\nİkinci veri:{stdh2}\\nÜçüncü veri:{stdh3}\")"
      ],
      "execution_count": 31,
      "outputs": [
        {
          "output_type": "stream",
          "name": "stdout",
          "text": [
            "Birinci veri:2.910676210092768\n",
            "İkinci veri:0.7757337469074013\n",
            "Üçüncü veri:0.47244486532582275\n"
          ]
        }
      ]
    }
  ]
}