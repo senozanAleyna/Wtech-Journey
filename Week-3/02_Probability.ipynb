{
  "nbformat": 4,
  "nbformat_minor": 0,
  "metadata": {
    "kernelspec": {
      "display_name": "Python 3",
      "language": "python",
      "name": "python3"
    },
    "language_info": {
      "codemirror_mode": {
        "name": "ipython",
        "version": 3
      },
      "file_extension": ".py",
      "mimetype": "text/x-python",
      "name": "python",
      "nbconvert_exporter": "python",
      "pygments_lexer": "ipython3",
      "version": "3.8.7"
    },
    "colab": {
      "name": "A_02_Probability_tr.ipynb adlı not defterinin kopyası",
      "provenance": [],
      "collapsed_sections": []
    }
  },
  "cells": [
    {
      "cell_type": "markdown",
      "metadata": {
        "id": "7A75mN4mJFNH"
      },
      "source": [
        "# 2.Olasılık"
      ]
    },
    {
      "cell_type": "markdown",
      "metadata": {
        "id": "z5fJ8MYgJFNJ"
      },
      "source": [
        "A şirketinin sattığı bilgisayarın bazılarının bozuk olduğu tespit edilmiştir. Bilgisyar üreten 3 şirket (A, B ve C) olduğunu varsayımı altında, bu şirketlerin bilgisayar üretim miktarı ve bozuk üretim olasılıkları şu şekildedir:\n",
        "\n",
        "**Toplam Üretim Yüzdesi : ** P(A)=0.40 P(B)=0.40 P(C)=0.20\n",
        "\n",
        "**Hatalı Üretim Olasılığı :** P(D|A)=0.015 P(D|B)=0.020 P(D|C)=0.010\n",
        "\n",
        "Rastgele seçilen bir bozuk bir bilgisayarın B şirketi tarafından üretilme olasılığı nedir?"
      ]
    },
    {
      "cell_type": "markdown",
      "metadata": {
        "id": "tKi59_RjJl5m"
      },
      "source": [
        "![a.png](data:image/png;base64,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)\n"
      ]
    },
    {
      "cell_type": "code",
      "metadata": {
        "id": "AyOv-fduJFNK"
      },
      "source": [
        "#Üretim yüzdeleri\n",
        "P_A = 0.40\n",
        "P_B = 0.40 \n",
        "P_C = 0.20"
      ],
      "execution_count": null,
      "outputs": []
    },
    {
      "cell_type": "code",
      "metadata": {
        "id": "09SyPEAaJFNL"
      },
      "source": [
        "#Hatalı üretim oranları\n",
        "#P(D|A)=0.015\n",
        "#P(D|B)=0.020 \n",
        "#P(D|C)=0.010\n",
        "\n",
        "P_D_A =0.015\n",
        "P_D_B =0.020 \n",
        "P_D_C =0.010"
      ],
      "execution_count": null,
      "outputs": []
    },
    {
      "cell_type": "code",
      "metadata": {
        "id": "FjRRTLsoJFNM"
      },
      "source": [
        "#B şirketinin hatalı üretim yapma formülü\n",
        "P_D = (P_A * P_D_A)+ (P_B * P_D_B) + (P_C * P_D_C)\n",
        "P_D"
      ],
      "execution_count": null,
      "outputs": []
    },
    {
      "cell_type": "code",
      "metadata": {
        "id": "0v99INSKJFNM"
      },
      "source": [
        "#P(B/D) = (P(B) * P(D/B))/ P(D)\n",
        "# P(B/D)  = 40*0.02 / 0.016\n",
        "P_B_D = (P_B * P_D_B) / P_D\n",
        "P_B_D"
      ],
      "execution_count": null,
      "outputs": []
    },
    {
      "cell_type": "code",
      "metadata": {
        "id": "0MAncKH3JFNN",
        "outputId": "0d6b29d9-af1a-49b8-8b77-bc94bb9571a1"
      },
      "source": [
        "P_C_D = (P_C * P_D_C) / P_D\n",
        "P_C_D"
      ],
      "execution_count": null,
      "outputs": [
        {
          "data": {
            "text/plain": [
              "0.125"
            ]
          },
          "execution_count": 5,
          "metadata": {},
          "output_type": "execute_result"
        }
      ]
    },
    {
      "cell_type": "code",
      "metadata": {
        "id": "3w5CirUdJFNO",
        "outputId": "bc814455-ed21-4195-ae50-2ebf43c84425"
      },
      "source": [
        "P_A_D = (P_A * P_D_A) / P_D\n",
        "P_A_D"
      ],
      "execution_count": null,
      "outputs": [
        {
          "data": {
            "text/plain": [
              "0.375"
            ]
          },
          "execution_count": 6,
          "metadata": {},
          "output_type": "execute_result"
        }
      ]
    }
  ]
}