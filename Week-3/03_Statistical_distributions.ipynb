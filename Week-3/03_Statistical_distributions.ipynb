{
  "cells": [
    {
      "cell_type": "markdown",
      "metadata": {
        "id": "9Qzk8y4y3Hqm"
      },
      "source": [
        "# 3.İstatistiksel Dağılımlar "
      ]
    },
    {
      "cell_type": "markdown",
      "metadata": {
        "id": "DofhVXHc3Hqq"
      },
      "source": [
        "<p>Servet ve gelir dağılımları bazen Pareto dağılımı kullanılarak modellenir. Bunun geçerli olup olmadığına bakmak için <a href=\"https://www.census.gov/data/tables/time-series/demo/income-poverty/cps-hinc/hinc-06.html\">şu adresteki</a> veriyi kullanalım. Bu veriyi kullanarak gelirin dağılımını elde edin. Hangisi dağılıma daha çok uymaktadır?</p>"
      ]
    },
    {
      "cell_type": "markdown",
      "metadata": {
        "id": "B57_RjHA3Hqr"
      },
      "source": [
        "<li><p><code>https://finance.yahoo.com/</code> sitesini kullanarak google şirketinin 2015-2017 yılları arasında hisse senedi fiyatlarını elde edin. Bu veriyi kullanarak hisse senedi getirisini şu formülle hesaplayın: <span class=\"MathJax_Preview\" style=\"color: inherit; display: none;\"></span><span class=\"mjx-chtml MJXc-display\" style=\"text-align: center;\"><span id=\"MathJax-Element-36-Frame\" class=\"mjx-chtml MathJax_CHTML\" tabindex=\"0\" style=\"font-size: 113%; text-align: center; position: relative;\" data-mathml=\"<math xmlns=&quot;http://www.w3.org/1998/Math/MathML&quot; display=&quot;block&quot;><msub><mi>P</mi><mi>t</mi></msub><mo>&amp;#x2212;</mo><msub><mi>P</mi><mrow class=&quot;MJX-TeXAtom-ORD&quot;><mi>t</mi><mo>&amp;#x2212;</mo><mn>1</mn></mrow></msub><mrow class=&quot;MJX-TeXAtom-ORD&quot;><mo>/</mo></mrow><msub><mi>P</mi><mrow class=&quot;MJX-TeXAtom-ORD&quot;><mi>t</mi><mo>&amp;#x2212;</mo><mn>1</mn></mrow></msub></math>\" role=\"presentation\"><span id=\"MJXc-Node-542\" class=\"mjx-math\" aria-hidden=\"true\"><span id=\"MJXc-Node-543\" class=\"mjx-mrow\"><span id=\"MJXc-Node-544\" class=\"mjx-msubsup\"><span class=\"mjx-base\" style=\"margin-right: -0.109em;\"><span id=\"MJXc-Node-545\" class=\"mjx-mi\"><span class=\"mjx-char MJXc-TeX-math-I\" style=\"padding-top: 0.471em; padding-bottom: 0.263em; padding-right: 0.109em;\">P</span></span></span><span class=\"mjx-sub\" style=\"font-size: 70.7%; vertical-align: -0.212em; padding-right: 0.071em;\"><span id=\"MJXc-Node-546\" class=\"mjx-mi\" style=\"\"><span class=\"mjx-char MJXc-TeX-math-I\" style=\"padding-top: 0.419em; padding-bottom: 0.263em;\">t</span></span></span></span><span id=\"MJXc-Node-547\" class=\"mjx-mo MJXc-space2\"><span class=\"mjx-char MJXc-TeX-main-R\" style=\"padding-top: 0.315em; padding-bottom: 0.419em;\">−</span></span><span id=\"MJXc-Node-548\" class=\"mjx-msubsup MJXc-space2\"><span class=\"mjx-base\" style=\"margin-right: -0.109em;\"><span id=\"MJXc-Node-549\" class=\"mjx-mi\"><span class=\"mjx-char MJXc-TeX-math-I\" style=\"padding-top: 0.471em; padding-bottom: 0.263em; padding-right: 0.109em;\">P</span></span></span><span class=\"mjx-sub\" style=\"font-size: 70.7%; vertical-align: -0.212em; padding-right: 0.071em;\"><span id=\"MJXc-Node-550\" class=\"mjx-texatom\" style=\"\"><span id=\"MJXc-Node-551\" class=\"mjx-mrow\"><span id=\"MJXc-Node-552\" class=\"mjx-mi\"><span class=\"mjx-char MJXc-TeX-math-I\" style=\"padding-top: 0.419em; padding-bottom: 0.263em;\">t</span></span><span id=\"MJXc-Node-553\" class=\"mjx-mo\"><span class=\"mjx-char MJXc-TeX-main-R\" style=\"padding-top: 0.315em; padding-bottom: 0.419em;\">−</span></span><span id=\"MJXc-Node-554\" class=\"mjx-mn\"><span class=\"mjx-char MJXc-TeX-main-R\" style=\"padding-top: 0.367em; padding-bottom: 0.367em;\">1</span></span></span></span></span></span><span id=\"MJXc-Node-555\" class=\"mjx-texatom\"><span id=\"MJXc-Node-556\" class=\"mjx-mrow\"><span id=\"MJXc-Node-557\" class=\"mjx-mo\"><span class=\"mjx-char MJXc-TeX-main-R\" style=\"padding-top: 0.471em; padding-bottom: 0.575em;\">/</span></span></span></span><span id=\"MJXc-Node-558\" class=\"mjx-msubsup\"><span class=\"mjx-base\" style=\"margin-right: -0.109em;\"><span id=\"MJXc-Node-559\" class=\"mjx-mi\"><span class=\"mjx-char MJXc-TeX-math-I\" style=\"padding-top: 0.471em; padding-bottom: 0.263em; padding-right: 0.109em;\">P</span></span></span><span class=\"mjx-sub\" style=\"font-size: 70.7%; vertical-align: -0.212em; padding-right: 0.071em;\"><span id=\"MJXc-Node-560\" class=\"mjx-texatom\" style=\"\"><span id=\"MJXc-Node-561\" class=\"mjx-mrow\"><span id=\"MJXc-Node-562\" class=\"mjx-mi\"><span class=\"mjx-char MJXc-TeX-math-I\" style=\"padding-top: 0.419em; padding-bottom: 0.263em;\">t</span></span><span id=\"MJXc-Node-563\" class=\"mjx-mo\"><span class=\"mjx-char MJXc-TeX-main-R\" style=\"padding-top: 0.315em; padding-bottom: 0.419em;\">−</span></span><span id=\"MJXc-Node-564\" class=\"mjx-mn\"><span class=\"mjx-char MJXc-TeX-main-R\" style=\"padding-top: 0.367em; padding-bottom: 0.367em;\">1</span></span></span></span></span></span></span></span><span class=\"MJX_Assistive_MathML MJX_Assistive_MathML_Block\" role=\"presentation\"><math xmlns=\"http://www.w3.org/1998/Math/MathML\" display=\"block\"><msub><mi>P</mi><mi>t</mi></msub><mo>−</mo><msub><mi>P</mi><mrow class=\"MJX-TeXAtom-ORD\"><mi>t</mi><mo>−</mo><mn>1</mn></mrow></msub><mrow class=\"MJX-TeXAtom-ORD\"><mo>/</mo></mrow><msub><mi>P</mi><mrow class=\"MJX-TeXAtom-ORD\"><mi>t</mi><mo>−</mo><mn>1</mn></mrow></msub></math></span></span></span><script type=\"math/tex; mode=display\" id=\"MathJax-Element-36\">P_t-P_{t-1}/P_{t-1} </script> (burada <span class=\"MathJax_Preview\" style=\"color: inherit; display: none;\"></span><span id=\"MathJax-Element-37-Frame\" class=\"mjx-chtml MathJax_CHTML\" tabindex=\"0\" style=\"font-size: 113%; position: relative;\" data-mathml=\"<math xmlns=&quot;http://www.w3.org/1998/Math/MathML&quot;><msub><mi>P</mi><mi>t</mi></msub></math>\" role=\"presentation\"><span id=\"MJXc-Node-565\" class=\"mjx-math\" aria-hidden=\"true\"><span id=\"MJXc-Node-566\" class=\"mjx-mrow\"><span id=\"MJXc-Node-567\" class=\"mjx-msubsup\"><span class=\"mjx-base\" style=\"margin-right: -0.109em;\"><span id=\"MJXc-Node-568\" class=\"mjx-mi\"><span class=\"mjx-char MJXc-TeX-math-I\" style=\"padding-top: 0.471em; padding-bottom: 0.263em; padding-right: 0.109em;\">P</span></span></span><span class=\"mjx-sub\" style=\"font-size: 70.7%; vertical-align: -0.212em; padding-right: 0.071em;\"><span id=\"MJXc-Node-569\" class=\"mjx-mi\" style=\"\"><span class=\"mjx-char MJXc-TeX-math-I\" style=\"padding-top: 0.419em; padding-bottom: 0.263em;\">t</span></span></span></span></span></span><span class=\"MJX_Assistive_MathML\" role=\"presentation\"><math xmlns=\"http://www.w3.org/1998/Math/MathML\"><msub><mi>P</mi><mi>t</mi></msub></math></span></span><script type=\"math/tex\" id=\"MathJax-Element-37\">P_t</script> t zamanındaki hisse senedi fiyatını ve <span class=\"MathJax_Preview\" style=\"color: inherit; display: none;\"></span><span id=\"MathJax-Element-38-Frame\" class=\"mjx-chtml MathJax_CHTML\" tabindex=\"0\" style=\"font-size: 113%; position: relative;\" data-mathml=\"<math xmlns=&quot;http://www.w3.org/1998/Math/MathML&quot;><msub><mi>P</mi><mrow class=&quot;MJX-TeXAtom-ORD&quot;><mi>t</mi><mo>&amp;#x2212;</mo><mn>1</mn></mrow></msub></math>\" role=\"presentation\"><span id=\"MJXc-Node-570\" class=\"mjx-math\" aria-hidden=\"true\"><span id=\"MJXc-Node-571\" class=\"mjx-mrow\"><span id=\"MJXc-Node-572\" class=\"mjx-msubsup\"><span class=\"mjx-base\" style=\"margin-right: -0.109em;\"><span id=\"MJXc-Node-573\" class=\"mjx-mi\"><span class=\"mjx-char MJXc-TeX-math-I\" style=\"padding-top: 0.471em; padding-bottom: 0.263em; padding-right: 0.109em;\">P</span></span></span><span class=\"mjx-sub\" style=\"font-size: 70.7%; vertical-align: -0.212em; padding-right: 0.071em;\"><span id=\"MJXc-Node-574\" class=\"mjx-texatom\" style=\"\"><span id=\"MJXc-Node-575\" class=\"mjx-mrow\"><span id=\"MJXc-Node-576\" class=\"mjx-mi\"><span class=\"mjx-char MJXc-TeX-math-I\" style=\"padding-top: 0.419em; padding-bottom: 0.263em;\">t</span></span><span id=\"MJXc-Node-577\" class=\"mjx-mo\"><span class=\"mjx-char MJXc-TeX-main-R\" style=\"padding-top: 0.315em; padding-bottom: 0.419em;\">−</span></span><span id=\"MJXc-Node-578\" class=\"mjx-mn\"><span class=\"mjx-char MJXc-TeX-main-R\" style=\"padding-top: 0.367em; padding-bottom: 0.367em;\">1</span></span></span></span></span></span></span></span><span class=\"MJX_Assistive_MathML\" role=\"presentation\"><math xmlns=\"http://www.w3.org/1998/Math/MathML\"><msub><mi>P</mi><mrow class=\"MJX-TeXAtom-ORD\"><mi>t</mi><mo>−</mo><mn>1</mn></mrow></msub></math></span></span><script type=\"math/tex\" id=\"MathJax-Element-38\">P_{t-1}</script> ise t-1 zamanındaki hisse senedi fiyatını vermektedir). Getiriler dağılımı hangi dağılıma daha yakındır?</p>\n",
        "\n",
        "<p>Not: <code>https://finance.yahoo.com/</code> adresi kullanılarak veri şu şekilde çekilir. Verilen adresi tıkladıktan sonra yukarıdaki arama bölümüne aramak istediğiniz hisse senedinin adını yazın (Örneğin, google). Arama sonucu altta çıkan sonuca tıklayarak ilgili hisse senedine gidiniz. İlgili hisse senedinin bilgilerinin bulunduğu sayfaya gelindiğinde <code>Historical Prices</code> (<code>Geçmiş veriler</code>)  sekmesine tıklayıp ve ilgili tarih aralığını seçtikten sonra, <code>Apply</code>a tıklıyoruz ve son olarak <code>Download Data</code> butonuna basarak veriyi indiriyoruz.</p></li>"
      ]
    },
    {
      "cell_type": "code",
      "execution_count": 2,
      "metadata": {
        "colab": {
          "base_uri": "https://localhost:8080/"
        },
        "id": "DazmRg6F3Hqt",
        "outputId": "78baaf93-5551-4ebb-9449-8cf6af1db04e"
      },
      "outputs": [
        {
          "output_type": "stream",
          "name": "stdout",
          "text": [
            "Collecting yfinance\n",
            "  Downloading yfinance-0.1.67-py2.py3-none-any.whl (25 kB)\n",
            "Requirement already satisfied: numpy>=1.15 in /usr/local/lib/python3.7/dist-packages (from yfinance) (1.19.5)\n",
            "Collecting lxml>=4.5.1\n",
            "  Downloading lxml-4.6.4-cp37-cp37m-manylinux_2_17_x86_64.manylinux2014_x86_64.manylinux_2_24_x86_64.whl (6.3 MB)\n",
            "\u001b[K     |████████████████████████████████| 6.3 MB 7.8 MB/s \n",
            "\u001b[?25hRequirement already satisfied: requests>=2.20 in /usr/local/lib/python3.7/dist-packages (from yfinance) (2.23.0)\n",
            "Requirement already satisfied: multitasking>=0.0.7 in /usr/local/lib/python3.7/dist-packages (from yfinance) (0.0.10)\n",
            "Requirement already satisfied: pandas>=0.24 in /usr/local/lib/python3.7/dist-packages (from yfinance) (1.1.5)\n",
            "Requirement already satisfied: pytz>=2017.2 in /usr/local/lib/python3.7/dist-packages (from pandas>=0.24->yfinance) (2018.9)\n",
            "Requirement already satisfied: python-dateutil>=2.7.3 in /usr/local/lib/python3.7/dist-packages (from pandas>=0.24->yfinance) (2.8.2)\n",
            "Requirement already satisfied: six>=1.5 in /usr/local/lib/python3.7/dist-packages (from python-dateutil>=2.7.3->pandas>=0.24->yfinance) (1.15.0)\n",
            "Requirement already satisfied: chardet<4,>=3.0.2 in /usr/local/lib/python3.7/dist-packages (from requests>=2.20->yfinance) (3.0.4)\n",
            "Requirement already satisfied: certifi>=2017.4.17 in /usr/local/lib/python3.7/dist-packages (from requests>=2.20->yfinance) (2021.10.8)\n",
            "Requirement already satisfied: urllib3!=1.25.0,!=1.25.1,<1.26,>=1.21.1 in /usr/local/lib/python3.7/dist-packages (from requests>=2.20->yfinance) (1.24.3)\n",
            "Requirement already satisfied: idna<3,>=2.5 in /usr/local/lib/python3.7/dist-packages (from requests>=2.20->yfinance) (2.10)\n",
            "Installing collected packages: lxml, yfinance\n",
            "  Attempting uninstall: lxml\n",
            "    Found existing installation: lxml 4.2.6\n",
            "    Uninstalling lxml-4.2.6:\n",
            "      Successfully uninstalled lxml-4.2.6\n",
            "Successfully installed lxml-4.6.4 yfinance-0.1.67\n"
          ]
        }
      ],
      "source": [
        "!pip install yfinance"
      ]
    },
    {
      "cell_type": "code",
      "execution_count": 3,
      "metadata": {
        "id": "vz8n7TE53Hqu"
      },
      "outputs": [],
      "source": [
        "import pandas as pd\n",
        "import yfinance as yf"
      ]
    },
    {
      "cell_type": "code",
      "execution_count": 4,
      "metadata": {
        "colab": {
          "base_uri": "https://localhost:8080/"
        },
        "id": "sbocUXjH3Hqv",
        "outputId": "471d9a6f-dfd0-490e-f827-7b017bb4bc2b"
      },
      "outputs": [
        {
          "output_type": "stream",
          "name": "stdout",
          "text": [
            "\r[*********************100%***********************]  1 of 1 completed\n"
          ]
        }
      ],
      "source": [
        "df = yf.download('AAPL',\n",
        "            start = \"2017-01-01\",\n",
        "            end = \"2019-01-01\", \n",
        "            interval='1d', prepost=True)"
      ]
    },
    {
      "cell_type": "code",
      "execution_count": 5,
      "metadata": {
        "colab": {
          "base_uri": "https://localhost:8080/"
        },
        "id": "HmwvFDii3Hqw",
        "outputId": "840baf3f-12ba-4a6a-b534-20daf5ca4c00"
      },
      "outputs": [
        {
          "output_type": "stream",
          "name": "stdout",
          "text": [
            "<class 'pandas.core.frame.DataFrame'>\n",
            "DatetimeIndex: 502 entries, 2017-01-03 to 2018-12-31\n",
            "Data columns (total 6 columns):\n",
            " #   Column     Non-Null Count  Dtype  \n",
            "---  ------     --------------  -----  \n",
            " 0   Open       502 non-null    float64\n",
            " 1   High       502 non-null    float64\n",
            " 2   Low        502 non-null    float64\n",
            " 3   Close      502 non-null    float64\n",
            " 4   Adj Close  502 non-null    float64\n",
            " 5   Volume     502 non-null    int64  \n",
            "dtypes: float64(5), int64(1)\n",
            "memory usage: 27.5 KB\n"
          ]
        }
      ],
      "source": [
        "df.info()"
      ]
    },
    {
      "cell_type": "code",
      "execution_count": 6,
      "metadata": {
        "colab": {
          "base_uri": "https://localhost:8080/",
          "height": 237
        },
        "id": "2s_rr3xh3Hqw",
        "outputId": "e5e7257e-92ff-475b-ffda-577798ac826e"
      },
      "outputs": [
        {
          "output_type": "execute_result",
          "data": {
            "text/html": [
              "<div>\n",
              "<style scoped>\n",
              "    .dataframe tbody tr th:only-of-type {\n",
              "        vertical-align: middle;\n",
              "    }\n",
              "\n",
              "    .dataframe tbody tr th {\n",
              "        vertical-align: top;\n",
              "    }\n",
              "\n",
              "    .dataframe thead th {\n",
              "        text-align: right;\n",
              "    }\n",
              "</style>\n",
              "<table border=\"1\" class=\"dataframe\">\n",
              "  <thead>\n",
              "    <tr style=\"text-align: right;\">\n",
              "      <th></th>\n",
              "      <th>Open</th>\n",
              "      <th>High</th>\n",
              "      <th>Low</th>\n",
              "      <th>Close</th>\n",
              "      <th>Adj Close</th>\n",
              "      <th>Volume</th>\n",
              "      <th>getiri</th>\n",
              "      <th>fark</th>\n",
              "    </tr>\n",
              "    <tr>\n",
              "      <th>Date</th>\n",
              "      <th></th>\n",
              "      <th></th>\n",
              "      <th></th>\n",
              "      <th></th>\n",
              "      <th></th>\n",
              "      <th></th>\n",
              "      <th></th>\n",
              "      <th></th>\n",
              "    </tr>\n",
              "  </thead>\n",
              "  <tbody>\n",
              "    <tr>\n",
              "      <th>2017-01-03</th>\n",
              "      <td>115.800003</td>\n",
              "      <td>116.330002</td>\n",
              "      <td>114.760002</td>\n",
              "      <td>116.150002</td>\n",
              "      <td>113.351158</td>\n",
              "      <td>28781865</td>\n",
              "      <td>NaN</td>\n",
              "      <td>NaN</td>\n",
              "    </tr>\n",
              "    <tr>\n",
              "      <th>2017-01-04</th>\n",
              "      <td>115.849998</td>\n",
              "      <td>116.510002</td>\n",
              "      <td>115.750000</td>\n",
              "      <td>116.019997</td>\n",
              "      <td>113.224281</td>\n",
              "      <td>21118116</td>\n",
              "      <td>-0.111928</td>\n",
              "      <td>-0.130005</td>\n",
              "    </tr>\n",
              "    <tr>\n",
              "      <th>2017-01-05</th>\n",
              "      <td>115.919998</td>\n",
              "      <td>116.864197</td>\n",
              "      <td>115.809998</td>\n",
              "      <td>116.610001</td>\n",
              "      <td>113.800064</td>\n",
              "      <td>22193587</td>\n",
              "      <td>0.508536</td>\n",
              "      <td>0.590004</td>\n",
              "    </tr>\n",
              "    <tr>\n",
              "      <th>2017-01-06</th>\n",
              "      <td>116.779999</td>\n",
              "      <td>118.160004</td>\n",
              "      <td>116.470001</td>\n",
              "      <td>117.910004</td>\n",
              "      <td>115.068756</td>\n",
              "      <td>31751900</td>\n",
              "      <td>1.114830</td>\n",
              "      <td>1.300003</td>\n",
              "    </tr>\n",
              "    <tr>\n",
              "      <th>2017-01-09</th>\n",
              "      <td>117.949997</td>\n",
              "      <td>119.430000</td>\n",
              "      <td>117.940002</td>\n",
              "      <td>118.989998</td>\n",
              "      <td>116.122711</td>\n",
              "      <td>33561948</td>\n",
              "      <td>0.915948</td>\n",
              "      <td>1.079994</td>\n",
              "    </tr>\n",
              "  </tbody>\n",
              "</table>\n",
              "</div>"
            ],
            "text/plain": [
              "                  Open        High         Low  ...    Volume    getiri      fark\n",
              "Date                                            ...                              \n",
              "2017-01-03  115.800003  116.330002  114.760002  ...  28781865       NaN       NaN\n",
              "2017-01-04  115.849998  116.510002  115.750000  ...  21118116 -0.111928 -0.130005\n",
              "2017-01-05  115.919998  116.864197  115.809998  ...  22193587  0.508536  0.590004\n",
              "2017-01-06  116.779999  118.160004  116.470001  ...  31751900  1.114830  1.300003\n",
              "2017-01-09  117.949997  119.430000  117.940002  ...  33561948  0.915948  1.079994\n",
              "\n",
              "[5 rows x 8 columns]"
            ]
          },
          "metadata": {},
          "execution_count": 6
        }
      ],
      "source": [
        "df2 = df.copy()\n",
        "df2['getiri'] = df2[\"Close\"].pct_change()*100\n",
        "df2['fark'] = df2[\"Close\"].diff()\n",
        "df2.head()"
      ]
    },
    {
      "cell_type": "code",
      "execution_count": 7,
      "metadata": {
        "colab": {
          "base_uri": "https://localhost:8080/",
          "height": 237
        },
        "id": "0aEY-9VA3Hqx",
        "outputId": "0489198e-2558-42c2-cd1d-faf237aae07d"
      },
      "outputs": [
        {
          "output_type": "execute_result",
          "data": {
            "text/html": [
              "<div>\n",
              "<style scoped>\n",
              "    .dataframe tbody tr th:only-of-type {\n",
              "        vertical-align: middle;\n",
              "    }\n",
              "\n",
              "    .dataframe tbody tr th {\n",
              "        vertical-align: top;\n",
              "    }\n",
              "\n",
              "    .dataframe thead th {\n",
              "        text-align: right;\n",
              "    }\n",
              "</style>\n",
              "<table border=\"1\" class=\"dataframe\">\n",
              "  <thead>\n",
              "    <tr style=\"text-align: right;\">\n",
              "      <th></th>\n",
              "      <th>Open</th>\n",
              "      <th>High</th>\n",
              "      <th>Low</th>\n",
              "      <th>Close</th>\n",
              "      <th>Adj Close</th>\n",
              "      <th>Volume</th>\n",
              "      <th>getiri</th>\n",
              "      <th>fark</th>\n",
              "    </tr>\n",
              "    <tr>\n",
              "      <th>Date</th>\n",
              "      <th></th>\n",
              "      <th></th>\n",
              "      <th></th>\n",
              "      <th></th>\n",
              "      <th></th>\n",
              "      <th></th>\n",
              "      <th></th>\n",
              "      <th></th>\n",
              "    </tr>\n",
              "  </thead>\n",
              "  <tbody>\n",
              "    <tr>\n",
              "      <th>2017-01-03</th>\n",
              "      <td>115.800003</td>\n",
              "      <td>116.330002</td>\n",
              "      <td>114.760002</td>\n",
              "      <td>116.150002</td>\n",
              "      <td>113.351158</td>\n",
              "      <td>28781865</td>\n",
              "      <td>NaN</td>\n",
              "      <td>NaN</td>\n",
              "    </tr>\n",
              "    <tr>\n",
              "      <th>2017-01-04</th>\n",
              "      <td>115.849998</td>\n",
              "      <td>116.510002</td>\n",
              "      <td>115.750000</td>\n",
              "      <td>116.019997</td>\n",
              "      <td>113.224281</td>\n",
              "      <td>21118116</td>\n",
              "      <td>-0.111928</td>\n",
              "      <td>-0.130005</td>\n",
              "    </tr>\n",
              "    <tr>\n",
              "      <th>2017-01-05</th>\n",
              "      <td>115.919998</td>\n",
              "      <td>116.864197</td>\n",
              "      <td>115.809998</td>\n",
              "      <td>116.610001</td>\n",
              "      <td>113.800064</td>\n",
              "      <td>22193587</td>\n",
              "      <td>0.508536</td>\n",
              "      <td>0.590004</td>\n",
              "    </tr>\n",
              "    <tr>\n",
              "      <th>2017-01-06</th>\n",
              "      <td>116.779999</td>\n",
              "      <td>118.160004</td>\n",
              "      <td>116.470001</td>\n",
              "      <td>117.910004</td>\n",
              "      <td>115.068756</td>\n",
              "      <td>31751900</td>\n",
              "      <td>1.114830</td>\n",
              "      <td>1.300003</td>\n",
              "    </tr>\n",
              "    <tr>\n",
              "      <th>2017-01-09</th>\n",
              "      <td>117.949997</td>\n",
              "      <td>119.430000</td>\n",
              "      <td>117.940002</td>\n",
              "      <td>118.989998</td>\n",
              "      <td>116.122711</td>\n",
              "      <td>33561948</td>\n",
              "      <td>0.915948</td>\n",
              "      <td>1.079994</td>\n",
              "    </tr>\n",
              "  </tbody>\n",
              "</table>\n",
              "</div>"
            ],
            "text/plain": [
              "                  Open        High         Low  ...    Volume    getiri      fark\n",
              "Date                                            ...                              \n",
              "2017-01-03  115.800003  116.330002  114.760002  ...  28781865       NaN       NaN\n",
              "2017-01-04  115.849998  116.510002  115.750000  ...  21118116 -0.111928 -0.130005\n",
              "2017-01-05  115.919998  116.864197  115.809998  ...  22193587  0.508536  0.590004\n",
              "2017-01-06  116.779999  118.160004  116.470001  ...  31751900  1.114830  1.300003\n",
              "2017-01-09  117.949997  119.430000  117.940002  ...  33561948  0.915948  1.079994\n",
              "\n",
              "[5 rows x 8 columns]"
            ]
          },
          "metadata": {},
          "execution_count": 7
        }
      ],
      "source": [
        "df3 = df.copy()\n",
        "df3[\"getiri\"] = (df3[\"Close\"] - df3[\"Close\"].shift(1))/df3[\"Close\"].shift(1)*100\n",
        "df3[\"fark\"] = df3[\"Close\"] - df3[\"Close\"].shift(1)\n",
        "df3.head()"
      ]
    },
    {
      "cell_type": "code",
      "execution_count": 8,
      "metadata": {
        "scrolled": true,
        "colab": {
          "base_uri": "https://localhost:8080/",
          "height": 336
        },
        "id": "1eQtZcEo3Hqy",
        "outputId": "71aa0be4-a6c8-48e5-fd07-22d5fd35c85f"
      },
      "outputs": [
        {
          "output_type": "stream",
          "name": "stderr",
          "text": [
            "/usr/local/lib/python3.7/dist-packages/seaborn/distributions.py:2619: FutureWarning: `distplot` is a deprecated function and will be removed in a future version. Please adapt your code to use either `displot` (a figure-level function with similar flexibility) or `histplot` (an axes-level function for histograms).\n",
            "  warnings.warn(msg, FutureWarning)\n"
          ]
        },
        {
          "output_type": "display_data",
          "data": {
            "image/png": "[encoded data removed]",
            "text/plain": [
              "<Figure size 432x288 with 1 Axes>"
            ]
          },
          "metadata": {
            "needs_background": "light"
          }
        }
      ],
      "source": [
        "import matplotlib.pyplot as plt \n",
        "import seaborn as sns\n",
        "sns.distplot(df2[\"getiri\"].dropna())\n",
        "plt.show()"
      ]
    },
    {
      "cell_type": "markdown",
      "source": [
        "**\"Normal Dağılım\"**"
      ],
      "metadata": {
        "id": "kJdM-Cxf3wo2"
      }
    },
    {
      "cell_type": "code",
      "execution_count": 9,
      "metadata": {
        "colab": {
          "base_uri": "https://localhost:8080/",
          "height": 237
        },
        "id": "QFnce_FP3Hqy",
        "outputId": "a817c797-ae01-49db-f8b9-9574463995b2"
      },
      "outputs": [
        {
          "output_type": "execute_result",
          "data": {
            "text/html": [
              "<div>\n",
              "<style scoped>\n",
              "    .dataframe tbody tr th:only-of-type {\n",
              "        vertical-align: middle;\n",
              "    }\n",
              "\n",
              "    .dataframe tbody tr th {\n",
              "        vertical-align: top;\n",
              "    }\n",
              "\n",
              "    .dataframe thead th {\n",
              "        text-align: right;\n",
              "    }\n",
              "</style>\n",
              "<table border=\"1\" class=\"dataframe\">\n",
              "  <thead>\n",
              "    <tr style=\"text-align: right;\">\n",
              "      <th></th>\n",
              "      <th>Open</th>\n",
              "      <th>High</th>\n",
              "      <th>Low</th>\n",
              "      <th>Close</th>\n",
              "      <th>Adj Close</th>\n",
              "      <th>Volume</th>\n",
              "      <th>fark_alter</th>\n",
              "    </tr>\n",
              "    <tr>\n",
              "      <th>Date</th>\n",
              "      <th></th>\n",
              "      <th></th>\n",
              "      <th></th>\n",
              "      <th></th>\n",
              "      <th></th>\n",
              "      <th></th>\n",
              "      <th></th>\n",
              "    </tr>\n",
              "  </thead>\n",
              "  <tbody>\n",
              "    <tr>\n",
              "      <th>2017-01-03</th>\n",
              "      <td>115.800003</td>\n",
              "      <td>116.330002</td>\n",
              "      <td>114.760002</td>\n",
              "      <td>116.150002</td>\n",
              "      <td>113.351158</td>\n",
              "      <td>28781865</td>\n",
              "      <td>NaN</td>\n",
              "    </tr>\n",
              "    <tr>\n",
              "      <th>2017-01-04</th>\n",
              "      <td>115.849998</td>\n",
              "      <td>116.510002</td>\n",
              "      <td>115.750000</td>\n",
              "      <td>116.019997</td>\n",
              "      <td>113.224281</td>\n",
              "      <td>21118116</td>\n",
              "      <td>-0.130005</td>\n",
              "    </tr>\n",
              "    <tr>\n",
              "      <th>2017-01-05</th>\n",
              "      <td>115.919998</td>\n",
              "      <td>116.864197</td>\n",
              "      <td>115.809998</td>\n",
              "      <td>116.610001</td>\n",
              "      <td>113.800064</td>\n",
              "      <td>22193587</td>\n",
              "      <td>0.590004</td>\n",
              "    </tr>\n",
              "    <tr>\n",
              "      <th>2017-01-06</th>\n",
              "      <td>116.779999</td>\n",
              "      <td>118.160004</td>\n",
              "      <td>116.470001</td>\n",
              "      <td>117.910004</td>\n",
              "      <td>115.068756</td>\n",
              "      <td>31751900</td>\n",
              "      <td>1.300003</td>\n",
              "    </tr>\n",
              "    <tr>\n",
              "      <th>2017-01-09</th>\n",
              "      <td>117.949997</td>\n",
              "      <td>119.430000</td>\n",
              "      <td>117.940002</td>\n",
              "      <td>118.989998</td>\n",
              "      <td>116.122711</td>\n",
              "      <td>33561948</td>\n",
              "      <td>1.079994</td>\n",
              "    </tr>\n",
              "  </tbody>\n",
              "</table>\n",
              "</div>"
            ],
            "text/plain": [
              "                  Open        High  ...    Volume  fark_alter\n",
              "Date                                ...                      \n",
              "2017-01-03  115.800003  116.330002  ...  28781865         NaN\n",
              "2017-01-04  115.849998  116.510002  ...  21118116   -0.130005\n",
              "2017-01-05  115.919998  116.864197  ...  22193587    0.590004\n",
              "2017-01-06  116.779999  118.160004  ...  31751900    1.300003\n",
              "2017-01-09  117.949997  119.430000  ...  33561948    1.079994\n",
              "\n",
              "[5 rows x 7 columns]"
            ]
          },
          "metadata": {},
          "execution_count": 9
        }
      ],
      "source": [
        "df['fark_alter'] = df.Close.diff()\n",
        "df.head()"
      ]
    },
    {
      "cell_type": "code",
      "execution_count": 10,
      "metadata": {
        "colab": {
          "base_uri": "https://localhost:8080/"
        },
        "id": "zRSk3EiE3Hqz",
        "outputId": "4191d3bd-12a5-4d52-89ee-0e272c729536"
      },
      "outputs": [
        {
          "output_type": "stream",
          "name": "stdout",
          "text": [
            "<class 'pandas.core.frame.DataFrame'>\n",
            "DatetimeIndex: 502 entries, 2017-01-03 to 2018-12-31\n",
            "Data columns (total 7 columns):\n",
            " #   Column      Non-Null Count  Dtype  \n",
            "---  ------      --------------  -----  \n",
            " 0   Open        502 non-null    float64\n",
            " 1   High        502 non-null    float64\n",
            " 2   Low         502 non-null    float64\n",
            " 3   Close       502 non-null    float64\n",
            " 4   Adj Close   502 non-null    float64\n",
            " 5   Volume      502 non-null    int64  \n",
            " 6   fark_alter  501 non-null    float64\n",
            "dtypes: float64(6), int64(1)\n",
            "memory usage: 31.4 KB\n"
          ]
        }
      ],
      "source": [
        "df.info()"
      ]
    },
    {
      "cell_type": "code",
      "execution_count": 11,
      "metadata": {
        "colab": {
          "base_uri": "https://localhost:8080/",
          "height": 295
        },
        "id": "DIpbdK313Hqz",
        "outputId": "6ce63877-80e5-42e8-e7e4-9e335b8be929"
      },
      "outputs": [
        {
          "output_type": "execute_result",
          "data": {
            "text/plain": [
              "<matplotlib.axes._subplots.AxesSubplot at 0x7feff7a2e8d0>"
            ]
          },
          "metadata": {},
          "execution_count": 11
        },
        {
          "output_type": "display_data",
          "data": {
            "image/png": "[encoded data removed]",
            "text/plain": [
              "<Figure size 432x288 with 1 Axes>"
            ]
          },
          "metadata": {
            "needs_background": "light"
          }
        }
      ],
      "source": [
        "df.Close.plot()"
      ]
    },
    {
      "cell_type": "code",
      "execution_count": 12,
      "metadata": {
        "colab": {
          "base_uri": "https://localhost:8080/",
          "height": 237
        },
        "id": "PUC98Drj3Hq0",
        "outputId": "7b98d49f-1294-4882-a6b6-3ea44b25ea85"
      },
      "outputs": [
        {
          "output_type": "execute_result",
          "data": {
            "text/html": [
              "<div>\n",
              "<style scoped>\n",
              "    .dataframe tbody tr th:only-of-type {\n",
              "        vertical-align: middle;\n",
              "    }\n",
              "\n",
              "    .dataframe tbody tr th {\n",
              "        vertical-align: top;\n",
              "    }\n",
              "\n",
              "    .dataframe thead th {\n",
              "        text-align: right;\n",
              "    }\n",
              "</style>\n",
              "<table border=\"1\" class=\"dataframe\">\n",
              "  <thead>\n",
              "    <tr style=\"text-align: right;\">\n",
              "      <th></th>\n",
              "      <th>Open</th>\n",
              "      <th>High</th>\n",
              "      <th>Low</th>\n",
              "      <th>Close</th>\n",
              "      <th>Adj Close</th>\n",
              "      <th>Volume</th>\n",
              "      <th>fark_alter</th>\n",
              "    </tr>\n",
              "    <tr>\n",
              "      <th>Date</th>\n",
              "      <th></th>\n",
              "      <th></th>\n",
              "      <th></th>\n",
              "      <th></th>\n",
              "      <th></th>\n",
              "      <th></th>\n",
              "      <th></th>\n",
              "    </tr>\n",
              "  </thead>\n",
              "  <tbody>\n",
              "    <tr>\n",
              "      <th>2017-02-01</th>\n",
              "      <td>127.029999</td>\n",
              "      <td>130.490005</td>\n",
              "      <td>127.010002</td>\n",
              "      <td>128.750000</td>\n",
              "      <td>125.647560</td>\n",
              "      <td>111985040</td>\n",
              "      <td>7.400002</td>\n",
              "    </tr>\n",
              "    <tr>\n",
              "      <th>2017-02-02</th>\n",
              "      <td>127.974998</td>\n",
              "      <td>129.389999</td>\n",
              "      <td>127.779999</td>\n",
              "      <td>128.529999</td>\n",
              "      <td>125.432838</td>\n",
              "      <td>33710411</td>\n",
              "      <td>-0.220001</td>\n",
              "    </tr>\n",
              "    <tr>\n",
              "      <th>2017-02-03</th>\n",
              "      <td>128.309998</td>\n",
              "      <td>129.190002</td>\n",
              "      <td>128.160004</td>\n",
              "      <td>129.080002</td>\n",
              "      <td>125.969597</td>\n",
              "      <td>24507301</td>\n",
              "      <td>0.550003</td>\n",
              "    </tr>\n",
              "    <tr>\n",
              "      <th>2017-02-06</th>\n",
              "      <td>129.130005</td>\n",
              "      <td>130.500000</td>\n",
              "      <td>128.899994</td>\n",
              "      <td>130.289993</td>\n",
              "      <td>127.150406</td>\n",
              "      <td>26845924</td>\n",
              "      <td>1.209991</td>\n",
              "    </tr>\n",
              "    <tr>\n",
              "      <th>2017-02-07</th>\n",
              "      <td>130.539993</td>\n",
              "      <td>132.089996</td>\n",
              "      <td>130.449997</td>\n",
              "      <td>131.529999</td>\n",
              "      <td>128.360550</td>\n",
              "      <td>38183841</td>\n",
              "      <td>1.240005</td>\n",
              "    </tr>\n",
              "  </tbody>\n",
              "</table>\n",
              "</div>"
            ],
            "text/plain": [
              "                  Open        High  ...     Volume  fark_alter\n",
              "Date                                ...                       \n",
              "2017-02-01  127.029999  130.490005  ...  111985040    7.400002\n",
              "2017-02-02  127.974998  129.389999  ...   33710411   -0.220001\n",
              "2017-02-03  128.309998  129.190002  ...   24507301    0.550003\n",
              "2017-02-06  129.130005  130.500000  ...   26845924    1.209991\n",
              "2017-02-07  130.539993  132.089996  ...   38183841    1.240005\n",
              "\n",
              "[5 rows x 7 columns]"
            ]
          },
          "metadata": {},
          "execution_count": 12
        }
      ],
      "source": [
        "df[\"2017-02\":\"2017-04\"].head()"
      ]
    },
    {
      "cell_type": "code",
      "execution_count": 13,
      "metadata": {
        "colab": {
          "base_uri": "https://localhost:8080/",
          "height": 143
        },
        "id": "UEwIMF1F3Hq0",
        "outputId": "4849fe8e-e508-422d-939e-e4f000f3e7a4"
      },
      "outputs": [
        {
          "output_type": "execute_result",
          "data": {
            "text/html": [
              "<div>\n",
              "<style scoped>\n",
              "    .dataframe tbody tr th:only-of-type {\n",
              "        vertical-align: middle;\n",
              "    }\n",
              "\n",
              "    .dataframe tbody tr th {\n",
              "        vertical-align: top;\n",
              "    }\n",
              "\n",
              "    .dataframe thead th {\n",
              "        text-align: right;\n",
              "    }\n",
              "</style>\n",
              "<table border=\"1\" class=\"dataframe\">\n",
              "  <thead>\n",
              "    <tr style=\"text-align: right;\">\n",
              "      <th></th>\n",
              "      <th>Open</th>\n",
              "      <th>High</th>\n",
              "      <th>Low</th>\n",
              "      <th>Close</th>\n",
              "      <th>Adj Close</th>\n",
              "      <th>Volume</th>\n",
              "      <th>fark_alter</th>\n",
              "    </tr>\n",
              "    <tr>\n",
              "      <th>Date</th>\n",
              "      <th></th>\n",
              "      <th></th>\n",
              "      <th></th>\n",
              "      <th></th>\n",
              "      <th></th>\n",
              "      <th></th>\n",
              "      <th></th>\n",
              "    </tr>\n",
              "  </thead>\n",
              "  <tbody>\n",
              "    <tr>\n",
              "      <th>2017-02-02</th>\n",
              "      <td>127.974998</td>\n",
              "      <td>129.389999</td>\n",
              "      <td>127.779999</td>\n",
              "      <td>128.529999</td>\n",
              "      <td>125.432838</td>\n",
              "      <td>33710411</td>\n",
              "      <td>-0.220001</td>\n",
              "    </tr>\n",
              "    <tr>\n",
              "      <th>2017-02-03</th>\n",
              "      <td>128.309998</td>\n",
              "      <td>129.190002</td>\n",
              "      <td>128.160004</td>\n",
              "      <td>129.080002</td>\n",
              "      <td>125.969597</td>\n",
              "      <td>24507301</td>\n",
              "      <td>0.550003</td>\n",
              "    </tr>\n",
              "  </tbody>\n",
              "</table>\n",
              "</div>"
            ],
            "text/plain": [
              "                  Open        High  ...    Volume  fark_alter\n",
              "Date                                ...                      \n",
              "2017-02-02  127.974998  129.389999  ...  33710411   -0.220001\n",
              "2017-02-03  128.309998  129.190002  ...  24507301    0.550003\n",
              "\n",
              "[2 rows x 7 columns]"
            ]
          },
          "metadata": {},
          "execution_count": 13
        }
      ],
      "source": [
        "df[\"2017-02-02\":\"2017-02-05\"].head()"
      ]
    },
    {
      "cell_type": "code",
      "execution_count": 14,
      "metadata": {
        "colab": {
          "base_uri": "https://localhost:8080/",
          "height": 457
        },
        "id": "Wg4f1TGy3Hq1",
        "outputId": "123bbbb9-2be7-463d-a89a-1c429e18aca9"
      },
      "outputs": [
        {
          "output_type": "execute_result",
          "data": {
            "text/html": [
              "<div>\n",
              "<style scoped>\n",
              "    .dataframe tbody tr th:only-of-type {\n",
              "        vertical-align: middle;\n",
              "    }\n",
              "\n",
              "    .dataframe tbody tr th {\n",
              "        vertical-align: top;\n",
              "    }\n",
              "\n",
              "    .dataframe thead th {\n",
              "        text-align: right;\n",
              "    }\n",
              "</style>\n",
              "<table border=\"1\" class=\"dataframe\">\n",
              "  <thead>\n",
              "    <tr style=\"text-align: right;\">\n",
              "      <th></th>\n",
              "      <th>Open</th>\n",
              "      <th>High</th>\n",
              "      <th>Low</th>\n",
              "      <th>Close</th>\n",
              "      <th>Adj Close</th>\n",
              "      <th>Volume</th>\n",
              "      <th>fark_alter</th>\n",
              "    </tr>\n",
              "    <tr>\n",
              "      <th>Date</th>\n",
              "      <th></th>\n",
              "      <th></th>\n",
              "      <th></th>\n",
              "      <th></th>\n",
              "      <th></th>\n",
              "      <th></th>\n",
              "      <th></th>\n",
              "    </tr>\n",
              "  </thead>\n",
              "  <tbody>\n",
              "    <tr>\n",
              "      <th>1</th>\n",
              "      <td>147.226950</td>\n",
              "      <td>148.216939</td>\n",
              "      <td>146.460883</td>\n",
              "      <td>147.451463</td>\n",
              "      <td>144.245405</td>\n",
              "      <td>2.982953e+07</td>\n",
              "      <td>0.085000</td>\n",
              "    </tr>\n",
              "    <tr>\n",
              "      <th>2</th>\n",
              "      <td>150.255264</td>\n",
              "      <td>152.024210</td>\n",
              "      <td>149.158113</td>\n",
              "      <td>150.676447</td>\n",
              "      <td>147.479096</td>\n",
              "      <td>3.954738e+07</td>\n",
              "      <td>0.692895</td>\n",
              "    </tr>\n",
              "    <tr>\n",
              "      <th>3</th>\n",
              "      <td>156.923068</td>\n",
              "      <td>158.189436</td>\n",
              "      <td>155.626955</td>\n",
              "      <td>156.787046</td>\n",
              "      <td>153.493703</td>\n",
              "      <td>2.899588e+07</td>\n",
              "      <td>-0.083409</td>\n",
              "    </tr>\n",
              "    <tr>\n",
              "      <th>4</th>\n",
              "      <td>157.126816</td>\n",
              "      <td>158.329079</td>\n",
              "      <td>155.958784</td>\n",
              "      <td>157.034250</td>\n",
              "      <td>153.757759</td>\n",
              "      <td>2.599102e+07</td>\n",
              "      <td>-0.063250</td>\n",
              "    </tr>\n",
              "    <tr>\n",
              "      <th>5</th>\n",
              "      <td>168.460914</td>\n",
              "      <td>169.765231</td>\n",
              "      <td>167.485380</td>\n",
              "      <td>168.882272</td>\n",
              "      <td>165.452043</td>\n",
              "      <td>2.889175e+07</td>\n",
              "      <td>0.698182</td>\n",
              "    </tr>\n",
              "    <tr>\n",
              "      <th>6</th>\n",
              "      <td>167.996373</td>\n",
              "      <td>168.986514</td>\n",
              "      <td>166.525930</td>\n",
              "      <td>167.752092</td>\n",
              "      <td>164.402831</td>\n",
              "      <td>2.818145e+07</td>\n",
              "      <td>-0.244186</td>\n",
              "    </tr>\n",
              "    <tr>\n",
              "      <th>7</th>\n",
              "      <td>169.659761</td>\n",
              "      <td>170.874978</td>\n",
              "      <td>168.571190</td>\n",
              "      <td>169.817805</td>\n",
              "      <td>166.443240</td>\n",
              "      <td>1.989892e+07</td>\n",
              "      <td>0.241219</td>\n",
              "    </tr>\n",
              "    <tr>\n",
              "      <th>8</th>\n",
              "      <td>185.632936</td>\n",
              "      <td>187.356563</td>\n",
              "      <td>184.554468</td>\n",
              "      <td>186.183697</td>\n",
              "      <td>182.600941</td>\n",
              "      <td>2.959539e+07</td>\n",
              "      <td>1.143696</td>\n",
              "    </tr>\n",
              "    <tr>\n",
              "      <th>9</th>\n",
              "      <td>189.408975</td>\n",
              "      <td>190.858152</td>\n",
              "      <td>187.446334</td>\n",
              "      <td>189.014616</td>\n",
              "      <td>185.427670</td>\n",
              "      <td>3.485677e+07</td>\n",
              "      <td>-0.301795</td>\n",
              "    </tr>\n",
              "    <tr>\n",
              "      <th>10</th>\n",
              "      <td>189.987222</td>\n",
              "      <td>191.989988</td>\n",
              "      <td>187.952307</td>\n",
              "      <td>190.031778</td>\n",
              "      <td>186.440617</td>\n",
              "      <td>2.875643e+07</td>\n",
              "      <td>0.178667</td>\n",
              "    </tr>\n",
              "    <tr>\n",
              "      <th>11</th>\n",
              "      <td>182.179642</td>\n",
              "      <td>183.688552</td>\n",
              "      <td>179.845619</td>\n",
              "      <td>181.820953</td>\n",
              "      <td>178.450319</td>\n",
              "      <td>3.719013e+07</td>\n",
              "      <td>-0.892143</td>\n",
              "    </tr>\n",
              "    <tr>\n",
              "      <th>12</th>\n",
              "      <td>168.565641</td>\n",
              "      <td>170.174323</td>\n",
              "      <td>166.484616</td>\n",
              "      <td>168.176667</td>\n",
              "      <td>165.071271</td>\n",
              "      <td>3.666926e+07</td>\n",
              "      <td>-0.601539</td>\n",
              "    </tr>\n",
              "  </tbody>\n",
              "</table>\n",
              "</div>"
            ],
            "text/plain": [
              "            Open        High         Low  ...   Adj Close        Volume  fark_alter\n",
              "Date                                      ...                                      \n",
              "1     147.226950  148.216939  146.460883  ...  144.245405  2.982953e+07    0.085000\n",
              "2     150.255264  152.024210  149.158113  ...  147.479096  3.954738e+07    0.692895\n",
              "3     156.923068  158.189436  155.626955  ...  153.493703  2.899588e+07   -0.083409\n",
              "4     157.126816  158.329079  155.958784  ...  153.757759  2.599102e+07   -0.063250\n",
              "5     168.460914  169.765231  167.485380  ...  165.452043  2.889175e+07    0.698182\n",
              "6     167.996373  168.986514  166.525930  ...  164.402831  2.818145e+07   -0.244186\n",
              "7     169.659761  170.874978  168.571190  ...  166.443240  1.989892e+07    0.241219\n",
              "8     185.632936  187.356563  184.554468  ...  182.600941  2.959539e+07    1.143696\n",
              "9     189.408975  190.858152  187.446334  ...  185.427670  3.485677e+07   -0.301795\n",
              "10    189.987222  191.989988  187.952307  ...  186.440617  2.875643e+07    0.178667\n",
              "11    182.179642  183.688552  179.845619  ...  178.450319  3.719013e+07   -0.892143\n",
              "12    168.565641  170.174323  166.484616  ...  165.071271  3.666926e+07   -0.601539\n",
              "\n",
              "[12 rows x 7 columns]"
            ]
          },
          "metadata": {},
          "execution_count": 14
        }
      ],
      "source": [
        "df.groupby(df.index.month).mean()"
      ]
    }
  ],
  "metadata": {
    "kernelspec": {
      "display_name": "Python 3",
      "language": "python",
      "name": "python3"
    },
    "language_info": {
      "codemirror_mode": {
        "name": "ipython",
        "version": 3
      },
      "file_extension": ".py",
      "mimetype": "text/x-python",
      "name": "python",
      "nbconvert_exporter": "python",
      "pygments_lexer": "ipython3",
      "version": "3.7.5"
    },
    "colab": {
      "name": "A_03_Statistical_distributions_tr.ipynb",
      "provenance": []
    }
  },
  "nbformat": 4,
  "nbformat_minor": 0
}