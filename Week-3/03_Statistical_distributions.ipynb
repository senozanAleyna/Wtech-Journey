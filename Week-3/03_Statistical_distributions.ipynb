{
  "cells": [
    {
      "cell_type": "markdown",
      "metadata": {
        "id": "afg3DcpefsD-"
      },
      "source": [
        "# 3.İstatistiksel Dağılımlar "
      ]
    },
    {
      "cell_type": "markdown",
      "metadata": {
        "id": "lZ5BMKa_fsEC"
      },
      "source": [
        "<p>Servet ve gelir dağılımları bazen Pareto dağılımı kullanılarak modellenir. Bunun geçerli olup olmadığına bakmak için <a href=\"https://www.census.gov/data/tables/time-series/demo/income-poverty/cps-hinc/hinc-06.html\">şu adresteki</a> veriyi kullanalım. Bu veriyi kullanarak gelirin dağılımını elde edin. Hangisi dağılıma daha çok uymaktadır?</p>"
      ]
    },
    {
      "cell_type": "markdown",
      "metadata": {
        "id": "S-2xX-AkfsED"
      },
      "source": [
        "<li><p><code>https://finance.yahoo.com/</code> sitesini kullanarak google şirketinin 2015-2017 yılları arasında hisse senedi fiyatlarını elde edin. Bu veriyi kullanarak hisse senedi getirisini şu formülle hesaplayın: <span class=\"MathJax_Preview\" style=\"color: inherit; display: none;\"></span><span class=\"mjx-chtml MJXc-display\" style=\"text-align: center;\"><span id=\"MathJax-Element-36-Frame\" class=\"mjx-chtml MathJax_CHTML\" tabindex=\"0\" style=\"font-size: 113%; text-align: center; position: relative;\" data-mathml=\"<math xmlns=&quot;http://www.w3.org/1998/Math/MathML&quot; display=&quot;block&quot;><msub><mi>P</mi><mi>t</mi></msub><mo>&amp;#x2212;</mo><msub><mi>P</mi><mrow class=&quot;MJX-TeXAtom-ORD&quot;><mi>t</mi><mo>&amp;#x2212;</mo><mn>1</mn></mrow></msub><mrow class=&quot;MJX-TeXAtom-ORD&quot;><mo>/</mo></mrow><msub><mi>P</mi><mrow class=&quot;MJX-TeXAtom-ORD&quot;><mi>t</mi><mo>&amp;#x2212;</mo><mn>1</mn></mrow></msub></math>\" role=\"presentation\"><span id=\"MJXc-Node-542\" class=\"mjx-math\" aria-hidden=\"true\"><span id=\"MJXc-Node-543\" class=\"mjx-mrow\"><span id=\"MJXc-Node-544\" class=\"mjx-msubsup\"><span class=\"mjx-base\" style=\"margin-right: -0.109em;\"><span id=\"MJXc-Node-545\" class=\"mjx-mi\"><span class=\"mjx-char MJXc-TeX-math-I\" style=\"padding-top: 0.471em; padding-bottom: 0.263em; padding-right: 0.109em;\">P</span></span></span><span class=\"mjx-sub\" style=\"font-size: 70.7%; vertical-align: -0.212em; padding-right: 0.071em;\"><span id=\"MJXc-Node-546\" class=\"mjx-mi\" style=\"\"><span class=\"mjx-char MJXc-TeX-math-I\" style=\"padding-top: 0.419em; padding-bottom: 0.263em;\">t</span></span></span></span><span id=\"MJXc-Node-547\" class=\"mjx-mo MJXc-space2\"><span class=\"mjx-char MJXc-TeX-main-R\" style=\"padding-top: 0.315em; padding-bottom: 0.419em;\">−</span></span><span id=\"MJXc-Node-548\" class=\"mjx-msubsup MJXc-space2\"><span class=\"mjx-base\" style=\"margin-right: -0.109em;\"><span id=\"MJXc-Node-549\" class=\"mjx-mi\"><span class=\"mjx-char MJXc-TeX-math-I\" style=\"padding-top: 0.471em; padding-bottom: 0.263em; padding-right: 0.109em;\">P</span></span></span><span class=\"mjx-sub\" style=\"font-size: 70.7%; vertical-align: -0.212em; padding-right: 0.071em;\"><span id=\"MJXc-Node-550\" class=\"mjx-texatom\" style=\"\"><span id=\"MJXc-Node-551\" class=\"mjx-mrow\"><span id=\"MJXc-Node-552\" class=\"mjx-mi\"><span class=\"mjx-char MJXc-TeX-math-I\" style=\"padding-top: 0.419em; padding-bottom: 0.263em;\">t</span></span><span id=\"MJXc-Node-553\" class=\"mjx-mo\"><span class=\"mjx-char MJXc-TeX-main-R\" style=\"padding-top: 0.315em; padding-bottom: 0.419em;\">−</span></span><span id=\"MJXc-Node-554\" class=\"mjx-mn\"><span class=\"mjx-char MJXc-TeX-main-R\" style=\"padding-top: 0.367em; padding-bottom: 0.367em;\">1</span></span></span></span></span></span><span id=\"MJXc-Node-555\" class=\"mjx-texatom\"><span id=\"MJXc-Node-556\" class=\"mjx-mrow\"><span id=\"MJXc-Node-557\" class=\"mjx-mo\"><span class=\"mjx-char MJXc-TeX-main-R\" style=\"padding-top: 0.471em; padding-bottom: 0.575em;\">/</span></span></span></span><span id=\"MJXc-Node-558\" class=\"mjx-msubsup\"><span class=\"mjx-base\" style=\"margin-right: -0.109em;\"><span id=\"MJXc-Node-559\" class=\"mjx-mi\"><span class=\"mjx-char MJXc-TeX-math-I\" style=\"padding-top: 0.471em; padding-bottom: 0.263em; padding-right: 0.109em;\">P</span></span></span><span class=\"mjx-sub\" style=\"font-size: 70.7%; vertical-align: -0.212em; padding-right: 0.071em;\"><span id=\"MJXc-Node-560\" class=\"mjx-texatom\" style=\"\"><span id=\"MJXc-Node-561\" class=\"mjx-mrow\"><span id=\"MJXc-Node-562\" class=\"mjx-mi\"><span class=\"mjx-char MJXc-TeX-math-I\" style=\"padding-top: 0.419em; padding-bottom: 0.263em;\">t</span></span><span id=\"MJXc-Node-563\" class=\"mjx-mo\"><span class=\"mjx-char MJXc-TeX-main-R\" style=\"padding-top: 0.315em; padding-bottom: 0.419em;\">−</span></span><span id=\"MJXc-Node-564\" class=\"mjx-mn\"><span class=\"mjx-char MJXc-TeX-main-R\" style=\"padding-top: 0.367em; padding-bottom: 0.367em;\">1</span></span></span></span></span></span></span></span><span class=\"MJX_Assistive_MathML MJX_Assistive_MathML_Block\" role=\"presentation\"><math xmlns=\"http://www.w3.org/1998/Math/MathML\" display=\"block\"><msub><mi>P</mi><mi>t</mi></msub><mo>−</mo><msub><mi>P</mi><mrow class=\"MJX-TeXAtom-ORD\"><mi>t</mi><mo>−</mo><mn>1</mn></mrow></msub><mrow class=\"MJX-TeXAtom-ORD\"><mo>/</mo></mrow><msub><mi>P</mi><mrow class=\"MJX-TeXAtom-ORD\"><mi>t</mi><mo>−</mo><mn>1</mn></mrow></msub></math></span></span></span><script type=\"math/tex; mode=display\" id=\"MathJax-Element-36\">P_t-P_{t-1}/P_{t-1} </script> (burada <span class=\"MathJax_Preview\" style=\"color: inherit; display: none;\"></span><span id=\"MathJax-Element-37-Frame\" class=\"mjx-chtml MathJax_CHTML\" tabindex=\"0\" style=\"font-size: 113%; position: relative;\" data-mathml=\"<math xmlns=&quot;http://www.w3.org/1998/Math/MathML&quot;><msub><mi>P</mi><mi>t</mi></msub></math>\" role=\"presentation\"><span id=\"MJXc-Node-565\" class=\"mjx-math\" aria-hidden=\"true\"><span id=\"MJXc-Node-566\" class=\"mjx-mrow\"><span id=\"MJXc-Node-567\" class=\"mjx-msubsup\"><span class=\"mjx-base\" style=\"margin-right: -0.109em;\"><span id=\"MJXc-Node-568\" class=\"mjx-mi\"><span class=\"mjx-char MJXc-TeX-math-I\" style=\"padding-top: 0.471em; padding-bottom: 0.263em; padding-right: 0.109em;\">P</span></span></span><span class=\"mjx-sub\" style=\"font-size: 70.7%; vertical-align: -0.212em; padding-right: 0.071em;\"><span id=\"MJXc-Node-569\" class=\"mjx-mi\" style=\"\"><span class=\"mjx-char MJXc-TeX-math-I\" style=\"padding-top: 0.419em; padding-bottom: 0.263em;\">t</span></span></span></span></span></span><span class=\"MJX_Assistive_MathML\" role=\"presentation\"><math xmlns=\"http://www.w3.org/1998/Math/MathML\"><msub><mi>P</mi><mi>t</mi></msub></math></span></span><script type=\"math/tex\" id=\"MathJax-Element-37\">P_t</script> t zamanındaki hisse senedi fiyatını ve <span class=\"MathJax_Preview\" style=\"color: inherit; display: none;\"></span><span id=\"MathJax-Element-38-Frame\" class=\"mjx-chtml MathJax_CHTML\" tabindex=\"0\" style=\"font-size: 113%; position: relative;\" data-mathml=\"<math xmlns=&quot;http://www.w3.org/1998/Math/MathML&quot;><msub><mi>P</mi><mrow class=&quot;MJX-TeXAtom-ORD&quot;><mi>t</mi><mo>&amp;#x2212;</mo><mn>1</mn></mrow></msub></math>\" role=\"presentation\"><span id=\"MJXc-Node-570\" class=\"mjx-math\" aria-hidden=\"true\"><span id=\"MJXc-Node-571\" class=\"mjx-mrow\"><span id=\"MJXc-Node-572\" class=\"mjx-msubsup\"><span class=\"mjx-base\" style=\"margin-right: -0.109em;\"><span id=\"MJXc-Node-573\" class=\"mjx-mi\"><span class=\"mjx-char MJXc-TeX-math-I\" style=\"padding-top: 0.471em; padding-bottom: 0.263em; padding-right: 0.109em;\">P</span></span></span><span class=\"mjx-sub\" style=\"font-size: 70.7%; vertical-align: -0.212em; padding-right: 0.071em;\"><span id=\"MJXc-Node-574\" class=\"mjx-texatom\" style=\"\"><span id=\"MJXc-Node-575\" class=\"mjx-mrow\"><span id=\"MJXc-Node-576\" class=\"mjx-mi\"><span class=\"mjx-char MJXc-TeX-math-I\" style=\"padding-top: 0.419em; padding-bottom: 0.263em;\">t</span></span><span id=\"MJXc-Node-577\" class=\"mjx-mo\"><span class=\"mjx-char MJXc-TeX-main-R\" style=\"padding-top: 0.315em; padding-bottom: 0.419em;\">−</span></span><span id=\"MJXc-Node-578\" class=\"mjx-mn\"><span class=\"mjx-char MJXc-TeX-main-R\" style=\"padding-top: 0.367em; padding-bottom: 0.367em;\">1</span></span></span></span></span></span></span></span><span class=\"MJX_Assistive_MathML\" role=\"presentation\"><math xmlns=\"http://www.w3.org/1998/Math/MathML\"><msub><mi>P</mi><mrow class=\"MJX-TeXAtom-ORD\"><mi>t</mi><mo>−</mo><mn>1</mn></mrow></msub></math></span></span><script type=\"math/tex\" id=\"MathJax-Element-38\">P_{t-1}</script> ise t-1 zamanındaki hisse senedi fiyatını vermektedir). Getiriler dağılımı hangi dağılıma daha yakındır?</p>\n",
        "\n",
        "<p>Not: <code>https://finance.yahoo.com/</code> adresi kullanılarak veri şu şekilde çekilir. Verilen adresi tıkladıktan sonra yukarıdaki arama bölümüne aramak istediğiniz hisse senedinin adını yazın (Örneğin, google). Arama sonucu altta çıkan sonuca tıklayarak ilgili hisse senedine gidiniz. İlgili hisse senedinin bilgilerinin bulunduğu sayfaya gelindiğinde <code>Historical Prices</code> (<code>Geçmiş veriler</code>)  sekmesine tıklayıp ve ilgili tarih aralığını seçtikten sonra, <code>Apply</code>a tıklıyoruz ve son olarak <code>Download Data</code> butonuna basarak veriyi indiriyoruz.</p></li>"
      ]
    },
    {
      "cell_type": "code",
      "execution_count": null,
      "metadata": {
        "id": "S_zjyvQXfsEF"
      },
      "outputs": [],
      "source": [
        "#!pip install yfinance"
      ]
    },
    {
      "cell_type": "code",
      "execution_count": null,
      "metadata": {
        "id": "QRAaH4sEfsEG"
      },
      "outputs": [],
      "source": [
        "import pandas as pd\n",
        "import yfinance as yf"
      ]
    },
    {
      "cell_type": "code",
      "execution_count": null,
      "metadata": {
        "id": "LsVPxX3efsEH",
        "outputId": "ffe500da-1a65-4fe3-f9ff-b6611e87ccd8"
      },
      "outputs": [
        {
          "name": "stdout",
          "output_type": "stream",
          "text": [
            "[*********************100%***********************]  1 of 1 completed\n"
          ]
        }
      ],
      "source": [
        "df = yf.download('AAPL',\n",
        "            start = \"2017-01-01\",\n",
        "            end = \"2019-01-01\", \n",
        "            interval='1d', prepost=True)"
      ]
    },
    {
      "cell_type": "code",
      "execution_count": null,
      "metadata": {
        "id": "F5ki5DhpfsEI",
        "outputId": "3b30ad74-6fc1-4a43-82b9-e802ae4304e7"
      },
      "outputs": [
        {
          "name": "stdout",
          "output_type": "stream",
          "text": [
            "<class 'pandas.core.frame.DataFrame'>\n",
            "DatetimeIndex: 502 entries, 2017-01-03 to 2018-12-31\n",
            "Data columns (total 6 columns):\n",
            "Open         502 non-null float64\n",
            "High         502 non-null float64\n",
            "Low          502 non-null float64\n",
            "Close        502 non-null float64\n",
            "Adj Close    502 non-null float64\n",
            "Volume       502 non-null int64\n",
            "dtypes: float64(5), int64(1)\n",
            "memory usage: 27.5 KB\n"
          ]
        }
      ],
      "source": [
        "df.info()"
      ]
    },
    {
      "cell_type": "code",
      "execution_count": null,
      "metadata": {
        "id": "g7TG0oddfsEJ",
        "outputId": "645e7f2a-16ff-488e-8eac-728695d7f495"
      },
      "outputs": [
        {
          "data": {
            "text/html": [
              "<div>\n",
              "<style scoped>\n",
              "    .dataframe tbody tr th:only-of-type {\n",
              "        vertical-align: middle;\n",
              "    }\n",
              "\n",
              "    .dataframe tbody tr th {\n",
              "        vertical-align: top;\n",
              "    }\n",
              "\n",
              "    .dataframe thead th {\n",
              "        text-align: right;\n",
              "    }\n",
              "</style>\n",
              "<table border=\"1\" class=\"dataframe\">\n",
              "  <thead>\n",
              "    <tr style=\"text-align: right;\">\n",
              "      <th></th>\n",
              "      <th>Open</th>\n",
              "      <th>High</th>\n",
              "      <th>Low</th>\n",
              "      <th>Close</th>\n",
              "      <th>Adj Close</th>\n",
              "      <th>Volume</th>\n",
              "      <th>getiri</th>\n",
              "      <th>fark</th>\n",
              "    </tr>\n",
              "    <tr>\n",
              "      <th>Date</th>\n",
              "      <th></th>\n",
              "      <th></th>\n",
              "      <th></th>\n",
              "      <th></th>\n",
              "      <th></th>\n",
              "      <th></th>\n",
              "      <th></th>\n",
              "      <th></th>\n",
              "    </tr>\n",
              "  </thead>\n",
              "  <tbody>\n",
              "    <tr>\n",
              "      <th>2017-01-03</th>\n",
              "      <td>115.800003</td>\n",
              "      <td>116.330002</td>\n",
              "      <td>114.760002</td>\n",
              "      <td>116.150002</td>\n",
              "      <td>110.691154</td>\n",
              "      <td>28781900</td>\n",
              "      <td>NaN</td>\n",
              "      <td>NaN</td>\n",
              "    </tr>\n",
              "    <tr>\n",
              "      <th>2017-01-04</th>\n",
              "      <td>115.849998</td>\n",
              "      <td>116.510002</td>\n",
              "      <td>115.750000</td>\n",
              "      <td>116.019997</td>\n",
              "      <td>110.567276</td>\n",
              "      <td>21118100</td>\n",
              "      <td>-0.111928</td>\n",
              "      <td>-0.130005</td>\n",
              "    </tr>\n",
              "    <tr>\n",
              "      <th>2017-01-05</th>\n",
              "      <td>115.919998</td>\n",
              "      <td>116.860001</td>\n",
              "      <td>115.809998</td>\n",
              "      <td>116.610001</td>\n",
              "      <td>111.129562</td>\n",
              "      <td>22193600</td>\n",
              "      <td>0.508536</td>\n",
              "      <td>0.590004</td>\n",
              "    </tr>\n",
              "    <tr>\n",
              "      <th>2017-01-06</th>\n",
              "      <td>116.779999</td>\n",
              "      <td>118.160004</td>\n",
              "      <td>116.470001</td>\n",
              "      <td>117.910004</td>\n",
              "      <td>112.368469</td>\n",
              "      <td>31751900</td>\n",
              "      <td>1.114830</td>\n",
              "      <td>1.300003</td>\n",
              "    </tr>\n",
              "    <tr>\n",
              "      <th>2017-01-09</th>\n",
              "      <td>117.949997</td>\n",
              "      <td>119.430000</td>\n",
              "      <td>117.940002</td>\n",
              "      <td>118.989998</td>\n",
              "      <td>113.397697</td>\n",
              "      <td>33561900</td>\n",
              "      <td>0.915948</td>\n",
              "      <td>1.079994</td>\n",
              "    </tr>\n",
              "  </tbody>\n",
              "</table>\n",
              "</div>"
            ],
            "text/plain": [
              "                  Open        High         Low       Close   Adj Close  \\\n",
              "Date                                                                     \n",
              "2017-01-03  115.800003  116.330002  114.760002  116.150002  110.691154   \n",
              "2017-01-04  115.849998  116.510002  115.750000  116.019997  110.567276   \n",
              "2017-01-05  115.919998  116.860001  115.809998  116.610001  111.129562   \n",
              "2017-01-06  116.779999  118.160004  116.470001  117.910004  112.368469   \n",
              "2017-01-09  117.949997  119.430000  117.940002  118.989998  113.397697   \n",
              "\n",
              "              Volume    getiri      fark  \n",
              "Date                                      \n",
              "2017-01-03  28781900       NaN       NaN  \n",
              "2017-01-04  21118100 -0.111928 -0.130005  \n",
              "2017-01-05  22193600  0.508536  0.590004  \n",
              "2017-01-06  31751900  1.114830  1.300003  \n",
              "2017-01-09  33561900  0.915948  1.079994  "
            ]
          },
          "execution_count": 5,
          "metadata": {},
          "output_type": "execute_result"
        }
      ],
      "source": [
        "df2 = df.copy()\n",
        "df2['getiri'] = df2[\"Close\"].pct_change()*100\n",
        "df2['fark'] = df2[\"Close\"].diff()\n",
        "df2.head()"
      ]
    },
    {
      "cell_type": "code",
      "execution_count": null,
      "metadata": {
        "id": "-vCh-7YQfsEJ",
        "outputId": "673b30be-7b08-46c0-fcb5-397b4f3b9b28"
      },
      "outputs": [
        {
          "data": {
            "text/html": [
              "<div>\n",
              "<style scoped>\n",
              "    .dataframe tbody tr th:only-of-type {\n",
              "        vertical-align: middle;\n",
              "    }\n",
              "\n",
              "    .dataframe tbody tr th {\n",
              "        vertical-align: top;\n",
              "    }\n",
              "\n",
              "    .dataframe thead th {\n",
              "        text-align: right;\n",
              "    }\n",
              "</style>\n",
              "<table border=\"1\" class=\"dataframe\">\n",
              "  <thead>\n",
              "    <tr style=\"text-align: right;\">\n",
              "      <th></th>\n",
              "      <th>Open</th>\n",
              "      <th>High</th>\n",
              "      <th>Low</th>\n",
              "      <th>Close</th>\n",
              "      <th>Adj Close</th>\n",
              "      <th>Volume</th>\n",
              "      <th>getiri</th>\n",
              "      <th>fark</th>\n",
              "    </tr>\n",
              "    <tr>\n",
              "      <th>Date</th>\n",
              "      <th></th>\n",
              "      <th></th>\n",
              "      <th></th>\n",
              "      <th></th>\n",
              "      <th></th>\n",
              "      <th></th>\n",
              "      <th></th>\n",
              "      <th></th>\n",
              "    </tr>\n",
              "  </thead>\n",
              "  <tbody>\n",
              "    <tr>\n",
              "      <th>2017-01-03</th>\n",
              "      <td>115.800003</td>\n",
              "      <td>116.330002</td>\n",
              "      <td>114.760002</td>\n",
              "      <td>116.150002</td>\n",
              "      <td>110.691154</td>\n",
              "      <td>28781900</td>\n",
              "      <td>NaN</td>\n",
              "      <td>NaN</td>\n",
              "    </tr>\n",
              "    <tr>\n",
              "      <th>2017-01-04</th>\n",
              "      <td>115.849998</td>\n",
              "      <td>116.510002</td>\n",
              "      <td>115.750000</td>\n",
              "      <td>116.019997</td>\n",
              "      <td>110.567276</td>\n",
              "      <td>21118100</td>\n",
              "      <td>-0.111928</td>\n",
              "      <td>-0.130005</td>\n",
              "    </tr>\n",
              "    <tr>\n",
              "      <th>2017-01-05</th>\n",
              "      <td>115.919998</td>\n",
              "      <td>116.860001</td>\n",
              "      <td>115.809998</td>\n",
              "      <td>116.610001</td>\n",
              "      <td>111.129562</td>\n",
              "      <td>22193600</td>\n",
              "      <td>0.508536</td>\n",
              "      <td>0.590004</td>\n",
              "    </tr>\n",
              "    <tr>\n",
              "      <th>2017-01-06</th>\n",
              "      <td>116.779999</td>\n",
              "      <td>118.160004</td>\n",
              "      <td>116.470001</td>\n",
              "      <td>117.910004</td>\n",
              "      <td>112.368469</td>\n",
              "      <td>31751900</td>\n",
              "      <td>1.114830</td>\n",
              "      <td>1.300003</td>\n",
              "    </tr>\n",
              "    <tr>\n",
              "      <th>2017-01-09</th>\n",
              "      <td>117.949997</td>\n",
              "      <td>119.430000</td>\n",
              "      <td>117.940002</td>\n",
              "      <td>118.989998</td>\n",
              "      <td>113.397697</td>\n",
              "      <td>33561900</td>\n",
              "      <td>0.915948</td>\n",
              "      <td>1.079994</td>\n",
              "    </tr>\n",
              "  </tbody>\n",
              "</table>\n",
              "</div>"
            ],
            "text/plain": [
              "                  Open        High         Low       Close   Adj Close  \\\n",
              "Date                                                                     \n",
              "2017-01-03  115.800003  116.330002  114.760002  116.150002  110.691154   \n",
              "2017-01-04  115.849998  116.510002  115.750000  116.019997  110.567276   \n",
              "2017-01-05  115.919998  116.860001  115.809998  116.610001  111.129562   \n",
              "2017-01-06  116.779999  118.160004  116.470001  117.910004  112.368469   \n",
              "2017-01-09  117.949997  119.430000  117.940002  118.989998  113.397697   \n",
              "\n",
              "              Volume    getiri      fark  \n",
              "Date                                      \n",
              "2017-01-03  28781900       NaN       NaN  \n",
              "2017-01-04  21118100 -0.111928 -0.130005  \n",
              "2017-01-05  22193600  0.508536  0.590004  \n",
              "2017-01-06  31751900  1.114830  1.300003  \n",
              "2017-01-09  33561900  0.915948  1.079994  "
            ]
          },
          "execution_count": 6,
          "metadata": {},
          "output_type": "execute_result"
        }
      ],
      "source": [
        "df3 = df.copy()\n",
        "df3[\"getiri\"] = (df3[\"Close\"] - df3[\"Close\"].shift(1))/df3[\"Close\"].shift(1)*100\n",
        "df3[\"fark\"] = df3[\"Close\"] - df3[\"Close\"].shift(1)\n",
        "df3.head()"
      ]
    },
    {
      "cell_type": "code",
      "execution_count": null,
      "metadata": {
        "scrolled": true,
        "id": "o88hsrITfsEK",
        "outputId": "a93ccc91-d0d5-469a-b01a-6cb039c15f9b"
      },
      "outputs": [
        {
          "data": {
            "image/png": "[encoded data removed]",
            "text/plain": [
              "<Figure size 432x288 with 1 Axes>"
            ]
          },
          "metadata": {
            "needs_background": "light"
          },
          "output_type": "display_data"
        }
      ],
      "source": [
        "import matplotlib.pyplot as plt \n",
        "import seaborn as sns\n",
        "sns.distplot(df2[\"getiri\"].dropna())\n",
        "plt.show()"
      ]
    },
    {
      "cell_type": "code",
      "execution_count": null,
      "metadata": {
        "id": "9jFr5thQfsEL",
        "outputId": "607efde3-2124-49f5-947a-fd6bc94ada6f"
      },
      "outputs": [
        {
          "data": {
            "text/html": [
              "<div>\n",
              "<style scoped>\n",
              "    .dataframe tbody tr th:only-of-type {\n",
              "        vertical-align: middle;\n",
              "    }\n",
              "\n",
              "    .dataframe tbody tr th {\n",
              "        vertical-align: top;\n",
              "    }\n",
              "\n",
              "    .dataframe thead th {\n",
              "        text-align: right;\n",
              "    }\n",
              "</style>\n",
              "<table border=\"1\" class=\"dataframe\">\n",
              "  <thead>\n",
              "    <tr style=\"text-align: right;\">\n",
              "      <th></th>\n",
              "      <th>Open</th>\n",
              "      <th>High</th>\n",
              "      <th>Low</th>\n",
              "      <th>Close</th>\n",
              "      <th>Adj Close</th>\n",
              "      <th>Volume</th>\n",
              "      <th>fark_alter</th>\n",
              "    </tr>\n",
              "    <tr>\n",
              "      <th>Date</th>\n",
              "      <th></th>\n",
              "      <th></th>\n",
              "      <th></th>\n",
              "      <th></th>\n",
              "      <th></th>\n",
              "      <th></th>\n",
              "      <th></th>\n",
              "    </tr>\n",
              "  </thead>\n",
              "  <tbody>\n",
              "    <tr>\n",
              "      <th>2017-01-03</th>\n",
              "      <td>115.800003</td>\n",
              "      <td>116.330002</td>\n",
              "      <td>114.760002</td>\n",
              "      <td>116.150002</td>\n",
              "      <td>110.691154</td>\n",
              "      <td>28781900</td>\n",
              "      <td>NaN</td>\n",
              "    </tr>\n",
              "    <tr>\n",
              "      <th>2017-01-04</th>\n",
              "      <td>115.849998</td>\n",
              "      <td>116.510002</td>\n",
              "      <td>115.750000</td>\n",
              "      <td>116.019997</td>\n",
              "      <td>110.567276</td>\n",
              "      <td>21118100</td>\n",
              "      <td>-0.130005</td>\n",
              "    </tr>\n",
              "    <tr>\n",
              "      <th>2017-01-05</th>\n",
              "      <td>115.919998</td>\n",
              "      <td>116.860001</td>\n",
              "      <td>115.809998</td>\n",
              "      <td>116.610001</td>\n",
              "      <td>111.129562</td>\n",
              "      <td>22193600</td>\n",
              "      <td>0.590004</td>\n",
              "    </tr>\n",
              "    <tr>\n",
              "      <th>2017-01-06</th>\n",
              "      <td>116.779999</td>\n",
              "      <td>118.160004</td>\n",
              "      <td>116.470001</td>\n",
              "      <td>117.910004</td>\n",
              "      <td>112.368469</td>\n",
              "      <td>31751900</td>\n",
              "      <td>1.300003</td>\n",
              "    </tr>\n",
              "    <tr>\n",
              "      <th>2017-01-09</th>\n",
              "      <td>117.949997</td>\n",
              "      <td>119.430000</td>\n",
              "      <td>117.940002</td>\n",
              "      <td>118.989998</td>\n",
              "      <td>113.397697</td>\n",
              "      <td>33561900</td>\n",
              "      <td>1.079994</td>\n",
              "    </tr>\n",
              "  </tbody>\n",
              "</table>\n",
              "</div>"
            ],
            "text/plain": [
              "                  Open        High         Low       Close   Adj Close  \\\n",
              "Date                                                                     \n",
              "2017-01-03  115.800003  116.330002  114.760002  116.150002  110.691154   \n",
              "2017-01-04  115.849998  116.510002  115.750000  116.019997  110.567276   \n",
              "2017-01-05  115.919998  116.860001  115.809998  116.610001  111.129562   \n",
              "2017-01-06  116.779999  118.160004  116.470001  117.910004  112.368469   \n",
              "2017-01-09  117.949997  119.430000  117.940002  118.989998  113.397697   \n",
              "\n",
              "              Volume  fark_alter  \n",
              "Date                              \n",
              "2017-01-03  28781900         NaN  \n",
              "2017-01-04  21118100   -0.130005  \n",
              "2017-01-05  22193600    0.590004  \n",
              "2017-01-06  31751900    1.300003  \n",
              "2017-01-09  33561900    1.079994  "
            ]
          },
          "execution_count": 8,
          "metadata": {},
          "output_type": "execute_result"
        }
      ],
      "source": [
        "df['fark_alter'] = df.Close.diff()\n",
        "df.head()"
      ]
    },
    {
      "cell_type": "code",
      "execution_count": null,
      "metadata": {
        "id": "JSm5iMNGfsEL",
        "outputId": "b837dc68-8322-4dd1-c99e-359dc26a918a"
      },
      "outputs": [
        {
          "name": "stdout",
          "output_type": "stream",
          "text": [
            "<class 'pandas.core.frame.DataFrame'>\n",
            "DatetimeIndex: 502 entries, 2017-01-03 to 2018-12-31\n",
            "Data columns (total 7 columns):\n",
            "Open          502 non-null float64\n",
            "High          502 non-null float64\n",
            "Low           502 non-null float64\n",
            "Close         502 non-null float64\n",
            "Adj Close     502 non-null float64\n",
            "Volume        502 non-null int64\n",
            "fark_alter    501 non-null float64\n",
            "dtypes: float64(6), int64(1)\n",
            "memory usage: 31.4 KB\n"
          ]
        }
      ],
      "source": [
        "df.info()"
      ]
    },
    {
      "cell_type": "code",
      "execution_count": null,
      "metadata": {
        "id": "rtTucJxPfsEL",
        "outputId": "00ad8ac1-8daa-4889-f85e-1c0f11216eb3"
      },
      "outputs": [
        {
          "data": {
            "text/plain": [
              "<matplotlib.axes._subplots.AxesSubplot at 0x223b6ac4ec8>"
            ]
          },
          "execution_count": 13,
          "metadata": {},
          "output_type": "execute_result"
        },
        {
          "data": {
            "image/png": "[encoded data removed]",
            "text/plain": [
              "<Figure size 432x288 with 1 Axes>"
            ]
          },
          "metadata": {
            "needs_background": "light"
          },
          "output_type": "display_data"
        }
      ],
      "source": [
        "df.Close.plot()"
      ]
    },
    {
      "cell_type": "markdown",
      "metadata": {
        "id": "k6lhf9FHfsEM"
      },
      "source": [
        "Slicing yapabiliriz."
      ]
    },
    {
      "cell_type": "code",
      "execution_count": null,
      "metadata": {
        "id": "BnQWAxvZfsEM",
        "outputId": "f090b7eb-33ee-4e4e-d626-a18f2c84a85b"
      },
      "outputs": [
        {
          "data": {
            "text/html": [
              "<div>\n",
              "<style scoped>\n",
              "    .dataframe tbody tr th:only-of-type {\n",
              "        vertical-align: middle;\n",
              "    }\n",
              "\n",
              "    .dataframe tbody tr th {\n",
              "        vertical-align: top;\n",
              "    }\n",
              "\n",
              "    .dataframe thead th {\n",
              "        text-align: right;\n",
              "    }\n",
              "</style>\n",
              "<table border=\"1\" class=\"dataframe\">\n",
              "  <thead>\n",
              "    <tr style=\"text-align: right;\">\n",
              "      <th></th>\n",
              "      <th>Open</th>\n",
              "      <th>High</th>\n",
              "      <th>Low</th>\n",
              "      <th>Close</th>\n",
              "      <th>Adj Close</th>\n",
              "      <th>Volume</th>\n",
              "      <th>fark_alter</th>\n",
              "    </tr>\n",
              "    <tr>\n",
              "      <th>Date</th>\n",
              "      <th></th>\n",
              "      <th></th>\n",
              "      <th></th>\n",
              "      <th></th>\n",
              "      <th></th>\n",
              "      <th></th>\n",
              "      <th></th>\n",
              "    </tr>\n",
              "  </thead>\n",
              "  <tbody>\n",
              "    <tr>\n",
              "      <th>2017-02-01</th>\n",
              "      <td>127.029999</td>\n",
              "      <td>130.490005</td>\n",
              "      <td>127.010002</td>\n",
              "      <td>128.750000</td>\n",
              "      <td>122.698990</td>\n",
              "      <td>111985000</td>\n",
              "      <td>7.400002</td>\n",
              "    </tr>\n",
              "    <tr>\n",
              "      <th>2017-02-02</th>\n",
              "      <td>127.980003</td>\n",
              "      <td>129.389999</td>\n",
              "      <td>127.779999</td>\n",
              "      <td>128.529999</td>\n",
              "      <td>122.489342</td>\n",
              "      <td>33710400</td>\n",
              "      <td>-0.220001</td>\n",
              "    </tr>\n",
              "    <tr>\n",
              "      <th>2017-02-03</th>\n",
              "      <td>128.309998</td>\n",
              "      <td>129.190002</td>\n",
              "      <td>128.160004</td>\n",
              "      <td>129.080002</td>\n",
              "      <td>123.013496</td>\n",
              "      <td>24507300</td>\n",
              "      <td>0.550003</td>\n",
              "    </tr>\n",
              "    <tr>\n",
              "      <th>2017-02-06</th>\n",
              "      <td>129.130005</td>\n",
              "      <td>130.500000</td>\n",
              "      <td>128.899994</td>\n",
              "      <td>130.289993</td>\n",
              "      <td>124.166626</td>\n",
              "      <td>26845900</td>\n",
              "      <td>1.209991</td>\n",
              "    </tr>\n",
              "    <tr>\n",
              "      <th>2017-02-07</th>\n",
              "      <td>130.539993</td>\n",
              "      <td>132.089996</td>\n",
              "      <td>130.449997</td>\n",
              "      <td>131.529999</td>\n",
              "      <td>125.348328</td>\n",
              "      <td>38183800</td>\n",
              "      <td>1.240005</td>\n",
              "    </tr>\n",
              "  </tbody>\n",
              "</table>\n",
              "</div>"
            ],
            "text/plain": [
              "                  Open        High         Low       Close   Adj Close  \\\n",
              "Date                                                                     \n",
              "2017-02-01  127.029999  130.490005  127.010002  128.750000  122.698990   \n",
              "2017-02-02  127.980003  129.389999  127.779999  128.529999  122.489342   \n",
              "2017-02-03  128.309998  129.190002  128.160004  129.080002  123.013496   \n",
              "2017-02-06  129.130005  130.500000  128.899994  130.289993  124.166626   \n",
              "2017-02-07  130.539993  132.089996  130.449997  131.529999  125.348328   \n",
              "\n",
              "               Volume  fark_alter  \n",
              "Date                               \n",
              "2017-02-01  111985000    7.400002  \n",
              "2017-02-02   33710400   -0.220001  \n",
              "2017-02-03   24507300    0.550003  \n",
              "2017-02-06   26845900    1.209991  \n",
              "2017-02-07   38183800    1.240005  "
            ]
          },
          "execution_count": 14,
          "metadata": {},
          "output_type": "execute_result"
        }
      ],
      "source": [
        "df[\"2017-02\":\"2017-04\"].head()"
      ]
    },
    {
      "cell_type": "code",
      "execution_count": null,
      "metadata": {
        "id": "L-CdUwCTfsEM",
        "outputId": "40c6abe6-2b8c-48c1-ca4a-8b78832daa1b"
      },
      "outputs": [
        {
          "data": {
            "text/html": [
              "<div>\n",
              "<style scoped>\n",
              "    .dataframe tbody tr th:only-of-type {\n",
              "        vertical-align: middle;\n",
              "    }\n",
              "\n",
              "    .dataframe tbody tr th {\n",
              "        vertical-align: top;\n",
              "    }\n",
              "\n",
              "    .dataframe thead th {\n",
              "        text-align: right;\n",
              "    }\n",
              "</style>\n",
              "<table border=\"1\" class=\"dataframe\">\n",
              "  <thead>\n",
              "    <tr style=\"text-align: right;\">\n",
              "      <th></th>\n",
              "      <th>Open</th>\n",
              "      <th>High</th>\n",
              "      <th>Low</th>\n",
              "      <th>Close</th>\n",
              "      <th>Adj Close</th>\n",
              "      <th>Volume</th>\n",
              "      <th>fark_alter</th>\n",
              "    </tr>\n",
              "    <tr>\n",
              "      <th>Date</th>\n",
              "      <th></th>\n",
              "      <th></th>\n",
              "      <th></th>\n",
              "      <th></th>\n",
              "      <th></th>\n",
              "      <th></th>\n",
              "      <th></th>\n",
              "    </tr>\n",
              "  </thead>\n",
              "  <tbody>\n",
              "    <tr>\n",
              "      <th>2017-02-02</th>\n",
              "      <td>127.980003</td>\n",
              "      <td>129.389999</td>\n",
              "      <td>127.779999</td>\n",
              "      <td>128.529999</td>\n",
              "      <td>122.489342</td>\n",
              "      <td>33710400</td>\n",
              "      <td>-0.220001</td>\n",
              "    </tr>\n",
              "    <tr>\n",
              "      <th>2017-02-03</th>\n",
              "      <td>128.309998</td>\n",
              "      <td>129.190002</td>\n",
              "      <td>128.160004</td>\n",
              "      <td>129.080002</td>\n",
              "      <td>123.013496</td>\n",
              "      <td>24507300</td>\n",
              "      <td>0.550003</td>\n",
              "    </tr>\n",
              "  </tbody>\n",
              "</table>\n",
              "</div>"
            ],
            "text/plain": [
              "                  Open        High         Low       Close   Adj Close  \\\n",
              "Date                                                                     \n",
              "2017-02-02  127.980003  129.389999  127.779999  128.529999  122.489342   \n",
              "2017-02-03  128.309998  129.190002  128.160004  129.080002  123.013496   \n",
              "\n",
              "              Volume  fark_alter  \n",
              "Date                              \n",
              "2017-02-02  33710400   -0.220001  \n",
              "2017-02-03  24507300    0.550003  "
            ]
          },
          "execution_count": 15,
          "metadata": {},
          "output_type": "execute_result"
        }
      ],
      "source": [
        "df[\"2017-02-02\":\"2017-02-05\"].head()"
      ]
    },
    {
      "cell_type": "code",
      "execution_count": null,
      "metadata": {
        "id": "hloD2ZG_fsEN",
        "outputId": "a9f6dc38-5440-4b64-91d7-2d2257ccd3fd"
      },
      "outputs": [
        {
          "data": {
            "text/html": [
              "<div>\n",
              "<style scoped>\n",
              "    .dataframe tbody tr th:only-of-type {\n",
              "        vertical-align: middle;\n",
              "    }\n",
              "\n",
              "    .dataframe tbody tr th {\n",
              "        vertical-align: top;\n",
              "    }\n",
              "\n",
              "    .dataframe thead th {\n",
              "        text-align: right;\n",
              "    }\n",
              "</style>\n",
              "<table border=\"1\" class=\"dataframe\">\n",
              "  <thead>\n",
              "    <tr style=\"text-align: right;\">\n",
              "      <th></th>\n",
              "      <th>Open</th>\n",
              "      <th>High</th>\n",
              "      <th>Low</th>\n",
              "      <th>Close</th>\n",
              "      <th>Adj Close</th>\n",
              "      <th>Volume</th>\n",
              "      <th>fark_alter</th>\n",
              "    </tr>\n",
              "    <tr>\n",
              "      <th>Date</th>\n",
              "      <th></th>\n",
              "      <th></th>\n",
              "      <th></th>\n",
              "      <th></th>\n",
              "      <th></th>\n",
              "      <th></th>\n",
              "      <th></th>\n",
              "    </tr>\n",
              "  </thead>\n",
              "  <tbody>\n",
              "    <tr>\n",
              "      <th>1</th>\n",
              "      <td>147.227316</td>\n",
              "      <td>148.216830</td>\n",
              "      <td>146.460732</td>\n",
              "      <td>147.451463</td>\n",
              "      <td>141.887377</td>\n",
              "      <td>2.982442e+07</td>\n",
              "      <td>0.085000</td>\n",
              "    </tr>\n",
              "    <tr>\n",
              "      <th>2</th>\n",
              "      <td>150.255527</td>\n",
              "      <td>152.024736</td>\n",
              "      <td>149.158158</td>\n",
              "      <td>150.676578</td>\n",
              "      <td>145.301945</td>\n",
              "      <td>3.954902e+07</td>\n",
              "      <td>0.692895</td>\n",
              "    </tr>\n",
              "    <tr>\n",
              "      <th>3</th>\n",
              "      <td>156.916364</td>\n",
              "      <td>158.189546</td>\n",
              "      <td>155.627273</td>\n",
              "      <td>156.787046</td>\n",
              "      <td>151.327177</td>\n",
              "      <td>2.898537e+07</td>\n",
              "      <td>-0.083409</td>\n",
              "    </tr>\n",
              "    <tr>\n",
              "      <th>4</th>\n",
              "      <td>157.066001</td>\n",
              "      <td>158.329250</td>\n",
              "      <td>155.959000</td>\n",
              "      <td>157.034250</td>\n",
              "      <td>151.652831</td>\n",
              "      <td>2.598646e+07</td>\n",
              "      <td>-0.063250</td>\n",
              "    </tr>\n",
              "    <tr>\n",
              "      <th>5</th>\n",
              "      <td>168.461137</td>\n",
              "      <td>169.765227</td>\n",
              "      <td>167.485455</td>\n",
              "      <td>168.882272</td>\n",
              "      <td>163.464617</td>\n",
              "      <td>2.897632e+07</td>\n",
              "      <td>0.698182</td>\n",
              "    </tr>\n",
              "    <tr>\n",
              "      <th>6</th>\n",
              "      <td>167.996745</td>\n",
              "      <td>168.986512</td>\n",
              "      <td>166.526046</td>\n",
              "      <td>167.752092</td>\n",
              "      <td>162.600141</td>\n",
              "      <td>2.818146e+07</td>\n",
              "      <td>-0.244186</td>\n",
              "    </tr>\n",
              "    <tr>\n",
              "      <th>7</th>\n",
              "      <td>169.659756</td>\n",
              "      <td>170.874878</td>\n",
              "      <td>168.571219</td>\n",
              "      <td>169.817805</td>\n",
              "      <td>164.665530</td>\n",
              "      <td>1.989520e+07</td>\n",
              "      <td>0.241219</td>\n",
              "    </tr>\n",
              "    <tr>\n",
              "      <th>8</th>\n",
              "      <td>185.716957</td>\n",
              "      <td>187.356522</td>\n",
              "      <td>184.554566</td>\n",
              "      <td>186.183697</td>\n",
              "      <td>180.999142</td>\n",
              "      <td>2.959539e+07</td>\n",
              "      <td>1.143696</td>\n",
              "    </tr>\n",
              "    <tr>\n",
              "      <th>9</th>\n",
              "      <td>189.396667</td>\n",
              "      <td>190.858206</td>\n",
              "      <td>187.446411</td>\n",
              "      <td>189.014616</td>\n",
              "      <td>183.950724</td>\n",
              "      <td>3.485503e+07</td>\n",
              "      <td>-0.301795</td>\n",
              "    </tr>\n",
              "    <tr>\n",
              "      <th>10</th>\n",
              "      <td>189.987333</td>\n",
              "      <td>191.990001</td>\n",
              "      <td>187.952445</td>\n",
              "      <td>190.031778</td>\n",
              "      <td>185.000516</td>\n",
              "      <td>2.875644e+07</td>\n",
              "      <td>0.178667</td>\n",
              "    </tr>\n",
              "    <tr>\n",
              "      <th>11</th>\n",
              "      <td>182.155000</td>\n",
              "      <td>183.688809</td>\n",
              "      <td>179.845714</td>\n",
              "      <td>181.820953</td>\n",
              "      <td>177.267367</td>\n",
              "      <td>3.719023e+07</td>\n",
              "      <td>-0.892143</td>\n",
              "    </tr>\n",
              "    <tr>\n",
              "      <th>12</th>\n",
              "      <td>168.565641</td>\n",
              "      <td>170.174103</td>\n",
              "      <td>166.484616</td>\n",
              "      <td>168.176667</td>\n",
              "      <td>164.013432</td>\n",
              "      <td>3.666939e+07</td>\n",
              "      <td>-0.601539</td>\n",
              "    </tr>\n",
              "  </tbody>\n",
              "</table>\n",
              "</div>"
            ],
            "text/plain": [
              "            Open        High         Low       Close   Adj Close  \\\n",
              "Date                                                               \n",
              "1     147.227316  148.216830  146.460732  147.451463  141.887377   \n",
              "2     150.255527  152.024736  149.158158  150.676578  145.301945   \n",
              "3     156.916364  158.189546  155.627273  156.787046  151.327177   \n",
              "4     157.066001  158.329250  155.959000  157.034250  151.652831   \n",
              "5     168.461137  169.765227  167.485455  168.882272  163.464617   \n",
              "6     167.996745  168.986512  166.526046  167.752092  162.600141   \n",
              "7     169.659756  170.874878  168.571219  169.817805  164.665530   \n",
              "8     185.716957  187.356522  184.554566  186.183697  180.999142   \n",
              "9     189.396667  190.858206  187.446411  189.014616  183.950724   \n",
              "10    189.987333  191.990001  187.952445  190.031778  185.000516   \n",
              "11    182.155000  183.688809  179.845714  181.820953  177.267367   \n",
              "12    168.565641  170.174103  166.484616  168.176667  164.013432   \n",
              "\n",
              "            Volume  fark_alter  \n",
              "Date                            \n",
              "1     2.982442e+07    0.085000  \n",
              "2     3.954902e+07    0.692895  \n",
              "3     2.898537e+07   -0.083409  \n",
              "4     2.598646e+07   -0.063250  \n",
              "5     2.897632e+07    0.698182  \n",
              "6     2.818146e+07   -0.244186  \n",
              "7     1.989520e+07    0.241219  \n",
              "8     2.959539e+07    1.143696  \n",
              "9     3.485503e+07   -0.301795  \n",
              "10    2.875644e+07    0.178667  \n",
              "11    3.719023e+07   -0.892143  \n",
              "12    3.666939e+07   -0.601539  "
            ]
          },
          "execution_count": 16,
          "metadata": {},
          "output_type": "execute_result"
        }
      ],
      "source": [
        "df.groupby(df.index.month).mean()"
      ]
    }
  ],
  "metadata": {
    "kernelspec": {
      "display_name": "Python 3",
      "language": "python",
      "name": "python3"
    },
    "language_info": {
      "codemirror_mode": {
        "name": "ipython",
        "version": 3
      },
      "file_extension": ".py",
      "mimetype": "text/x-python",
      "name": "python",
      "nbconvert_exporter": "python",
      "pygments_lexer": "ipython3",
      "version": "3.7.5"
    },
    "colab": {
      "name": "A_03_Statistical_distributions_tr.ipynb",
      "provenance": []
    }
  },
  "nbformat": 4,
  "nbformat_minor": 0
}