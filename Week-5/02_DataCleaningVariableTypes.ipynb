{
  "cells": [
    {
      "cell_type": "markdown",
      "metadata": {
        "id": "BbjN7XwCoH_0"
      },
      "source": [
        "Aşağıdaki değişkenlerin türlerini belirleyin:\n",
        "    * Yaş\n",
        "    * Maaş\n",
        "    * Gelir\n",
        "    * Müşteri türü\n",
        "    * Hisse senedi fiyatı"
      ]
    },
    {
      "cell_type": "markdown",
      "source": [
        "**Age** is, technically, continuous and ratio. A person’s age does, after all, have a meaningful zero point (birth) and is continuous if you measure it precisely enough. It is meaningful to say that someone (or something) is 7.28 year old."
      ],
      "metadata": {
        "id": "K8-4JIlppKaS"
      }
    },
    {
      "cell_type": "markdown",
      "source": [
        "**Salary** is Interval/ratio can be re-formatted to become ordinal or nominal, ordinal can become nominal. Example : salary data for is often recorded as interval data (i.e. just a number)."
      ],
      "metadata": {
        "id": "SXqW3IMOqUp2"
      }
    },
    {
      "cell_type": "markdown",
      "source": [
        "You can measure the variable of **income** at an ordinal or ratio level.You create brackets of income ranges: 0–19,999 ABD Doları, 20.000–39,999 ABD Dolar  40.000–59.999 ABD Dolar. You collect data on the exact annual incomes of your participants."
      ],
      "metadata": {
        "id": "kSBcvJShpM_1"
      }
    },
    {
      "cell_type": "markdown",
      "source": [
        "**Customer type** is Nominal.We can categorize clients according to their investment preferences, but all clients are of equal priority."
      ],
      "metadata": {
        "id": "uM59QsV7qUNa"
      }
    },
    {
      "cell_type": "markdown",
      "source": [
        "**Stock price** is ratio because Ratio data has a defined zero point.As an analyst, you can say that annual sales of 2 million are 25% greater than 1.5 million. Ratio data can be transformed using logarithms, square roots, etc. to create ‘normal’ data."
      ],
      "metadata": {
        "id": "6CRlssmmuDeG"
      }
    }
  ],
  "metadata": {
    "kernelspec": {
      "display_name": "Python 3.8 (DJL)",
      "language": "python",
      "name": "djl"
    },
    "language_info": {
      "codemirror_mode": {
        "name": "ipython",
        "version": 3
      },
      "file_extension": ".py",
      "mimetype": "text/x-python",
      "name": "python",
      "nbconvert_exporter": "python",
      "pygments_lexer": "ipython3",
      "version": "3.8.5"
    },
    "latex_envs": {
      "LaTeX_envs_menu_present": true,
      "autoclose": false,
      "autocomplete": true,
      "bibliofile": "biblio.bib",
      "cite_by": "apalike",
      "current_citInitial": 1,
      "eqLabelWithNumbers": true,
      "eqNumInitial": 1,
      "hotkeys": {
        "equation": "Ctrl-E",
        "itemize": "Ctrl-I"
      },
      "labels_anchors": false,
      "latex_user_defs": false,
      "report_style_numbering": false,
      "user_envs_cfg": false
    },
    "toc": {
      "base_numbering": 1,
      "nav_menu": {},
      "number_sections": false,
      "sideBar": true,
      "skip_h1_title": false,
      "title_cell": "Table of Contents",
      "title_sidebar": "Contents",
      "toc_cell": false,
      "toc_position": {
        "height": "calc(100% - 180px)",
        "left": "10px",
        "top": "150px",
        "width": "288px"
      },
      "toc_section_display": true,
      "toc_window_display": true
    },
    "varInspector": {
      "cols": {
        "lenName": 16,
        "lenType": 16,
        "lenVar": 40
      },
      "kernels_config": {
        "python": {
          "delete_cmd_postfix": "",
          "delete_cmd_prefix": "del ",
          "library": "var_list.py",
          "varRefreshCmd": "print(var_dic_list())"
        },
        "r": {
          "delete_cmd_postfix": ") ",
          "delete_cmd_prefix": "rm(",
          "library": "var_list.r",
          "varRefreshCmd": "cat(var_dic_list()) "
        }
      },
      "types_to_exclude": [
        "module",
        "function",
        "builtin_function_or_method",
        "instance",
        "_Feature"
      ],
      "window_display": false
    },
    "colab": {
      "name": "A_02_DataCleaningVariableTypes_tr.ipynb",
      "provenance": []
    }
  },
  "nbformat": 4,
  "nbformat_minor": 0
}