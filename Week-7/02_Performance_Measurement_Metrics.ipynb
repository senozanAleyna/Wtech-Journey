{
  "nbformat": 4,
  "nbformat_minor": 0,
  "metadata": {
    "colab": {
      "name": "02_Performance Measurement Metrics.ipynb",
      "provenance": []
    },
    "kernelspec": {
      "name": "python3",
      "display_name": "Python 3"
    },
    "language_info": {
      "name": "python"
    }
  },
  "cells": [
    {
      "cell_type": "code",
      "execution_count": 1,
      "metadata": {
        "id": "uvVduB1TJNhs"
      },
      "outputs": [],
      "source": [
        "import pandas as pd\n",
        "import numpy as np\n",
        "from sklearn.model_selection import train_test_split\n",
        "from sklearn.linear_model import LogisticRegression\n",
        "import warnings\n",
        "warnings.filterwarnings('ignore')"
      ]
    },
    {
      "cell_type": "code",
      "source": [
        "titanic=pd.read_csv('titanic_cleaned.csv')\n",
        "titanic.head()\n",
        "\n",
        "X = pd.get_dummies(X, drop_first=True)\n",
        "y = titanic['Survived']\n",
        "\n",
        "X_eğitim, X_test, y_eğitim, y_test =  train_test_split(X, y, test_size=0.20, random_state=111)"
      ],
      "metadata": {
        "id": "iinmZWbbKVcI"
      },
      "execution_count": 8,
      "outputs": []
    },
    {
      "cell_type": "code",
      "source": [
        "tahmin_modeli = LogisticRegression()\n",
        "tahmin_modeli.fit(X_eğitim, y_eğitim)\n",
        "\n",
        "tahmin_eğitim = tahmin_modeli.predict(X_eğitim)\n",
        "tahmin_test = tahmin_modeli.predict(X_test)"
      ],
      "metadata": {
        "id": "JSok6uvTLNc0"
      },
      "execution_count": 9,
      "outputs": []
    },
    {
      "cell_type": "code",
      "source": [
        "test_ihtimal =tahmin_modeli.predict_proba(X_test)[:,1] #1 proba"
      ],
      "metadata": {
        "id": "XRDiX0b-Ldid"
      },
      "execution_count": 12,
      "outputs": []
    },
    {
      "cell_type": "markdown",
      "source": [
        "We created our model with Logistic regression. Now we can see the error matrix with the confusion_matrix function in the metrics module of the scikit-learn library. It will be sufficient to write the actual and predicted values as parameters to this function."
      ],
      "metadata": {
        "id": "H05zsJDCMtud"
      }
    },
    {
      "cell_type": "code",
      "source": [
        "from sklearn.metrics import confusion_matrix\n",
        "hata_matrisi_eğitim = confusion_matrix(y_eğitim, tahmin_eğitim)\n",
        "hata_matrisi_test = confusion_matrix(y_test, tahmin_test)"
      ],
      "metadata": {
        "id": "WDShuiA0MumV"
      },
      "execution_count": 13,
      "outputs": []
    },
    {
      "cell_type": "code",
      "source": [
        "print(\"Hata Matrisi (Eğitim verileri)\", \"-\"*30, hata_matrisi_eğitim, sep=\"\\n\")\n",
        "print(\"Hata Matrisi (Test verileri)\", \"-\"*30, hata_matrisi_test, sep=\"\\n\")"
      ],
      "metadata": {
        "colab": {
          "base_uri": "https://localhost:8080/"
        },
        "id": "aiBpzfcnMzAl",
        "outputId": "7a118595-b54c-44c3-820c-23df6b3f21d3"
      },
      "execution_count": 14,
      "outputs": [
        {
          "output_type": "stream",
          "name": "stdout",
          "text": [
            "Hata Matrisi (Eğitim verileri)\n",
            "------------------------------\n",
            "[[381  55]\n",
            " [ 77 199]]\n",
            "Hata Matrisi (Test verileri)\n",
            "------------------------------\n",
            "[[99 14]\n",
            " [20 46]]\n"
          ]
        }
      ]
    },
    {
      "cell_type": "code",
      "source": [
        "TN = hata_matrisi_test[0][0]\n",
        "TP = hata_matrisi_test[1][1]\n",
        "FP = hata_matrisi_test[0][1]\n",
        "FN = hata_matrisi_test[1][0]\n",
        "\n",
        "print(\"Doğru negatif sayısı   :\", TN)\n",
        "print(\"Doğru pozitif sayısı   :\", TP)\n",
        "print(\"Yanlış pozitif sayısı  :\", FP)\n",
        "print(\"Yanlış negatif sayısı  :\", FN)"
      ],
      "metadata": {
        "colab": {
          "base_uri": "https://localhost:8080/"
        },
        "id": "kp2nXgmYM2BJ",
        "outputId": "70e37a4f-f715-42e8-b54e-1aa33e23ac41"
      },
      "execution_count": 15,
      "outputs": [
        {
          "output_type": "stream",
          "name": "stdout",
          "text": [
            "Doğru negatif sayısı   : 99\n",
            "Doğru pozitif sayısı   : 46\n",
            "Yanlış pozitif sayısı  : 14\n",
            "Yanlış negatif sayısı  : 20\n"
          ]
        }
      ]
    },
    {
      "cell_type": "markdown",
      "source": [
        "# **Metrics from the Confusion Matrix**"
      ],
      "metadata": {
        "id": "IxAMZxQtNf9T"
      }
    },
    {
      "cell_type": "markdown",
      "source": [
        "**1.1. Doğruluk (Accuracy)**"
      ],
      "metadata": {
        "id": "bYD3vZQzNkTT"
      }
    },
    {
      "cell_type": "code",
      "source": [
        "from sklearn.metrics import accuracy_score\n",
        "\n",
        "print(\"Modelden alınan doğruluk değeri : \",  tahmin_modeli.score(X_test, y_test))\n",
        "print(\"Hesaplanan doğruluk değeri      : \",  (TN + TP)/(FN + FP + TN + TP))\n",
        "print(\"accuracy_score() değeri         : \",  accuracy_score(y_test, tahmin_test))"
      ],
      "metadata": {
        "colab": {
          "base_uri": "https://localhost:8080/"
        },
        "id": "dTXujAszNpnp",
        "outputId": "c8bcca49-abf1-401f-9f27-cba275925ed3"
      },
      "execution_count": 16,
      "outputs": [
        {
          "output_type": "stream",
          "name": "stdout",
          "text": [
            "Modelden alınan doğruluk değeri :  0.8100558659217877\n",
            "Hesaplanan doğruluk değeri      :  0.8100558659217877\n",
            "accuracy_score() değeri         :  0.8100558659217877\n"
          ]
        }
      ]
    },
    {
      "cell_type": "markdown",
      "source": [
        "**1.2. Hata Oranı (Error Rate)**"
      ],
      "metadata": {
        "id": "bQMAmYAZN-Gb"
      }
    },
    {
      "cell_type": "code",
      "source": [
        "print(\"Hesaplanan hata oranı değeri      : \",  (FN + FP)/(FN + FP + TN + TP))\n",
        "print(\"hata oranı değeri         : \",  1-accuracy_score(y_test, tahmin_test))"
      ],
      "metadata": {
        "colab": {
          "base_uri": "https://localhost:8080/"
        },
        "id": "9mShyfpfN_aV",
        "outputId": "07f38684-6c6a-4eb6-800f-8037bca7f24f"
      },
      "execution_count": 17,
      "outputs": [
        {
          "output_type": "stream",
          "name": "stdout",
          "text": [
            "Hesaplanan hata oranı değeri      :  0.18994413407821228\n",
            "hata oranı değeri         :  0.1899441340782123\n"
          ]
        }
      ]
    },
    {
      "cell_type": "markdown",
      "source": [
        "**1.3. Hassasiyet (Precision)**"
      ],
      "metadata": {
        "id": "BKV2vUw2OgIv"
      }
    },
    {
      "cell_type": "code",
      "source": [
        "from sklearn.metrics import precision_score\n",
        "\n",
        "print(\"Hesaplanan doğruluk değeri      : \",  (TP)/(FP + TP))\n",
        "print(\"precision_score() değeri        : \",  precision_score(y_test, tahmin_test))"
      ],
      "metadata": {
        "colab": {
          "base_uri": "https://localhost:8080/"
        },
        "id": "EH--3Dk7OhlJ",
        "outputId": "9ca8d7eb-8f21-461f-ace1-004103dec510"
      },
      "execution_count": 18,
      "outputs": [
        {
          "output_type": "stream",
          "name": "stdout",
          "text": [
            "Hesaplanan doğruluk değeri      :  0.7666666666666667\n",
            "precision_score() değeri        :  0.7666666666666667\n"
          ]
        }
      ]
    },
    {
      "cell_type": "markdown",
      "source": [
        "**1.4.Duyarlılık (Recall/Sensitivity)**"
      ],
      "metadata": {
        "id": "YIpnJUw4PFG_"
      }
    },
    {
      "cell_type": "code",
      "source": [
        "print(\"Hesaplanan özgünlük değeri   : \",  (TN)/(TN + FP))"
      ],
      "metadata": {
        "colab": {
          "base_uri": "https://localhost:8080/"
        },
        "id": "J3mOIRoyPJVQ",
        "outputId": "623d211f-4df2-4bf9-a9ee-9e1a4cf6f699"
      },
      "execution_count": 19,
      "outputs": [
        {
          "output_type": "stream",
          "name": "stdout",
          "text": [
            "Hesaplanan özgünlük değeri   :  0.8761061946902655\n"
          ]
        }
      ]
    },
    {
      "cell_type": "markdown",
      "source": [
        "**1.5. Özgünlük (Specificity)**"
      ],
      "metadata": {
        "id": "jFrLTo4zPNOw"
      }
    },
    {
      "cell_type": "code",
      "source": [
        "print(\"Hesaplanan özgünlük değeri   : \",  (TN)/(TN + FP))"
      ],
      "metadata": {
        "colab": {
          "base_uri": "https://localhost:8080/"
        },
        "id": "MN8IMGcHPPa2",
        "outputId": "17e4aa89-d913-43cd-fc50-68cea0c2f034"
      },
      "execution_count": 20,
      "outputs": [
        {
          "output_type": "stream",
          "name": "stdout",
          "text": [
            "Hesaplanan özgünlük değeri   :  0.8761061946902655\n"
          ]
        }
      ]
    },
    {
      "cell_type": "markdown",
      "source": [
        "**1.6. F1 (F1 Score)**"
      ],
      "metadata": {
        "id": "GL_Ce_nkPWjm"
      }
    },
    {
      "cell_type": "code",
      "source": [
        "from sklearn.metrics import f1_score\n",
        "from sklearn.metrics import recall_score\n",
        "hassasiyet_degeri = precision_score(y_test, tahmin_test)\n",
        "duyarlılık_değeri = recall_score(y_test, tahmin_test)\n",
        "\n",
        "\n",
        "print(\"Hesaplanan f1 skoru   : \",  2*((hassasiyet_degeri*duyarlılık_değeri)/(hassasiyet_degeri + duyarlılık_değeri)))\n",
        "print(\"f1_score() değeri     : \",  f1_score(y_test, tahmin_test))"
      ],
      "metadata": {
        "colab": {
          "base_uri": "https://localhost:8080/"
        },
        "id": "up9lDheAPX34",
        "outputId": "fb37ab75-fb02-4f9e-a39b-29fe12028920"
      },
      "execution_count": 23,
      "outputs": [
        {
          "output_type": "stream",
          "name": "stdout",
          "text": [
            "Hesaplanan f1 skoru   :  0.7301587301587302\n",
            "f1_score() değeri     :  0.7301587301587302\n"
          ]
        }
      ]
    },
    {
      "cell_type": "code",
      "source": [
        "from sklearn.metrics import classification_report, precision_recall_fscore_support\n",
        "\n",
        "print(classification_report(y_test,tahmin_test) )\n",
        "\n",
        "print(\"f1_score() değeri        : {:.2f}\".format(f1_score(y_test, tahmin_test)))\n",
        "print(\"recall_score() değeri    : {:.2f}\".format(recall_score(y_test, tahmin_test)))\n",
        "print(\"precision_score() değeri : {:.2f}\".format(precision_score(y_test, tahmin_test))) #best score\n"
      ],
      "metadata": {
        "colab": {
          "base_uri": "https://localhost:8080/"
        },
        "id": "gEwyHgOIP3E2",
        "outputId": "ef88bafa-083c-47bf-bca3-a6e672ef6b66"
      },
      "execution_count": 26,
      "outputs": [
        {
          "output_type": "stream",
          "name": "stdout",
          "text": [
            "              precision    recall  f1-score   support\n",
            "\n",
            "           0       0.83      0.88      0.85       113\n",
            "           1       0.77      0.70      0.73        66\n",
            "\n",
            "    accuracy                           0.81       179\n",
            "   macro avg       0.80      0.79      0.79       179\n",
            "weighted avg       0.81      0.81      0.81       179\n",
            "\n",
            "f1_score() değeri        : 0.73\n",
            "recall_score() değeri    : 0.70\n",
            "precision_score() değeri : 0.77\n"
          ]
        }
      ]
    },
    {
      "cell_type": "code",
      "source": [
        "from sklearn.metrics import roc_curve, roc_auc_score\n",
        "tahmin_test_ihtimal = tahmin_modeli.predict_proba(X_test)[:,1]\n",
        "fpr, tpr, thresholds  = roc_curve(y_test, tahmin_test_ihtimal)\n",
        "\n",
        "import matplotlib.pyplot as plt\n",
        "# Plot ROC curve\n",
        "plt.plot([0, 1], [0, 1], 'k--')\n",
        "plt.plot(fpr, tpr)\n",
        "plt.xlabel('False Positive Rate')\n",
        "plt.ylabel('True Positive Rate')\n",
        "plt.title('ROC Curve')\n",
        "plt.show()"
      ],
      "metadata": {
        "colab": {
          "base_uri": "https://localhost:8080/",
          "height": 295
        },
        "id": "WUb8ZT7aQRz6",
        "outputId": "4fa247c3-156e-4103-cc73-cfd84c9e70e3"
      },
      "execution_count": 28,
      "outputs": [
        {
          "output_type": "display_data",
          "data": {
            "image/png": "[encoded data removed]",
            "text/plain": [
              "<Figure size 432x288 with 1 Axes>"
            ]
          },
          "metadata": {
            "needs_background": "light"
          }
        }
      ]
    }
  ]
}