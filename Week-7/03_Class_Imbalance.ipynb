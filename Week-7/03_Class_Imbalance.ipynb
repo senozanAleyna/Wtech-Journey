{
  "nbformat": 4,
  "nbformat_minor": 0,
  "metadata": {
    "colab": {
      "name": "03_Class_Imbalance.ipynb",
      "provenance": [],
      "collapsed_sections": []
    },
    "kernelspec": {
      "name": "python3",
      "display_name": "Python 3"
    },
    "language_info": {
      "name": "python"
    }
  },
  "cells": [
    {
      "cell_type": "code",
      "execution_count": 12,
      "metadata": {
        "id": "vOrOjVk347Hf"
      },
      "outputs": [],
      "source": [
        "import pandas as pd\n",
        "import numpy as np\n",
        "import seaborn as sns\n",
        "import warnings\n",
        "from sklearn.model_selection import train_test_split\n",
        "from sklearn.linear_model import LogisticRegression\n",
        "from sklearn.metrics import confusion_matrix\n",
        "from sklearn.metrics import classification_report\n",
        "warnings.filterwarnings('ignore')"
      ]
    },
    {
      "cell_type": "markdown",
      "source": [
        "Lojistik Regresyon modeli oluşturup modelinizin performansını ölçün"
      ],
      "metadata": {
        "id": "p8QA3UCo5UdM"
      }
    },
    {
      "cell_type": "code",
      "source": [
        "def model_olustur(X, y):\n",
        "    X_eğitim, X_test, y_eğitim, y_test =  train_test_split(X, y, test_size=0.20, random_state=111, stratify = y)\n",
        "    logreg_model = LogisticRegression()\n",
        "    logreg_model.fit(X_eğitim, y_eğitim)\n",
        "\n",
        "    tahmin_eğitim = logreg_model.predict(X_eğitim)\n",
        "    tahmin_test = logreg_model.predict(X_test)\n",
        "    hata_matrisi_eğitim = confusion_matrix(y_eğitim, tahmin_eğitim)\n",
        "    hata_matrisi_test = confusion_matrix(y_test, tahmin_test)\n",
        "    print(\"Modelin doğruluk değeri : \",  logreg_model.score(X_test, y_test))\n",
        "    print(\"Eğitim veri kümesi\")\n",
        "    print(classification_report(y_eğitim,tahmin_eğitim) )\n",
        "    print(\"Test veri kümesi\")\n",
        "    print(classification_report(y_test,tahmin_test) )\n",
        "    return  None"
      ],
      "metadata": {
        "id": "yBWsBXuT5XYs"
      },
      "execution_count": null,
      "outputs": []
    },
    {
      "cell_type": "code",
      "source": [
        "df=pd.read_csv('cleveland-0_vs_4.csv')\n",
        "df.columns = ['age','sex','cp','trestbps','chol','fbs','restecg','thalach','exang','oldpeak','slope','ca','thal','num']\n",
        "df.head()"
      ],
      "metadata": {
        "id": "cDe8O05Z5g3i",
        "colab": {
          "base_uri": "https://localhost:8080/",
          "height": 206
        },
        "outputId": "5d07c8da-f191-4e0f-c274-6ec34f9014e7"
      },
      "execution_count": 7,
      "outputs": [
        {
          "output_type": "execute_result",
          "data": {
            "text/html": [
              "\n",
              "  <div id=\"df-c1711ed5-0660-41da-a25a-da52f73e3761\">\n",
              "    <div class=\"colab-df-container\">\n",
              "      <div>\n",
              "<style scoped>\n",
              "    .dataframe tbody tr th:only-of-type {\n",
              "        vertical-align: middle;\n",
              "    }\n",
              "\n",
              "    .dataframe tbody tr th {\n",
              "        vertical-align: top;\n",
              "    }\n",
              "\n",
              "    .dataframe thead th {\n",
              "        text-align: right;\n",
              "    }\n",
              "</style>\n",
              "<table border=\"1\" class=\"dataframe\">\n",
              "  <thead>\n",
              "    <tr style=\"text-align: right;\">\n",
              "      <th></th>\n",
              "      <th>age</th>\n",
              "      <th>sex</th>\n",
              "      <th>cp</th>\n",
              "      <th>trestbps</th>\n",
              "      <th>chol</th>\n",
              "      <th>fbs</th>\n",
              "      <th>restecg</th>\n",
              "      <th>thalach</th>\n",
              "      <th>exang</th>\n",
              "      <th>oldpeak</th>\n",
              "      <th>slope</th>\n",
              "      <th>ca</th>\n",
              "      <th>thal</th>\n",
              "      <th>num</th>\n",
              "    </tr>\n",
              "  </thead>\n",
              "  <tbody>\n",
              "    <tr>\n",
              "      <th>0</th>\n",
              "      <td>37.0</td>\n",
              "      <td>1.0</td>\n",
              "      <td>3.0</td>\n",
              "      <td>130.0</td>\n",
              "      <td>250.0</td>\n",
              "      <td>0.0</td>\n",
              "      <td>0.0</td>\n",
              "      <td>187.0</td>\n",
              "      <td>0.0</td>\n",
              "      <td>3.5</td>\n",
              "      <td>3.0</td>\n",
              "      <td>0.0</td>\n",
              "      <td>3.0</td>\n",
              "      <td>0</td>\n",
              "    </tr>\n",
              "    <tr>\n",
              "      <th>1</th>\n",
              "      <td>41.0</td>\n",
              "      <td>0.0</td>\n",
              "      <td>2.0</td>\n",
              "      <td>130.0</td>\n",
              "      <td>204.0</td>\n",
              "      <td>0.0</td>\n",
              "      <td>2.0</td>\n",
              "      <td>172.0</td>\n",
              "      <td>0.0</td>\n",
              "      <td>1.4</td>\n",
              "      <td>1.0</td>\n",
              "      <td>0.0</td>\n",
              "      <td>3.0</td>\n",
              "      <td>0</td>\n",
              "    </tr>\n",
              "    <tr>\n",
              "      <th>2</th>\n",
              "      <td>56.0</td>\n",
              "      <td>1.0</td>\n",
              "      <td>2.0</td>\n",
              "      <td>120.0</td>\n",
              "      <td>236.0</td>\n",
              "      <td>0.0</td>\n",
              "      <td>0.0</td>\n",
              "      <td>178.0</td>\n",
              "      <td>0.0</td>\n",
              "      <td>0.8</td>\n",
              "      <td>1.0</td>\n",
              "      <td>0.0</td>\n",
              "      <td>3.0</td>\n",
              "      <td>0</td>\n",
              "    </tr>\n",
              "    <tr>\n",
              "      <th>3</th>\n",
              "      <td>57.0</td>\n",
              "      <td>0.0</td>\n",
              "      <td>4.0</td>\n",
              "      <td>120.0</td>\n",
              "      <td>354.0</td>\n",
              "      <td>0.0</td>\n",
              "      <td>0.0</td>\n",
              "      <td>163.0</td>\n",
              "      <td>1.0</td>\n",
              "      <td>0.6</td>\n",
              "      <td>1.0</td>\n",
              "      <td>0.0</td>\n",
              "      <td>3.0</td>\n",
              "      <td>0</td>\n",
              "    </tr>\n",
              "    <tr>\n",
              "      <th>4</th>\n",
              "      <td>57.0</td>\n",
              "      <td>1.0</td>\n",
              "      <td>4.0</td>\n",
              "      <td>140.0</td>\n",
              "      <td>192.0</td>\n",
              "      <td>0.0</td>\n",
              "      <td>0.0</td>\n",
              "      <td>148.0</td>\n",
              "      <td>0.0</td>\n",
              "      <td>0.4</td>\n",
              "      <td>2.0</td>\n",
              "      <td>0.0</td>\n",
              "      <td>6.0</td>\n",
              "      <td>0</td>\n",
              "    </tr>\n",
              "  </tbody>\n",
              "</table>\n",
              "</div>\n",
              "      <button class=\"colab-df-convert\" onclick=\"convertToInteractive('df-c1711ed5-0660-41da-a25a-da52f73e3761')\"\n",
              "              title=\"Convert this dataframe to an interactive table.\"\n",
              "              style=\"display:none;\">\n",
              "        \n",
              "  <svg xmlns=\"http://www.w3.org/2000/svg\" height=\"24px\"viewBox=\"0 0 24 24\"\n",
              "       width=\"24px\">\n",
              "    <path d=\"M0 0h24v24H0V0z\" fill=\"none\"/>\n",
              "    <path d=\"M18.56 5.44l.94 2.06.94-2.06 2.06-.94-2.06-.94-.94-2.06-.94 2.06-2.06.94zm-11 1L8.5 8.5l.94-2.06 2.06-.94-2.06-.94L8.5 2.5l-.94 2.06-2.06.94zm10 10l.94 2.06.94-2.06 2.06-.94-2.06-.94-.94-2.06-.94 2.06-2.06.94z\"/><path d=\"M17.41 7.96l-1.37-1.37c-.4-.4-.92-.59-1.43-.59-.52 0-1.04.2-1.43.59L10.3 9.45l-7.72 7.72c-.78.78-.78 2.05 0 2.83L4 21.41c.39.39.9.59 1.41.59.51 0 1.02-.2 1.41-.59l7.78-7.78 2.81-2.81c.8-.78.8-2.07 0-2.86zM5.41 20L4 18.59l7.72-7.72 1.47 1.35L5.41 20z\"/>\n",
              "  </svg>\n",
              "      </button>\n",
              "      \n",
              "  <style>\n",
              "    .colab-df-container {\n",
              "      display:flex;\n",
              "      flex-wrap:wrap;\n",
              "      gap: 12px;\n",
              "    }\n",
              "\n",
              "    .colab-df-convert {\n",
              "      background-color: #E8F0FE;\n",
              "      border: none;\n",
              "      border-radius: 50%;\n",
              "      cursor: pointer;\n",
              "      display: none;\n",
              "      fill: #1967D2;\n",
              "      height: 32px;\n",
              "      padding: 0 0 0 0;\n",
              "      width: 32px;\n",
              "    }\n",
              "\n",
              "    .colab-df-convert:hover {\n",
              "      background-color: #E2EBFA;\n",
              "      box-shadow: 0px 1px 2px rgba(60, 64, 67, 0.3), 0px 1px 3px 1px rgba(60, 64, 67, 0.15);\n",
              "      fill: #174EA6;\n",
              "    }\n",
              "\n",
              "    [theme=dark] .colab-df-convert {\n",
              "      background-color: #3B4455;\n",
              "      fill: #D2E3FC;\n",
              "    }\n",
              "\n",
              "    [theme=dark] .colab-df-convert:hover {\n",
              "      background-color: #434B5C;\n",
              "      box-shadow: 0px 1px 3px 1px rgba(0, 0, 0, 0.15);\n",
              "      filter: drop-shadow(0px 1px 2px rgba(0, 0, 0, 0.3));\n",
              "      fill: #FFFFFF;\n",
              "    }\n",
              "  </style>\n",
              "\n",
              "      <script>\n",
              "        const buttonEl =\n",
              "          document.querySelector('#df-c1711ed5-0660-41da-a25a-da52f73e3761 button.colab-df-convert');\n",
              "        buttonEl.style.display =\n",
              "          google.colab.kernel.accessAllowed ? 'block' : 'none';\n",
              "\n",
              "        async function convertToInteractive(key) {\n",
              "          const element = document.querySelector('#df-c1711ed5-0660-41da-a25a-da52f73e3761');\n",
              "          const dataTable =\n",
              "            await google.colab.kernel.invokeFunction('convertToInteractive',\n",
              "                                                     [key], {});\n",
              "          if (!dataTable) return;\n",
              "\n",
              "          const docLinkHtml = 'Like what you see? Visit the ' +\n",
              "            '<a target=\"_blank\" href=https://colab.research.google.com/notebooks/data_table.ipynb>data table notebook</a>'\n",
              "            + ' to learn more about interactive tables.';\n",
              "          element.innerHTML = '';\n",
              "          dataTable['output_type'] = 'display_data';\n",
              "          await google.colab.output.renderOutput(dataTable, element);\n",
              "          const docLink = document.createElement('div');\n",
              "          docLink.innerHTML = docLinkHtml;\n",
              "          element.appendChild(docLink);\n",
              "        }\n",
              "      </script>\n",
              "    </div>\n",
              "  </div>\n",
              "  "
            ],
            "text/plain": [
              "    age  sex   cp  trestbps   chol  fbs  ...  exang  oldpeak  slope   ca  thal  num\n",
              "0  37.0  1.0  3.0     130.0  250.0  0.0  ...    0.0      3.5    3.0  0.0   3.0    0\n",
              "1  41.0  0.0  2.0     130.0  204.0  0.0  ...    0.0      1.4    1.0  0.0   3.0    0\n",
              "2  56.0  1.0  2.0     120.0  236.0  0.0  ...    0.0      0.8    1.0  0.0   3.0    0\n",
              "3  57.0  0.0  4.0     120.0  354.0  0.0  ...    1.0      0.6    1.0  0.0   3.0    0\n",
              "4  57.0  1.0  4.0     140.0  192.0  0.0  ...    0.0      0.4    2.0  0.0   6.0    0\n",
              "\n",
              "[5 rows x 14 columns]"
            ]
          },
          "metadata": {},
          "execution_count": 7
        }
      ]
    },
    {
      "cell_type": "code",
      "source": [
        "sns.countplot(df.num)\n",
        "print(\"Num 0 oranı : %{:.2f}\".format(sum(df.num)/len(df.num)*100))\n",
        "print(\"Num 1 oranı : %{:.2f}\".format((len(df.num)-sum(df.num))/len(df.num)*100))"
      ],
      "metadata": {
        "colab": {
          "base_uri": "https://localhost:8080/",
          "height": 314
        },
        "id": "4A0JFVk6M-1W",
        "outputId": "4d5f1510-bd34-41e8-f422-c4bdcfecb586"
      },
      "execution_count": 13,
      "outputs": [
        {
          "output_type": "stream",
          "name": "stdout",
          "text": [
            "Num 0 oranı : %7.39\n",
            "Num 1 oranı : %92.61\n"
          ]
        },
        {
          "output_type": "display_data",
          "data": {
            "image/png": "[encoded data removed]",
            "text/plain": [
              "<Figure size 432x288 with 1 Axes>"
            ]
          },
          "metadata": {
            "needs_background": "light"
          }
        }
      ]
    },
    {
      "cell_type": "code",
      "source": [
        "X = df.drop('num', axis=1)\n",
        "y = df['num']\n",
        "model_olustur(X,y)"
      ],
      "metadata": {
        "colab": {
          "base_uri": "https://localhost:8080/"
        },
        "id": "SK4uBmD8MpfL",
        "outputId": "3edc7396-9b72-4516-e4bc-d2077eca03fd"
      },
      "execution_count": 14,
      "outputs": [
        {
          "output_type": "stream",
          "name": "stdout",
          "text": [
            "Modelin doğruluk değeri :  0.9444444444444444\n",
            "Eğitim veri kümesi\n",
            "              precision    recall  f1-score   support\n",
            "\n",
            "           0       0.98      1.00      0.99       130\n",
            "           1       1.00      0.70      0.82        10\n",
            "\n",
            "    accuracy                           0.98       140\n",
            "   macro avg       0.99      0.85      0.91       140\n",
            "weighted avg       0.98      0.98      0.98       140\n",
            "\n",
            "Test veri kümesi\n",
            "              precision    recall  f1-score   support\n",
            "\n",
            "           0       0.94      1.00      0.97        33\n",
            "           1       1.00      0.33      0.50         3\n",
            "\n",
            "    accuracy                           0.94        36\n",
            "   macro avg       0.97      0.67      0.74        36\n",
            "weighted avg       0.95      0.94      0.93        36\n",
            "\n"
          ]
        }
      ]
    },
    {
      "cell_type": "markdown",
      "source": [
        "'1' olan sınıfların tahminde çok da başarılı olmadığı görülüyor."
      ],
      "metadata": {
        "id": "nRFX3MpCN4jX"
      }
    },
    {
      "cell_type": "markdown",
      "source": [
        "**Örneklem Artırma**"
      ],
      "metadata": {
        "id": "R-gc2VTNOFhz"
      }
    },
    {
      "cell_type": "code",
      "source": [
        "from sklearn.utils import resample\n",
        "_num0 = df[df.num == 0]\n",
        "_num1 = df[df.num == 1]\n",
        "\n",
        "arttirilmis_num1 = resample(_num1,\n",
        "                                     replace = True,\n",
        "                                     n_samples = len(_num0),\n",
        "                                     random_state = 111)\n",
        "\n",
        "artırılmıs_df = pd.concat([_num0 , arttirilmis_num1])\n",
        "artırılmıs_df.num.value_counts()"
      ],
      "metadata": {
        "colab": {
          "base_uri": "https://localhost:8080/"
        },
        "id": "dd_E379qN-JD",
        "outputId": "b711670b-0056-48f5-d454-b32c20187a65"
      },
      "execution_count": 16,
      "outputs": [
        {
          "output_type": "execute_result",
          "data": {
            "text/plain": [
              "0    163\n",
              "1    163\n",
              "Name: num, dtype: int64"
            ]
          },
          "metadata": {},
          "execution_count": 16
        }
      ]
    },
    {
      "cell_type": "markdown",
      "source": [
        "Artık iki sınıfında sayısı eşit oldu. Şimdi modelimizi uygulayıp sonuçları görebiliriz."
      ],
      "metadata": {
        "id": "8ahDGGFlOwjm"
      }
    },
    {
      "cell_type": "code",
      "source": [
        "X = artırılmıs_df.drop('num', axis=1)\n",
        "y = artırılmıs_df['num']\n",
        "model_olustur(X,y)"
      ],
      "metadata": {
        "colab": {
          "base_uri": "https://localhost:8080/"
        },
        "id": "oP7IFJ4mOteK",
        "outputId": "84132fed-dbb5-4165-a31e-544d1c96750b"
      },
      "execution_count": 17,
      "outputs": [
        {
          "output_type": "stream",
          "name": "stdout",
          "text": [
            "Modelin doğruluk değeri :  1.0\n",
            "Eğitim veri kümesi\n",
            "              precision    recall  f1-score   support\n",
            "\n",
            "           0       1.00      0.93      0.96       130\n",
            "           1       0.94      1.00      0.97       130\n",
            "\n",
            "    accuracy                           0.97       260\n",
            "   macro avg       0.97      0.97      0.97       260\n",
            "weighted avg       0.97      0.97      0.97       260\n",
            "\n",
            "Test veri kümesi\n",
            "              precision    recall  f1-score   support\n",
            "\n",
            "           0       1.00      1.00      1.00        33\n",
            "           1       1.00      1.00      1.00        33\n",
            "\n",
            "    accuracy                           1.00        66\n",
            "   macro avg       1.00      1.00      1.00        66\n",
            "weighted avg       1.00      1.00      1.00        66\n",
            "\n"
          ]
        }
      ]
    },
    {
      "cell_type": "markdown",
      "source": [
        "**Örneklem Azaltmak**"
      ],
      "metadata": {
        "id": "Ywi_nhBpO-OX"
      }
    },
    {
      "cell_type": "code",
      "source": [
        "_num0 = df[df.num == 0]\n",
        "_num1 = df[df.num == 1]\n",
        "\n",
        "num1_azaltılmış = resample(_num0,\n",
        "                                     replace = True,\n",
        "                                     n_samples = len(_num1),\n",
        "                                     random_state = 111)\n",
        "\n",
        "azaltılmış_df = pd.concat([_num1, num1_azaltılmış])\n",
        "azaltılmış_df.num.value_counts()"
      ],
      "metadata": {
        "colab": {
          "base_uri": "https://localhost:8080/"
        },
        "id": "JwZBv0-IPA_F",
        "outputId": "ec6e30c7-343b-40aa-b353-2ebf96d26de1"
      },
      "execution_count": 23,
      "outputs": [
        {
          "output_type": "execute_result",
          "data": {
            "text/plain": [
              "1    13\n",
              "0    13\n",
              "Name: num, dtype: int64"
            ]
          },
          "metadata": {},
          "execution_count": 23
        }
      ]
    },
    {
      "cell_type": "code",
      "source": [
        "X = artırılmıs_df.drop('num', axis=1)\n",
        "y = artırılmıs_df['num']\n",
        "model_olustur(X,y)"
      ],
      "metadata": {
        "colab": {
          "base_uri": "https://localhost:8080/"
        },
        "id": "gvu9twq2QMl_",
        "outputId": "6d1a6257-90f8-401a-df41-3290ac0df13a"
      },
      "execution_count": 24,
      "outputs": [
        {
          "output_type": "stream",
          "name": "stdout",
          "text": [
            "Modelin doğruluk değeri :  1.0\n",
            "Eğitim veri kümesi\n",
            "              precision    recall  f1-score   support\n",
            "\n",
            "           0       1.00      0.93      0.96       130\n",
            "           1       0.94      1.00      0.97       130\n",
            "\n",
            "    accuracy                           0.97       260\n",
            "   macro avg       0.97      0.97      0.97       260\n",
            "weighted avg       0.97      0.97      0.97       260\n",
            "\n",
            "Test veri kümesi\n",
            "              precision    recall  f1-score   support\n",
            "\n",
            "           0       1.00      1.00      1.00        33\n",
            "           1       1.00      1.00      1.00        33\n",
            "\n",
            "    accuracy                           1.00        66\n",
            "   macro avg       1.00      1.00      1.00        66\n",
            "weighted avg       1.00      1.00      1.00        66\n",
            "\n"
          ]
        }
      ]
    },
    {
      "cell_type": "markdown",
      "source": [
        "**Sentetik örnekler üretmek**"
      ],
      "metadata": {
        "id": "EQ7_cq9OQRmu"
      }
    },
    {
      "cell_type": "markdown",
      "source": [
        "**SMOTE**"
      ],
      "metadata": {
        "id": "6UdOplOkQUes"
      }
    },
    {
      "cell_type": "code",
      "source": [
        "from imblearn.over_sampling import SMOTE\n",
        "y = df.num\n",
        "X = df.drop('num', axis=1)\n",
        "\n",
        "oversample = SMOTE()\n",
        "X_smote, y_smote = sm.fit_sample(X, y)\n",
        "model_olustur(X_smote, y_smote)"
      ],
      "metadata": {
        "id": "GKf0zFhcQb7w"
      },
      "execution_count": 27,
      "outputs": []
    },
    {
      "cell_type": "code",
      "source": [
        "from imblearn.over_sampling import SMOTE\n",
        "y = df.num\n",
        "X = df.drop('num', axis=1)\n",
        "\n",
        "oversample = SMOTE()\n",
        "X_smote, y_smote = oversample.fit_resample(X, y)\n",
        "model_olustur(X_smote, y_smote)"
      ],
      "metadata": {
        "colab": {
          "base_uri": "https://localhost:8080/"
        },
        "id": "c0PtZb_3RKBC",
        "outputId": "fb8e5219-daed-498d-c098-ae89c9680e83"
      },
      "execution_count": 36,
      "outputs": [
        {
          "output_type": "stream",
          "name": "stdout",
          "text": [
            "Modelin doğruluk değeri :  0.9848484848484849\n",
            "Eğitim veri kümesi\n",
            "              precision    recall  f1-score   support\n",
            "\n",
            "           0       1.00      0.95      0.98       130\n",
            "           1       0.96      1.00      0.98       130\n",
            "\n",
            "    accuracy                           0.98       260\n",
            "   macro avg       0.98      0.98      0.98       260\n",
            "weighted avg       0.98      0.98      0.98       260\n",
            "\n",
            "Test veri kümesi\n",
            "              precision    recall  f1-score   support\n",
            "\n",
            "           0       1.00      0.97      0.98        33\n",
            "           1       0.97      1.00      0.99        33\n",
            "\n",
            "    accuracy                           0.98        66\n",
            "   macro avg       0.99      0.98      0.98        66\n",
            "weighted avg       0.99      0.98      0.98        66\n",
            "\n"
          ]
        }
      ]
    },
    {
      "cell_type": "code",
      "source": [
        "from imblearn.over_sampling import ADASYN\n",
        "y = df.num\n",
        "X = df.drop('num', axis=1)\n",
        "\n",
        "oversample = ADASYN()\n",
        "X_adasyn, y_adasyn= oversample.fit_resample(X, y)\n",
        "model_olustur(X_adasyn, y_adasyn)"
      ],
      "metadata": {
        "colab": {
          "base_uri": "https://localhost:8080/"
        },
        "id": "igMOmuVGQhB9",
        "outputId": "855f6e2b-7cbe-4f26-a384-e95e33f97131"
      },
      "execution_count": 33,
      "outputs": [
        {
          "output_type": "stream",
          "name": "stdout",
          "text": [
            "Modelin doğruluk değeri :  0.9696969696969697\n",
            "Eğitim veri kümesi\n",
            "              precision    recall  f1-score   support\n",
            "\n",
            "           0       1.00      0.95      0.97       130\n",
            "           1       0.95      1.00      0.97       132\n",
            "\n",
            "    accuracy                           0.97       262\n",
            "   macro avg       0.97      0.97      0.97       262\n",
            "weighted avg       0.97      0.97      0.97       262\n",
            "\n",
            "Test veri kümesi\n",
            "              precision    recall  f1-score   support\n",
            "\n",
            "           0       0.97      0.97      0.97        33\n",
            "           1       0.97      0.97      0.97        33\n",
            "\n",
            "    accuracy                           0.97        66\n",
            "   macro avg       0.97      0.97      0.97        66\n",
            "weighted avg       0.97      0.97      0.97        66\n",
            "\n"
          ]
        }
      ]
    }
  ]
}