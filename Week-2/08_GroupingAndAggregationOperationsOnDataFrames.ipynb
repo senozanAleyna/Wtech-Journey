{
  "nbformat": 4,
  "nbformat_minor": 0,
  "metadata": {
    "kernelspec": {
      "display_name": "Python 3",
      "language": "python",
      "name": "python3"
    },
    "language_info": {
      "codemirror_mode": {
        "name": "ipython",
        "version": 3
      },
      "file_extension": ".py",
      "mimetype": "text/x-python",
      "name": "python",
      "nbconvert_exporter": "python",
      "pygments_lexer": "ipython3",
      "version": "3.7.3"
    },
    "colab": {
      "name": "A_08_GroupingAndAggregationOperationsOnDataFrames_tr.ipynb adlı not defterinin kopyası",
      "provenance": []
    }
  },
  "cells": [
    {
      "cell_type": "markdown",
      "metadata": {
        "id": "zTOA3yGE7hox"
      },
      "source": [
        "For Pandas assignments, you are going to use [Titanic](https://www.kaggle.com/c/titanic/download/GQf0y8ebHO0C4JXscPPp%2Fversions%2FXkNkvXwqPPVG0Qt3MtQT%2Ffiles%2Ftrain.csv) (train.csv) dataset. Download the dataset and load to a data frame.\n",
        "\n",
        "**(1)** Calculate the average age of the passengers for each gender and passenger class by using `groupby()` method."
      ]
    },
    {
      "cell_type": "code",
      "metadata": {
        "id": "ojOJs95_5VHo",
        "colab": {
          "base_uri": "https://localhost:8080/"
        },
        "outputId": "a56a3f1c-4730-4fbf-c126-d40dae15b6d2"
      },
      "source": [
        "import pandas as pd\n",
        "import numpy as np\n",
        "df = pd.read_csv(\"train.csv\", index_col=0)\n",
        "df\n",
        "df.groupby(by=[\"Sex\", \"Pclass\"])['Age'].mean()"
      ],
      "execution_count": null,
      "outputs": [
        {
          "output_type": "execute_result",
          "data": {
            "text/plain": [
              "Sex     Pclass\n",
              "female  1         34.611765\n",
              "        2         28.722973\n",
              "        3         21.750000\n",
              "male    1         41.281386\n",
              "        2         30.740707\n",
              "        3         26.507589\n",
              "Name: Age, dtype: float64"
            ]
          },
          "metadata": {},
          "execution_count": 9
        }
      ]
    },
    {
      "cell_type": "markdown",
      "metadata": {
        "id": "1bE-khuW5VHp"
      },
      "source": [
        "**(2)** Group by embarkation port and print values. (Notice that you get unique values with this.)"
      ]
    },
    {
      "cell_type": "code",
      "metadata": {
        "id": "fHkDx7qa5VHq",
        "colab": {
          "base_uri": "https://localhost:8080/",
          "height": 892
        },
        "outputId": "368c1f36-0aa1-4762-d56f-61c3c15cc249"
      },
      "source": [
        "for group_name, group in df.groupby(by='Embarked'):\n",
        "    display(group.head)\n",
        "    print(group_name)"
      ],
      "execution_count": null,
      "outputs": [
        {
          "output_type": "display_data",
          "data": {
            "text/plain": [
              "<bound method NDFrame.head of              Survived  Pclass  ... Cabin Embarked\n",
              "PassengerId                    ...               \n",
              "2                   1       1  ...   C85        C\n",
              "10                  1       2  ...   NaN        C\n",
              "20                  1       3  ...   NaN        C\n",
              "27                  0       3  ...   NaN        C\n",
              "31                  0       1  ...   NaN        C\n",
              "...               ...     ...  ...   ...      ...\n",
              "867                 1       2  ...   NaN        C\n",
              "875                 1       2  ...   NaN        C\n",
              "876                 1       3  ...   NaN        C\n",
              "880                 1       1  ...   C50        C\n",
              "890                 1       1  ...  C148        C\n",
              "\n",
              "[168 rows x 11 columns]>"
            ]
          },
          "metadata": {}
        },
        {
          "output_type": "stream",
          "name": "stdout",
          "text": [
            "C\n"
          ]
        },
        {
          "output_type": "display_data",
          "data": {
            "text/plain": [
              "<bound method NDFrame.head of              Survived  Pclass  ... Cabin Embarked\n",
              "PassengerId                    ...               \n",
              "6                   0       3  ...   NaN        Q\n",
              "17                  0       3  ...   NaN        Q\n",
              "23                  1       3  ...   NaN        Q\n",
              "29                  1       3  ...   NaN        Q\n",
              "33                  1       3  ...   NaN        Q\n",
              "...               ...     ...  ...   ...      ...\n",
              "791                 0       3  ...   NaN        Q\n",
              "826                 0       3  ...   NaN        Q\n",
              "829                 1       3  ...   NaN        Q\n",
              "886                 0       3  ...   NaN        Q\n",
              "891                 0       3  ...   NaN        Q\n",
              "\n",
              "[77 rows x 11 columns]>"
            ]
          },
          "metadata": {}
        },
        {
          "output_type": "stream",
          "name": "stdout",
          "text": [
            "Q\n"
          ]
        },
        {
          "output_type": "display_data",
          "data": {
            "text/plain": [
              "<bound method NDFrame.head of              Survived  Pclass  ... Cabin Embarked\n",
              "PassengerId                    ...               \n",
              "1                   0       3  ...   NaN        S\n",
              "3                   1       3  ...   NaN        S\n",
              "4                   1       1  ...  C123        S\n",
              "5                   0       3  ...   NaN        S\n",
              "7                   0       1  ...   E46        S\n",
              "...               ...     ...  ...   ...      ...\n",
              "884                 0       2  ...   NaN        S\n",
              "885                 0       3  ...   NaN        S\n",
              "887                 0       2  ...   NaN        S\n",
              "888                 1       1  ...   B42        S\n",
              "889                 0       3  ...   NaN        S\n",
              "\n",
              "[644 rows x 11 columns]>"
            ]
          },
          "metadata": {}
        },
        {
          "output_type": "stream",
          "name": "stdout",
          "text": [
            "S\n"
          ]
        }
      ]
    }
  ]
}