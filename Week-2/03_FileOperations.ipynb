{
  "nbformat": 4,
  "nbformat_minor": 0,
  "metadata": {
    "kernelspec": {
      "display_name": "Python 3",
      "language": "python",
      "name": "python3"
    },
    "language_info": {
      "codemirror_mode": {
        "name": "ipython",
        "version": 3
      },
      "file_extension": ".py",
      "mimetype": "text/x-python",
      "name": "python",
      "nbconvert_exporter": "python",
      "pygments_lexer": "ipython3",
      "version": "3.7.5"
    },
    "colab": {
      "name": "A_06_File_Operations_tr.ipynb adlı not defterinin kopyası",
      "provenance": [],
      "collapsed_sections": []
    }
  },
  "cells": [
    {
      "cell_type": "markdown",
      "metadata": {
        "id": "Xql0Qc-0qAo8"
      },
      "source": [
        "Lütfen aşağıdaki ödevlere çözümlerinizi Jupyter Notebook olarak GitHub hesabınıza yükleyin ve GitHub linkini aşağıdaki buton ile paylaşın. Kafanıza takılan konuları mentörünüzle konuşabilir ya da ofis saatinde Slack üzerinden sorabilirsiniz.\n",
        "\n",
        "1. Seçeceğiniz herhangi bir şiiri bilgisayarına .txt dosyası olarak kaydedin. Şiirin kaç dizeden oluştuğunu hesaplayın.\n",
        "\n",
        "2. Yeni bir dosyaya her şiirdeki her dizenin ilk kelimesini yazdırın."
      ]
    },
    {
      "cell_type": "code",
      "metadata": {
        "id": "7n9dhIUzqS0a",
        "colab": {
          "base_uri": "https://localhost:8080/"
        },
        "outputId": "2eeaa35d-be8b-46e4-fae6-b363d274a652"
      },
      "source": [
        "file = open(\"starrider.txt\", \"r\")\n",
        "_count = 0\n",
        "\n",
        "for line in file:\n",
        "  if line != \"\\n\":\n",
        "    _count += 1\n",
        "\n",
        "file.close()\n",
        "print(_count)"
      ],
      "execution_count": 9,
      "outputs": [
        {
          "output_type": "stream",
          "name": "stdout",
          "text": [
            "14\n"
          ]
        }
      ]
    },
    {
      "cell_type": "code",
      "metadata": {
        "colab": {
          "base_uri": "https://localhost:8080/"
        },
        "id": "omXHmR3PuJBl",
        "outputId": "0c93fbca-b261-4a14-fcf5-5f525a9d58ee"
      },
      "source": [
        "with open(\"starrider.txt\", \"r\") as input:\n",
        "      \n",
        "    with open(\"new.txt\", \"w\") as output:\n",
        "        for line in input:\n",
        "            output.write(line[0]+\"\\n\")\n",
        "\n",
        "with open(\"new.txt\", \"r\") as f:\n",
        "    lines=f.read()\n",
        "\n",
        "print (lines)"
      ],
      "execution_count": 16,
      "outputs": [
        {
          "output_type": "stream",
          "name": "stdout",
          "text": [
            "I\n",
            "N\n",
            "H\n",
            "T\n",
            "U\n",
            "W\n",
            "S\n",
            "T\n",
            "S\n",
            "S\n",
            "N\n",
            "A\n",
            "A\n",
            "S\n",
            "\n"
          ]
        }
      ]
    }
  ]
}