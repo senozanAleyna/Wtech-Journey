{
  "nbformat": 4,
  "nbformat_minor": 0,
  "metadata": {
    "colab": {
      "name": "Project.ipynb",
      "provenance": [],
      "collapsed_sections": []
    },
    "kernelspec": {
      "name": "python3",
      "display_name": "Python 3"
    },
    "language_info": {
      "name": "python"
    }
  },
  "cells": [
    {
      "cell_type": "code",
      "metadata": {
        "id": "KKdB4hgPFRU8"
      },
      "source": [
        "import csv\n",
        "import math"
      ],
      "execution_count": 1,
      "outputs": []
    },
    {
      "cell_type": "code",
      "metadata": {
        "id": "FYFqIkfv5Zpr"
      },
      "source": [
        "file1=FileClass(\"biostats.csv\")\n"
      ],
      "execution_count": 3,
      "outputs": []
    },
    {
      "cell_type": "code",
      "metadata": {
        "colab": {
          "base_uri": "https://localhost:8080/"
        },
        "id": "1qYiRgcRMdXp",
        "outputId": "0a9c386f-6f7a-422c-8000-3bfeccda8758"
      },
      "source": [
        "file1.columnName()\n"
      ],
      "execution_count": 4,
      "outputs": [
        {
          "output_type": "stream",
          "name": "stdout",
          "text": [
            "['Name', '     \"Sex\"', ' \"Age\"', ' \"Height (in)\"', ' \"Weight (lbs)\"']\n"
          ]
        }
      ]
    },
    {
      "cell_type": "code",
      "metadata": {
        "colab": {
          "base_uri": "https://localhost:8080/"
        },
        "id": "NKtWIjQEMifB",
        "outputId": "9cbede61-ad96-47da-ae82-922c460de4d2"
      },
      "source": [
        "file1.shape()"
      ],
      "execution_count": 5,
      "outputs": [
        {
          "output_type": "stream",
          "name": "stdout",
          "text": [
            "(21,5)\n"
          ]
        }
      ]
    },
    {
      "cell_type": "code",
      "metadata": {
        "colab": {
          "base_uri": "https://localhost:8080/"
        },
        "id": "GmiXBI4FMkez",
        "outputId": "ff9256f7-975c-4e05-cd1c-140a8ff77fb1"
      },
      "source": [
        "file1.printColumn('Name')"
      ],
      "execution_count": 6,
      "outputs": [
        {
          "output_type": "execute_result",
          "data": {
            "text/plain": [
              "['Name',\n",
              " 'Alex',\n",
              " 'Bert',\n",
              " 'Carl',\n",
              " 'Dave',\n",
              " 'Elly',\n",
              " 'Fran',\n",
              " 'Gwen',\n",
              " 'Hank',\n",
              " 'Ivan',\n",
              " 'Jake',\n",
              " 'Kate',\n",
              " 'Luke',\n",
              " 'Myra',\n",
              " 'Neil',\n",
              " 'Omar',\n",
              " 'Page',\n",
              " 'Quin',\n",
              " 'Ruth',\n",
              " 'Ruth',\n",
              " 'Sosis']"
            ]
          },
          "metadata": {},
          "execution_count": 6
        }
      ]
    },
    {
      "cell_type": "code",
      "metadata": {
        "colab": {
          "base_uri": "https://localhost:8080/"
        },
        "id": "zSZa6ElKMlPB",
        "outputId": "f6149e70-d0fa-40c8-a2a9-7c5ac006fe24"
      },
      "source": [
        "file1.findUniqueColumn('Name')"
      ],
      "execution_count": 7,
      "outputs": [
        {
          "output_type": "execute_result",
          "data": {
            "text/plain": [
              "['Name',\n",
              " 'Quin',\n",
              " 'Gwen',\n",
              " 'Carl',\n",
              " 'Luke',\n",
              " 'Hank',\n",
              " 'Dave',\n",
              " 'Elly',\n",
              " 'Fran',\n",
              " 'Myra',\n",
              " 'Ivan',\n",
              " 'Page',\n",
              " 'Bert',\n",
              " 'Kate',\n",
              " 'Alex',\n",
              " 'Jake',\n",
              " 'Sosis',\n",
              " 'Omar',\n",
              " 'Neil',\n",
              " 'Ruth']"
            ]
          },
          "metadata": {},
          "execution_count": 7
        }
      ]
    },
    {
      "cell_type": "code",
      "metadata": {
        "colab": {
          "base_uri": "https://localhost:8080/"
        },
        "id": "3HG6gIMOMnEf",
        "outputId": "0a1e120e-bbef-4b13-eec0-ba4ad9c09981"
      },
      "source": [
        "file1.CountfindUniqueColumn('Name')"
      ],
      "execution_count": 8,
      "outputs": [
        {
          "output_type": "stream",
          "name": "stdout",
          "text": [
            "20\n"
          ]
        }
      ]
    },
    {
      "cell_type": "code",
      "metadata": {
        "colab": {
          "base_uri": "https://localhost:8080/"
        },
        "id": "jlaUOAVyMnlc",
        "outputId": "ce5a3f2a-57e9-46ee-89a8-726ba640dd08"
      },
      "source": [
        "file1.columnType()"
      ],
      "execution_count": 9,
      "outputs": [
        {
          "output_type": "stream",
          "name": "stdout",
          "text": [
            "Name : <class 'str'>\n",
            "     \"Sex\" : <class 'str'>\n",
            " \"Age\" : <class 'str'>\n",
            " \"Height (in)\" : <class 'str'>\n",
            " \"Weight (lbs)\" : <class 'str'>\n"
          ]
        }
      ]
    },
    {
      "cell_type": "code",
      "metadata": {
        "colab": {
          "base_uri": "https://localhost:8080/"
        },
        "id": "pqydjypvMxs3",
        "outputId": "e0c99325-2c19-4865-e853-33d73574c7f8"
      },
      "source": [
        "file1.columnAvg()"
      ],
      "execution_count": 10,
      "outputs": [
        {
          "output_type": "stream",
          "name": "stdout",
          "text": [
            "Name : 0.0\n",
            "     \"Sex\" : 0.0\n",
            " \"Age\" : 34.0\n",
            " \"Height (in)\" : 68.65\n",
            " \"Weight (lbs)\" : 145.15\n"
          ]
        }
      ]
    },
    {
      "cell_type": "code",
      "metadata": {
        "colab": {
          "base_uri": "https://localhost:8080/"
        },
        "id": "ZBggUvz7Mx1p",
        "outputId": "3cb0793a-6c35-43c6-ce60-21e1f57f6ad7"
      },
      "source": [
        "file1.columnMaxMin()"
      ],
      "execution_count": 11,
      "outputs": [
        {
          "output_type": "stream",
          "name": "stdout",
          "text": [
            "Column:Name -> Max: 0--- Min: 0\n",
            "Column:     \"Sex\" -> Max: 0--- Min: 0\n",
            "Column: \"Age\" -> Max: 53--- Min: 23\n",
            "Column: \"Height (in)\" -> Max: 75--- Min: 62\n",
            "Column: \"Weight (lbs)\" -> Max: 176--- Min: 98\n"
          ]
        }
      ]
    },
    {
      "cell_type": "code",
      "metadata": {
        "id": "RD72F0Jd5wk4"
      },
      "source": [
        "class FileClass():\n",
        "  #control=1\n",
        "  def __init__(self, fileName):\n",
        "    self.fileName = fileName \n",
        "    self.file = open(self.fileName)\n",
        "    self.reader = csv.reader(self.file)\n",
        "    self.lines=list(self.reader)\n",
        "    self.liste=[]\n",
        "    \n",
        "  def columnName(self):\n",
        "    firstLine=(self.lines)[0]\n",
        "    print(firstLine)\n",
        "\n",
        "  def shape(self):\n",
        "    lineCount= len(self.lines)\n",
        "    columnCount=len((self.lines)[0])\n",
        "    print(f\"({lineCount},{columnCount})\")\n",
        "\n",
        "  def printColumn(self,inputName):\n",
        "    try:\n",
        "      name=list((self.lines)[0])\n",
        "      for i in range(len(name)-1):\n",
        "        if(inputName==name[i]):\n",
        "          for j in range(len(self.lines)):\n",
        "            #if FileClass.control==1:\n",
        "              self.liste.append(self.lines[j][i])\n",
        "      return self.liste\n",
        "    except Exception as e:\n",
        "      print (\"error in level argument\",e.args[0])\n",
        "\n",
        "  def findUniqueColumn(self,_input):\n",
        "    #FileClass.control=0\n",
        "    _set=list(set(self.printColumn(_input)))\n",
        "    return _set\n",
        "\n",
        "  def CountfindUniqueColumn(self,_input):\n",
        "    print(len(self.findUniqueColumn(_input)))\n",
        "\n",
        "  def columnType(self):\n",
        "    for i in range(len((self.lines)[0])):\n",
        "      print(f\"{(self.lines)[0][i]} : {type((self.lines)[0][i])}\")\n",
        "\n",
        "  def columnAvg(self):\n",
        "    sum,j=0,1\n",
        "    for i in range(len((self.lines)[0])):\n",
        "      for j in range((len(self.lines))):\n",
        "        num=self.lines[j][i]\n",
        "        if num.isnumeric():\n",
        "          num=int(num)\n",
        "          sum=sum+num\n",
        "      print(f\"{(self.lines)[0][i]} : {sum/j}\")\n",
        "      sum=0\n",
        "\n",
        "  def columnMaxMin(self):\n",
        "    sum,j=0,1\n",
        "    liste=[]\n",
        "    for i in range(len((self.lines)[0])):\n",
        "      for j in range((len(self.lines))):\n",
        "        num=self.lines[j][i]\n",
        "        if num.isnumeric():\n",
        "          num=int(num)\n",
        "          liste.append(num)\n",
        "        else:liste.append(0)\n",
        "      print(f\"Column:{(self.lines)[0][i]} -> Max: {max(liste)}--- Min: {min(liste[1:])}\")\n",
        "      liste=[]\n",
        "\n",
        "    \n",
        "\n",
        "\n",
        "\n",
        "\n",
        "    \n",
        "    "
      ],
      "execution_count": 2,
      "outputs": []
    }
  ]
}