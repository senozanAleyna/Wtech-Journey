{
  "nbformat": 4,
  "nbformat_minor": 0,
  "metadata": {
    "kernelspec": {
      "display_name": "Python 3",
      "language": "python",
      "name": "python3"
    },
    "language_info": {
      "codemirror_mode": {
        "name": "ipython",
        "version": 3
      },
      "file_extension": ".py",
      "mimetype": "text/x-python",
      "name": "python",
      "nbconvert_exporter": "python",
      "pygments_lexer": "ipython3",
      "version": "3.7.5"
    },
    "colab": {
      "name": "A_03_Functions_tr.ipynb adlı not defterinin kopyası",
      "provenance": [],
      "collapsed_sections": []
    }
  },
  "cells": [
    {
      "cell_type": "markdown",
      "metadata": {
        "id": "aOPhvSylCnFt"
      },
      "source": [
        "1. Parametre olarak girilen bir sayının asal sayı olup olmadığını belirten bir fonksiyon yazın.\n",
        "\n",
        "2. Parametre olarak girilecek listenin elemanlarını yeni bir listeye her değer sadece bir kere geçecek şekilde aktaran bir fonksiyon yazın. Normalde bu işlemi `set()` komutu ile yapabiliriz ama bu seferlik bu komutu kullanmayalım.\n",
        "\n",
        "        Örnek : uniq_liste([1,2,2,3,3,4,4]) = [1,2,3,4]\n",
        "        \n",
        "3. Parametre olarak girilen bir sayının faktöriyelini hesaplayan bir fonksiyon yazın.\n",
        "4. Girilen metin içerisindeki büyük harf ve küçük harflerin sayısını ekrana yazdıran bir fonksiyon yazın."
      ]
    },
    {
      "cell_type": "code",
      "metadata": {
        "colab": {
          "base_uri": "https://localhost:8080/"
        },
        "id": "X0Pcxy3fGFM2",
        "outputId": "0c69c379-367d-49b3-e639-92eb6aef56c4"
      },
      "source": [
        "def asal(num):\n",
        "\n",
        "  if num > 1: \n",
        "    for i in range(2,num):\n",
        "       if (num % i) == 0:\n",
        "           print(num,\" Asal Sayı Değildir.\")\n",
        "           break\n",
        "       else:\n",
        "          print(num,\" Asal Sayıdır.\")\n",
        "          break\n",
        " \n",
        "  else:\n",
        "   print(num,\" Asal Sayı Değildir.\")\n",
        "\n",
        "sayi=int(input(\"Sayıyı Girin : \"))\n",
        "asal(sayi)"
      ],
      "execution_count": 4,
      "outputs": [
        {
          "output_type": "stream",
          "name": "stdout",
          "text": [
            "Sayıyı Girin : 17\n",
            "17  Asal Sayıdır.\n"
          ]
        }
      ]
    },
    {
      "cell_type": "code",
      "metadata": {
        "colab": {
          "base_uri": "https://localhost:8080/"
        },
        "id": "nWscEm4qHjM6",
        "outputId": "9a360e77-92dd-4da6-c0c1-a7c2fb2f876e"
      },
      "source": [
        "_input= input('Boşluklu olarak listenin sayılarını giriniz: ')\n",
        "user_list = _input.split()\n",
        "\n",
        "def kontrol(user_list):\n",
        "  for i in range(len(user_list)):\n",
        "    user_list[i] = int(user_list[i])\n",
        "  return list(dict.fromkeys(user_list))\n",
        "\n",
        "print(\"Tekrarsız liste = \", kontrol(user_list))"
      ],
      "execution_count": 5,
      "outputs": [
        {
          "output_type": "stream",
          "name": "stdout",
          "text": [
            "Boşluklu olarak listenin sayılarını giriniz: 1 1 2 3 5 6 6 8\n",
            "Tekrarsız liste =  [1, 2, 3, 5, 6, 8]\n"
          ]
        }
      ]
    },
    {
      "cell_type": "code",
      "metadata": {
        "colab": {
          "base_uri": "https://localhost:8080/"
        },
        "id": "Hp_8pH-aLZzj",
        "outputId": "e80122ed-6b27-4dd6-c62c-5ff3ef064318"
      },
      "source": [
        "num= int(input('Faktöriyeli alınacak sayıyı giriniz : '))\n",
        "\n",
        "def fact(n):  \n",
        "   if n == 1:  \n",
        "      return n \n",
        "   elif n==0:\n",
        "      return 1\n",
        "   else:  \n",
        "      return n*fact(n-1)  \n",
        "\n",
        "\n",
        "print(\"Sonuç: \",fact(num))  "
      ],
      "execution_count": 8,
      "outputs": [
        {
          "output_type": "stream",
          "name": "stdout",
          "text": [
            "Faktöriyeli alınacak sayıyı giriniz : 4\n",
            "Sonuç:  24\n"
          ]
        }
      ]
    },
    {
      "cell_type": "code",
      "metadata": {
        "colab": {
          "base_uri": "https://localhost:8080/"
        },
        "id": "A-JZVB0NMofa",
        "outputId": "a3875405-92bd-4d82-cef0-99ce1c88b24a"
      },
      "source": [
        "ucount,lcount=0,0\n",
        "_input= input('Text giriniz: ')\n",
        "\n",
        "def find(_input):\n",
        "  for i in range(len(_input)):\n",
        "    if _input[i].isupper():\n",
        "      global ucount\n",
        "      ucount +=1\n",
        "    else:\n",
        "      global lcount \n",
        "      lcount +=1\n",
        "\n",
        "find(_input)\n",
        "print(\" Büyük harf sayısı: \",ucount,\"\\n\",\"Küçük harf sayısı: \",lcount)\n",
        "\n"
      ],
      "execution_count": 20,
      "outputs": [
        {
          "output_type": "stream",
          "name": "stdout",
          "text": [
            "Text giriniz: asdFGH\n",
            " Büyük harf sayısı:  3 \n",
            " Küçük harf sayısı:  3\n"
          ]
        }
      ]
    }
  ]
}