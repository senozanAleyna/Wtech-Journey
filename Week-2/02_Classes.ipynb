{
  "nbformat": 4,
  "nbformat_minor": 0,
  "metadata": {
    "kernelspec": {
      "display_name": "Python 3",
      "language": "python",
      "name": "python3"
    },
    "language_info": {
      "codemirror_mode": {
        "name": "ipython",
        "version": 3
      },
      "file_extension": ".py",
      "mimetype": "text/x-python",
      "name": "python",
      "nbconvert_exporter": "python",
      "pygments_lexer": "ipython3",
      "version": "3.7.5"
    },
    "colab": {
      "name": "A_04_Classes_tr.ipynb adlı not defterinin kopyası",
      "provenance": [],
      "collapsed_sections": []
    }
  },
  "cells": [
    {
      "cell_type": "markdown",
      "metadata": {
        "id": "7p78ql5oBC3V"
      },
      "source": [
        "1. Evcil hayvanlar için bir sınıf tanımlayın. "
      ]
    },
    {
      "cell_type": "markdown",
      "metadata": {
        "id": "KSPYPy2sBC3Z"
      },
      "source": [
        "2.  Perakende satış uygulaması hazırlayacak olsak, çeşitli ürünleri satın almak için mağazayı ziyaret eden birçok müşteri olacaktır. Perakende satış merkezinin yöneticisinin ihtiyaç duyacağı müşteri bilgilerini içeren bir sınıf yazalım."
      ]
    },
    {
      "cell_type": "code",
      "metadata": {
        "colab": {
          "base_uri": "https://localhost:8080/"
        },
        "id": "VPpY4FDPBHgY",
        "outputId": "16870d92-35ca-45ab-c0d9-7fc2d331db89"
      },
      "source": [
        "class Pet(object):\n",
        "    def __init__(self, name, atype, age):\n",
        "        self.__name = name\n",
        "        self.__atype = atype\n",
        "        self.__age = age\n",
        "\n",
        "    @property\n",
        "    def pet(self):\n",
        "        return (self.__name, self.__atype, self.__age)\n",
        "    \n",
        "    @pet.setter\n",
        "    def pet(self, pet_tuple):\n",
        "        self.ayarla(*pet_tuple)\n",
        "\n",
        "    def ayarla(self, name, atype, age):\n",
        "        self.__name=name\n",
        "        self.__atype=atype\n",
        "        self.__age=age\n",
        "\n",
        "    def __repr__(self):\n",
        "        return (f'Pet(name={self.__name}, atype={self.__atype}, age={self.__age})')\n",
        "    \n",
        "    def __str__(self):\n",
        "        return f\" Name: {self.__name} \\n Type: {self.__atype} \\n Age: {self.__age}\\n\".format(self=self)\n",
        "\n",
        "\n",
        "pet1=Pet(\"Sosis\",\"Cat\",5)\n",
        "pet2=Pet(\"Erik\",\"Turtle\",6)\n",
        "\n",
        "print(pet1)\n",
        "pet2"
      ],
      "execution_count": 10,
      "outputs": [
        {
          "output_type": "stream",
          "name": "stdout",
          "text": [
            " Name: Sosis \n",
            " Type: Cat \n",
            " Age: 5\n",
            "\n"
          ]
        },
        {
          "output_type": "execute_result",
          "data": {
            "text/plain": [
              "Pet(name=Erik, atype=Turtle, age=6)"
            ]
          },
          "metadata": {},
          "execution_count": 10
        }
      ]
    },
    {
      "cell_type": "code",
      "metadata": {
        "colab": {
          "base_uri": "https://localhost:8080/"
        },
        "id": "AJOfBdmaBJUt",
        "outputId": "61e4db11-ae30-4fd7-b806-74b2710cba64"
      },
      "source": [
        "class User():\n",
        "    def __init__(self,firstName, lastName, mobile, email):\n",
        "        self.first = firstName\n",
        "        self.last = lastName\n",
        "        self.mobile = mobile\n",
        "        self.fullname = firstName + ' ' + lastName\n",
        "        self.email=email\n",
        "\n",
        "    def __str__(self):\n",
        "      return f\" Fullname: {self.fullname} \\n Mobile: {self.mobile} \\n Email: {self.email}\\n\".format(self=self)\n",
        "\n",
        "class Customer(User):\n",
        "    def __init__(self, customerNo,firstName, lastName, mobile, email, orderNo, orderDetails):\n",
        "        super().__init__(firstName, lastName, mobile,email)\n",
        "        self.orderNo=orderNo\n",
        "        self.orderDetails=orderDetails\n",
        "     \n",
        "    def __str__(self):\n",
        "      return super(Customer, self).__str__() + f\" Order No: {self.orderNo} \\n Order Details: {self.orderDetails}\\n\".format(self=self)\n",
        "\n",
        "\n",
        "customer=Customer(1,\"Aleyna\",\"Senozan\",\"+090.... \",\"senozanAleyna@gmail.com\",9997782,\"Successful\")\n",
        "print(customer)"
      ],
      "execution_count": 19,
      "outputs": [
        {
          "output_type": "stream",
          "name": "stdout",
          "text": [
            " Fullname: Aleyna Senozan \n",
            " Mobile: +090....  \n",
            " Email: senozanAleyna@gmail.com\n",
            " Order No: 9997782 \n",
            " Order Details: Successful\n",
            "\n"
          ]
        }
      ]
    }
  ]
}