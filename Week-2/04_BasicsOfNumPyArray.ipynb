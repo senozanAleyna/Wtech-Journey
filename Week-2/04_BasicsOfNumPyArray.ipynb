{
  "nbformat": 4,
  "nbformat_minor": 0,
  "metadata": {
    "kernelspec": {
      "display_name": "Python 3",
      "language": "python",
      "name": "python3"
    },
    "language_info": {
      "codemirror_mode": {
        "name": "ipython",
        "version": 3
      },
      "file_extension": ".py",
      "mimetype": "text/x-python",
      "name": "python",
      "nbconvert_exporter": "python",
      "pygments_lexer": "ipython3",
      "version": "3.8.2"
    },
    "colab": {
      "name": "A_02_BasicsOfNumPyArray_tr.ipynb adlı not defterinin kopyası",
      "provenance": []
    }
  },
  "cells": [
    {
      "cell_type": "code",
      "metadata": {
        "id": "ixUDxpC3GmJp"
      },
      "source": [
        "import numpy as np"
      ],
      "execution_count": 1,
      "outputs": []
    },
    {
      "cell_type": "markdown",
      "metadata": {
        "id": "IDftKEDqSH71"
      },
      "source": [
        "**(1)** Create 3 lists representing house features, each list containing 10 values. First one for squaremeter of house, second one for rooms and last one for price. Then, create an array combining these lists."
      ]
    },
    {
      "cell_type": "code",
      "metadata": {
        "id": "cP9fe4BQSH76",
        "colab": {
          "base_uri": "https://localhost:8080/"
        },
        "outputId": "8ea6001c-d787-4170-9219-55a3dd65e624"
      },
      "source": [
        "meter_house=np.array([75,80,85,90,95,100,120,140,150,180])\n",
        "room_house=np.array([1,2,2,2,2,3,3,4,4,4])\n",
        "price_house=np.array([300000,350000,350000,350000,400000,400000,450000,500000,600000,650000])\n",
        "house_all=np.array([meter_house,room_house,price_house])\n",
        "print(house_all)"
      ],
      "execution_count": 5,
      "outputs": [
        {
          "output_type": "stream",
          "name": "stdout",
          "text": [
            "[[    75     80     85     90     95    100    120    140    150    180]\n",
            " [     1      2      2      2      2      3      3      4      4      4]\n",
            " [300000 350000 350000 350000 400000 400000 450000 500000 600000 650000]]\n"
          ]
        }
      ]
    },
    {
      "cell_type": "markdown",
      "metadata": {
        "id": "nRq_DnHUSH77"
      },
      "source": [
        "**(2)** Transpose the array you have created, so that every line can represent features of one house."
      ]
    },
    {
      "cell_type": "code",
      "metadata": {
        "id": "iC5Rs8EcSH77",
        "colab": {
          "base_uri": "https://localhost:8080/"
        },
        "outputId": "14e1b702-ce58-4ac3-de6d-0ffbb3b1b809"
      },
      "source": [
        "house_all=house_all.T\n",
        "print(house_all)"
      ],
      "execution_count": 8,
      "outputs": [
        {
          "output_type": "stream",
          "name": "stdout",
          "text": [
            "[[    75      1 300000]\n",
            " [    80      2 350000]\n",
            " [    85      2 350000]\n",
            " [    90      2 350000]\n",
            " [    95      2 400000]\n",
            " [   100      3 400000]\n",
            " [   120      3 450000]\n",
            " [   140      4 500000]\n",
            " [   150      4 600000]\n",
            " [   180      4 650000]]\n"
          ]
        }
      ]
    },
    {
      "cell_type": "markdown",
      "metadata": {
        "id": "T7e2bJgPSH77"
      },
      "source": [
        "**(3)** Display the shape of the array and explain what it means."
      ]
    },
    {
      "cell_type": "code",
      "metadata": {
        "id": "7VjVvtS7SH78",
        "colab": {
          "base_uri": "https://localhost:8080/"
        },
        "outputId": "18aeba85-1415-4f7f-b823-800289366390"
      },
      "source": [
        "house_all.shape #10 column, 3 row"
      ],
      "execution_count": 10,
      "outputs": [
        {
          "output_type": "execute_result",
          "data": {
            "text/plain": [
              "(10, 3)"
            ]
          },
          "metadata": {},
          "execution_count": 10
        }
      ]
    },
    {
      "cell_type": "markdown",
      "metadata": {
        "id": "-feZfmC9SH78"
      },
      "source": [
        "**(4)** Write a function that returns an array of ones with zeros where both row and column numbers are even. Sample array is below. Number of rows and columns will be entered as parameters.\n",
        "\n",
        "```python\n",
        "    shape(6 x 5) --> [[1   1   1   1   1]\n",
        "                      [1   0   1   0   1]\n",
        "                      [1   1   1   1   1]\n",
        "                      [1   0   1   0   1]\n",
        "                      [1   1   1   1   1]\n",
        "                      [1   0   1   0   1]]\n",
        "```"
      ]
    },
    {
      "cell_type": "code",
      "metadata": {
        "id": "_nYs5PxoSH78",
        "colab": {
          "base_uri": "https://localhost:8080/"
        },
        "outputId": "08268fdd-eed3-49d3-ea93-5d2d8c6d23a7"
      },
      "source": [
        "n, m = map(int, input().split()) \n",
        "array=np.ones((n,m))\n",
        "print(f\"shape({n}*{m}) -->\")\n",
        "print(f\"{OnesZeros(array)}\")\n",
        "\n",
        "def OnesZeros(array):\n",
        "  r,c=map(lambda x:x,array.shape)\n",
        "  for i in range(r):\n",
        "    for j in range(c):\n",
        "      if i%2!=0 and j%2!=0:\n",
        "        array[i][j]=0\n",
        "  return array"
      ],
      "execution_count": 36,
      "outputs": [
        {
          "output_type": "stream",
          "name": "stdout",
          "text": [
            "6 5\n",
            "shape(6*5) -->\n",
            "[[1. 1. 1. 1. 1.]\n",
            " [1. 0. 1. 0. 1.]\n",
            " [1. 1. 1. 1. 1.]\n",
            " [1. 0. 1. 0. 1.]\n",
            " [1. 1. 1. 1. 1.]\n",
            " [1. 0. 1. 0. 1.]]\n"
          ]
        }
      ]
    }
  ]
}