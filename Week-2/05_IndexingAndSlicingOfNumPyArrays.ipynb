{
  "nbformat": 4,
  "nbformat_minor": 0,
  "metadata": {
    "kernelspec": {
      "display_name": "Python 3",
      "language": "python",
      "name": "python3"
    },
    "language_info": {
      "codemirror_mode": {
        "name": "ipython",
        "version": 3
      },
      "file_extension": ".py",
      "mimetype": "text/x-python",
      "name": "python",
      "nbconvert_exporter": "python",
      "pygments_lexer": "ipython3",
      "version": "3.8.2"
    },
    "colab": {
      "name": "A_03_IndexingAndSlicingOfNumPyArrays_tr.ipynb adlı not defterinin kopyası",
      "provenance": []
    }
  },
  "cells": [
    {
      "cell_type": "markdown",
      "metadata": {
        "id": "4YAWoqArSjVH"
      },
      "source": [
        "For the assignment, you are going to use [Earthquakes](https://bootrain-lms-assets.s3.eu-central-1.amazonaws.com/bootrain-lms-static/datasets/Earthquakes.csv) dataset."
      ]
    },
    {
      "cell_type": "markdown",
      "metadata": {
        "id": "O0JAdwf0SjVN"
      },
      "source": [
        "**(1)** Load the Earthquakes dataset. Export the dataset to an array as you covered in the previous lesson."
      ]
    },
    {
      "cell_type": "code",
      "metadata": {
        "id": "NA-_akpRSjVO"
      },
      "source": [
        "import pandas as pd\n",
        "import numpy as np\n",
        "mydata = pd.read_csv(\"Earthquakes.csv\")\n",
        "mydata_array = np.array(mydata)"
      ],
      "execution_count": 53,
      "outputs": []
    },
    {
      "cell_type": "markdown",
      "metadata": {
        "id": "RMXOWGHASjVO"
      },
      "source": [
        "**(2)** Slice first 20 rows and column numbers 3, 5, 6, 7, 12. Then, assign the array you sliced to a variable."
      ]
    },
    {
      "cell_type": "code",
      "metadata": {
        "colab": {
          "base_uri": "https://localhost:8080/"
        },
        "id": "w8MmBrdIbS34",
        "outputId": "694e7ecf-3266-487f-c035-acb6515eed42"
      },
      "source": [
        "mydata_array[:20,[3, 5, 6, 7, 12]]"
      ],
      "execution_count": 54,
      "outputs": [
        {
          "output_type": "execute_result",
          "data": {
            "text/plain": [
              "array([[ 0.    , 37.4341, 35.852 ,  7.02  ,  4.1   ],\n",
              "       [ 0.    , 37.6878, 37.4016, 10.27  ,  4.4   ],\n",
              "       [ 0.    , 37.2003, 30.4376, 78.07  ,  4.    ],\n",
              "       [ 0.    , 35.6846, 26.7266, 42.77  ,  4.5   ],\n",
              "       [ 0.    , 36.4171, 28.6991, 14.86  ,  4.1   ],\n",
              "       [ 0.    , 36.0535, 31.2135, 36.68  ,  5.2   ],\n",
              "       [ 0.    , 37.1958, 30.6241, 50.33  ,  4.8   ],\n",
              "       [ 0.    , 36.9653, 27.7633,  6.93  ,  4.3   ],\n",
              "       [ 0.    , 38.893 , 26.4483, 11.62  ,  4.2   ],\n",
              "       [ 0.    , 37.3773, 36.3855, 10.53  ,  4.8   ],\n",
              "       [ 0.    , 35.8861, 26.0695, 28.49  ,  4.9   ],\n",
              "       [ 0.    , 37.4635, 36.3113, 15.29  ,  4.3   ],\n",
              "       [ 0.    , 37.0201, 36.0845, 10.    ,  4.1   ],\n",
              "       [ 0.    , 37.6546, 26.6698,  4.5   ,  4.5   ],\n",
              "       [ 0.    , 37.5318, 29.848 , 17.58  ,  4.6   ],\n",
              "       [ 0.    , 39.0388, 44.1533,  7.52  ,  4.5   ],\n",
              "       [ 0.    , 38.357 , 44.8686, 10.05  ,  4.1   ],\n",
              "       [ 0.    , 35.7018, 28.1495,  6.25  ,  4.1   ],\n",
              "       [ 0.    , 37.6883, 37.3968, 10.63  ,  4.1   ],\n",
              "       [ 0.    , 42.1821, 42.5928,  5.81  ,  4.    ]])"
            ]
          },
          "metadata": {},
          "execution_count": 54
        }
      ]
    },
    {
      "cell_type": "code",
      "metadata": {
        "id": "1CQ6Ffp0SjVO"
      },
      "source": [
        "_var=mydata_array[:20,[3, 5, 6, 7, 12]]"
      ],
      "execution_count": 55,
      "outputs": []
    },
    {
      "cell_type": "markdown",
      "metadata": {
        "id": "jBA4bJD7SjVP"
      },
      "source": [
        "**(3)** Display the row numbers where last values are equal to 4.5 or higher."
      ]
    },
    {
      "cell_type": "code",
      "metadata": {
        "id": "xk8AQ6a7SjVP",
        "colab": {
          "base_uri": "https://localhost:8080/"
        },
        "outputId": "f0010a22-a8d9-4404-b8d2-07ffa6f1215b"
      },
      "source": [
        "print(_var[:,-1][_var[:,-1] >= 4.5])"
      ],
      "execution_count": 56,
      "outputs": [
        {
          "output_type": "stream",
          "name": "stdout",
          "text": [
            "[4.5 5.2 4.8 4.8 4.9 4.5 4.6 4.5]\n"
          ]
        }
      ]
    },
    {
      "cell_type": "markdown",
      "metadata": {
        "id": "iRbkf3JSSjVP"
      },
      "source": [
        "**(4)** Assign 1 to first row."
      ]
    },
    {
      "cell_type": "code",
      "metadata": {
        "id": "Y1fCwbVjSjVP",
        "colab": {
          "base_uri": "https://localhost:8080/"
        },
        "outputId": "695c93a1-436e-4c32-f7b4-8c3854ea5bd6"
      },
      "source": [
        "mydata_array[:,0]=1\n",
        "print(mydata_array)"
      ],
      "execution_count": 57,
      "outputs": [
        {
          "output_type": "stream",
          "name": "stdout",
          "text": [
            "[[1.  0.  0.  ... 4.1 7.  0. ]\n",
            " [1.  0.  0.  ... 4.4 7.  0. ]\n",
            " [1.  0.  0.  ... 4.  7.  0. ]\n",
            " ...\n",
            " [1.  4.  0.  ... 4.8 2.  0. ]\n",
            " [1.  3.  0.  ... 5.2 2.  0. ]\n",
            " [1.  2.  0.  ... 4.4 2.  0. ]]\n"
          ]
        }
      ]
    },
    {
      "cell_type": "markdown",
      "metadata": {
        "id": "5hit4wcTSjVQ"
      },
      "source": [
        "**(5)** Save the final state of the array to disk. You are going to use this in the next assignment."
      ]
    },
    {
      "cell_type": "code",
      "metadata": {
        "id": "bvXWlaGwSjVQ",
        "colab": {
          "base_uri": "https://localhost:8080/"
        },
        "outputId": "205e5404-da6f-4cbf-c1b0-6be437dae506"
      },
      "source": [
        "np.save(\"mydata_array.npy\", mydata_array)\n",
        "arr = np.load(\"mydata_array.npy\")\n",
        "print(arr)"
      ],
      "execution_count": 58,
      "outputs": [
        {
          "output_type": "stream",
          "name": "stdout",
          "text": [
            "[[1.  0.  0.  ... 4.1 7.  0. ]\n",
            " [1.  0.  0.  ... 4.4 7.  0. ]\n",
            " [1.  0.  0.  ... 4.  7.  0. ]\n",
            " ...\n",
            " [1.  4.  0.  ... 4.8 2.  0. ]\n",
            " [1.  3.  0.  ... 5.2 2.  0. ]\n",
            " [1.  2.  0.  ... 4.4 2.  0. ]]\n"
          ]
        }
      ]
    }
  ]
}