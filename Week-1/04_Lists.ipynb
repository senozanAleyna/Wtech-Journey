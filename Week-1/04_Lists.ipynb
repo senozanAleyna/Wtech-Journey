{
  "nbformat": 4,
  "nbformat_minor": 0,
  "metadata": {
    "colab": {
      "name": "A_04_Lists_tr.ipynb adlı not defterinin kopyası",
      "provenance": [],
      "collapsed_sections": []
    },
    "kernelspec": {
      "display_name": "Python 3",
      "language": "python",
      "name": "python3"
    },
    "language_info": {
      "codemirror_mode": {
        "name": "ipython",
        "version": 3
      },
      "file_extension": ".py",
      "mimetype": "text/x-python",
      "name": "python",
      "nbconvert_exporter": "python",
      "pygments_lexer": "ipython3",
      "version": "3.8.7"
    }
  },
  "cells": [
    {
      "cell_type": "markdown",
      "metadata": {
        "id": "9PtltaUjQR9m"
      },
      "source": [
        "**(1)** Aşağıdaki listenin en küçük elemanı ile en büyük iki elemanının toplamını hesaklayın.\n",
        "\n",
        "`my_list = [34, 56, 76, 45, 2, 12, 67, 98, 37, 54, 66]`"
      ]
    },
    {
      "cell_type": "code",
      "metadata": {
        "id": "uZD4PLLZQ-F8",
        "colab": {
          "base_uri": "https://localhost:8080/"
        },
        "outputId": "a3cb39ca-6c54-4063-cdd8-c01ef20b699b"
      },
      "source": [
        "def quickSort(_list):\n",
        "    if len(_list) < 2:\n",
        "        return _list\n",
        "    else:\n",
        "        pivot = _list[0]\n",
        "        less = [i for i in _list[1:] if i <= pivot] \n",
        "        more = [i for i in _list[1:] if i > pivot]\n",
        "        return quickSort(less) + [pivot] + quickSort(more)\n",
        "\n",
        "my_list = [34, 56, 76, 45, 2, 12, 67, 98, 37, 54, 66]\n",
        "my_list=quickSort(my_list)\n",
        "#print(my_list[0]+my_list[-1])\n",
        "\n",
        "\n",
        "#or we can do this :)\n",
        "my_list = [34, 56, 76, 45, 2, 12, 67, 98, 37, 54, 66]\n",
        "my_list.sort()\n",
        "print(my_list[0]+my_list[-1])"
      ],
      "execution_count": 39,
      "outputs": [
        {
          "output_type": "stream",
          "name": "stdout",
          "text": [
            "100\n"
          ]
        }
      ]
    },
    {
      "cell_type": "markdown",
      "metadata": {
        "id": "JGBSV_cbQ-Ok"
      },
      "source": [
        "**(2)** Aşağıdaki listelerde öğrenci isimleri ve aldıkları notlar yer almakta. Kullanıcıdan öğrencinin adını alan ve bu öğrencinin aldığı notu ekrana yazdıran bir kod yazın.\n",
        "\n",
        "     names = [\"David\", \"Michael\", \"John\", \"James\", \"Greg\", \"Mark\", \"William\", \n",
        "              \"Richard\", \"Thomas\", \"Steven\", \"Mary\", \"Susan\", \"Maria\", \"Karen\", \n",
        "              \"Lisa\", \"Linda\", \"Donna\", \"Patricia\", \"Debra\", \"Eric\"]\n",
        "\n",
        "     scores = [99, 87, 78, 86, 68, 94, 76, 97, 56, 98, 76, 87, 79, 90, 73, 93, 82, 69, 97, 98]"
      ]
    },
    {
      "cell_type": "code",
      "metadata": {
        "id": "ea1iFk6hQ-Xv",
        "colab": {
          "base_uri": "https://localhost:8080/"
        },
        "outputId": "f2d68a6e-7595-4d52-d23c-aa2e8235f27b"
      },
      "source": [
        " names = [\"David\", \"Michael\", \"John\", \"James\", \"Greg\", \"Mark\", \"William\", \n",
        "          \"Richard\", \"Thomas\", \"Steven\", \"Mary\", \"Susan\", \"Maria\", \"Karen\", \n",
        "          \"Lisa\", \"Linda\", \"Donna\", \"Patricia\", \"Debra\", \"Eric\"]\n",
        "\n",
        " scores = [99, 87, 78, 86, 68, 94, 76, 97, 56, 98, 76, 87, 79, 90, 73, 93, 82, 69, 97, 98]\n",
        " new_list=zip(names,scores)\n",
        " input=input(\"İsim gir: \")\n",
        " print(\"Susan isimli öğrencinin notu: {}\" .format(list((x[1] for x in new_list if x[0]==input))))\n",
        "\n"
      ],
      "execution_count": 38,
      "outputs": [
        {
          "output_type": "stream",
          "name": "stdout",
          "text": [
            "İsim gir: Susan\n",
            "Susan isimli öğrencinin notu: [87]\n"
          ]
        }
      ]
    },
    {
      "cell_type": "markdown",
      "metadata": {
        "id": "w35ObZoJQ-gP"
      },
      "source": [
        "**(3)** Aşağıdaki listede öğrencilerin aldığı notlar yer almaktadır. En yüksek not kaçtır ve kaç kişi bu notu almıştır?\n",
        "\n",
        "`scores = [99, 87, 78, 86, 68, 94, 76, 97 ,56, 98, 76, 87, 79, 90, 73, 93, 82, 69, 97, 98]`"
      ]
    },
    {
      "cell_type": "code",
      "metadata": {
        "id": "VRkecUJiQ-pE",
        "colab": {
          "base_uri": "https://localhost:8080/"
        },
        "outputId": "aade61e1-1fee-4ea8-c89c-59a3f1dd783e"
      },
      "source": [
        "scores = [99, 87, 78, 86, 68, 94, 76, 97 ,56, 98, 76, 87, 79, 90, 73, 93, 82, 69, 97, 98]\n",
        "scores =sorted(scores)\n",
        "count=0\n",
        "for x in  range(0, len(scores)):\n",
        "   if scores[x]==scores[-1]:\n",
        "    count=count+1\n",
        "    \n",
        "print(\"En yüksek notu alan kişi sayısı : {}, En yüksek not: {}\".format(count,list((filter(lambda x:x==scores[-1],scores)))))\n",
        "\n"
      ],
      "execution_count": 37,
      "outputs": [
        {
          "output_type": "stream",
          "name": "stdout",
          "text": [
            "En yüksek notu alan kişi sayısı : 1, En yüksek not: [99]\n"
          ]
        }
      ]
    },
    {
      "cell_type": "markdown",
      "metadata": {
        "id": "DRLPH_P4Q-xc"
      },
      "source": [
        "**(4)** Ayların kaç gün çektiğini karıştırabiliyoruz. Bunun için bir liste oluşturun ancak listenizde ay isimleri ve gün sayıları beraber bulunsun (ipucu: listenizin içinde başka bir veri yapısı yer alacak!)."
      ]
    },
    {
      "cell_type": "code",
      "metadata": {
        "id": "tWUNhayRQ-5W",
        "colab": {
          "base_uri": "https://localhost:8080/"
        },
        "outputId": "997d73f6-3f55-4dfc-ffb1-f828c2c21ddb"
      },
      "source": [
        "month = [{ \"Ocak\" : 31}, {\"Şubat\" : 28} , {\"Mart\" : 31} , {\"Nisan\" : 30} , {\"Mayıs\" : 31} , {\"Haziran\" : 30} , {\"Temmuz\" : 31} , {\"Ağustos\" : 31} , {\"Eylül\" : 30} , {\"Ekim\" : 31} , {\"Kasım\" : 30} , {\"Aralık\" : 31}]\n",
        "month"
      ],
      "execution_count": 21,
      "outputs": [
        {
          "output_type": "execute_result",
          "data": {
            "text/plain": [
              "[{'Ocak': 31},\n",
              " {'Şubat': 28},\n",
              " {'Mart': 31},\n",
              " {'Nisan': 30},\n",
              " {'Mayıs': 31},\n",
              " {'Haziran': 30},\n",
              " {'Temmuz': 31},\n",
              " {'Ağustos': 31},\n",
              " {'Eylül': 30},\n",
              " {'Ekim': 31},\n",
              " {'Kasım': 30},\n",
              " {'Aralık': 31}]"
            ]
          },
          "metadata": {},
          "execution_count": 21
        }
      ]
    },
    {
      "cell_type": "markdown",
      "metadata": {
        "id": "WgPHLQn0Q_by"
      },
      "source": [
        "**(5)** Şimdi ise mevsim mevsim ayrılmış ay listeleri oluşturun. Liste adlarına mevsimlerin adlarını verin."
      ]
    },
    {
      "cell_type": "code",
      "metadata": {
        "id": "X1U13tbSQ_kM"
      },
      "source": [
        "ilkbahar=['Mart', 'Nisan', 'Mayıs']\n",
        "yaz=['Haziran', 'Temmuz','Ağustos']\n",
        "sonbahar=['Eylül', 'Ekim', 'Kasım']\n",
        "kis=['Aralık', 'Ocak', 'Şubat']"
      ],
      "execution_count": 22,
      "outputs": []
    },
    {
      "cell_type": "markdown",
      "metadata": {
        "id": "qLfG_LbBQ_tF"
      },
      "source": [
        "**(6)** Son olarak, bir önceki sorudaki listeden yaz ayının kaç gün sürdüğünü hesaplayın."
      ]
    },
    {
      "cell_type": "code",
      "metadata": {
        "id": "zn-cx0t5RNeq",
        "colab": {
          "base_uri": "https://localhost:8080/"
        },
        "outputId": "1fda3827-d617-4c71-d1bd-2f0d487ad720"
      },
      "source": [
        "last_list=[]\n",
        "sum=0\n",
        "for x in range(0,len(month)):\n",
        "   for k,v in month[x].items():\n",
        "      if yaz[0]==k or yaz[1]==k or yaz[2]==k:\n",
        "        last_list.append(v)\n",
        "\n",
        "for x in range(0,len(last_list)):\n",
        "  sum=sum+last_list[x]\n",
        "\n",
        "print(sum)  \n"
      ],
      "execution_count": 29,
      "outputs": [
        {
          "output_type": "stream",
          "name": "stdout",
          "text": [
            "92\n"
          ]
        }
      ]
    },
    {
      "cell_type": "code",
      "metadata": {
        "id": "ytnF3dnnJ5pb"
      },
      "source": [
        ""
      ],
      "execution_count": null,
      "outputs": []
    }
  ]
}