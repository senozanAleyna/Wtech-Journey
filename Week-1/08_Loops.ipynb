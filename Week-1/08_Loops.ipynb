{
  "nbformat": 4,
  "nbformat_minor": 0,
  "metadata": {
    "kernelspec": {
      "display_name": "Python 3",
      "language": "python",
      "name": "python3"
    },
    "language_info": {
      "codemirror_mode": {
        "name": "ipython",
        "version": 3
      },
      "file_extension": ".py",
      "mimetype": "text/x-python",
      "name": "python",
      "nbconvert_exporter": "python",
      "pygments_lexer": "ipython3",
      "version": "3.7.5"
    },
    "colab": {
      "name": "A_02_Loops_tr.ipynb adlı not defterinin kopyası",
      "provenance": [],
      "collapsed_sections": []
    }
  },
  "cells": [
    {
      "cell_type": "markdown",
      "metadata": {
        "id": "ucMNm2p6TIq-"
      },
      "source": [
        "1. Kullanıcının girdiği kelimeyi ters çeviren bir kod yazınız.\n",
        "        Örnek : \"otobüs\" --> \"süboto\n",
        "2. Girilen bir sayı için çarpım tablosunu yazdırın. \n",
        "```\n",
        "        Örnek : Bir sayı girin : 6\n",
        "                6 x 1 = 6                                                               \n",
        "                6 x 2 = 12                                                              \n",
        "                6 x 3 = 18                                                              \n",
        "                6 x 4 = 24                                                              \n",
        "                6 x 5 = 30                                                              \n",
        "                6 x 6 = 36                                                              \n",
        "                6 x 7 = 42                                                              \n",
        "                6 x 8 = 48                                                              \n",
        "                6 x 9 = 54                                                              \n",
        "                6 x 10 = 60 \n",
        "```                \n",
        "3. List comprehension kullanarak, 1'den 20'ye kadar tek sayıların karesini, çift sayıların küpünü içeren bir liste oluşturun.\n",
        "4. 1'den 200'e kadar olan sayıları (`range()`) kullanarak tek sayılar ve çift sayılar olmak üzere iki liste oluşturun.\n",
        "5. Kullanıcıdan alınacak iki sayının OBEB ve OKEK'ini bulan bir program yazın."
      ]
    },
    {
      "cell_type": "code",
      "metadata": {
        "colab": {
          "base_uri": "https://localhost:8080/"
        },
        "id": "jRU-ei5hTQnM",
        "outputId": "62445395-ce2f-4d82-92a3-a95e61ccaee5"
      },
      "source": [
        "_input = input('Kelime giriniz: ')\n",
        "reverse_string= \"\"\n",
        "for i in range(len(_input)):\n",
        "    reverse_string += _input[len(_input)-1-i]\n",
        "print(reverse_string)"
      ],
      "execution_count": null,
      "outputs": [
        {
          "output_type": "stream",
          "name": "stdout",
          "text": [
            "Kelime giriniz: otobüs\n",
            "süboto\n"
          ]
        }
      ]
    },
    {
      "cell_type": "code",
      "metadata": {
        "colab": {
          "base_uri": "https://localhost:8080/"
        },
        "id": "RuKARllJWM_S",
        "outputId": "a79025f4-b32e-4170-af9b-8b52e60855cc"
      },
      "source": [
        "_input = int(input('Bir sayı girin: '))\n",
        "for i in range(1,11):\n",
        "  print(f\"{_input} x {i} = {_input*i}\")"
      ],
      "execution_count": null,
      "outputs": [
        {
          "output_type": "stream",
          "name": "stdout",
          "text": [
            "Bir sayı girin: 6\n",
            "6 x 1 = 6\n",
            "6 x 2 = 12\n",
            "6 x 3 = 18\n",
            "6 x 4 = 24\n",
            "6 x 5 = 30\n",
            "6 x 6 = 36\n",
            "6 x 7 = 42\n",
            "6 x 8 = 48\n",
            "6 x 9 = 54\n",
            "6 x 10 = 60\n"
          ]
        }
      ]
    },
    {
      "cell_type": "code",
      "metadata": {
        "colab": {
          "base_uri": "https://localhost:8080/"
        },
        "id": "WZBZdnddYq5Q",
        "outputId": "6afd819e-6c96-49e3-d91c-8549413fa245"
      },
      "source": [
        "tek = [i**2 for i in range(1,20) if  i%2!=0]\n",
        "cift=[i**3 for i in range(1,20) if  i%2==0]\n",
        "print(*tek)\n",
        "print(*cift)"
      ],
      "execution_count": null,
      "outputs": [
        {
          "output_type": "stream",
          "name": "stdout",
          "text": [
            "1 9 25 49 81 121 169 225 289 361\n",
            "8 64 216 512 1000 1728 2744 4096 5832\n"
          ]
        }
      ]
    },
    {
      "cell_type": "code",
      "metadata": {
        "id": "qbxIMEPrdxkY",
        "colab": {
          "base_uri": "https://localhost:8080/"
        },
        "outputId": "442e7b1e-65d6-4035-e26e-61c5b24fdf0e"
      },
      "source": [
        "tek,cift=[],[]\n",
        "for i in range(1,200):\n",
        "  if i%2==0:\n",
        "    cift.append(i)\n",
        "\n",
        "  elif i%2!=0:\n",
        "    tek.append(i)\n",
        "\n",
        "print(\"Tek sayılar:\",end=\"\")\n",
        "print(*tek)\n",
        "print(\"Çift sayılar:\",end=\"\")\n",
        "print(*cift)"
      ],
      "execution_count": 4,
      "outputs": [
        {
          "output_type": "stream",
          "name": "stdout",
          "text": [
            "Tek sayılar:1 3 5 7 9 11 13 15 17 19 21 23 25 27 29 31 33 35 37 39 41 43 45 47 49 51 53 55 57 59 61 63 65 67 69 71 73 75 77 79 81 83 85 87 89 91 93 95 97 99 101 103 105 107 109 111 113 115 117 119 121 123 125 127 129 131 133 135 137 139 141 143 145 147 149 151 153 155 157 159 161 163 165 167 169 171 173 175 177 179 181 183 185 187 189 191 193 195 197 199\n",
            "Çift sayılar:2 4 6 8 10 12 14 16 18 20 22 24 26 28 30 32 34 36 38 40 42 44 46 48 50 52 54 56 58 60 62 64 66 68 70 72 74 76 78 80 82 84 86 88 90 92 94 96 98 100 102 104 106 108 110 112 114 116 118 120 122 124 126 128 130 132 134 136 138 140 142 144 146 148 150 152 154 156 158 160 162 164 166 168 170 172 174 176 178 180 182 184 186 188 190 192 194 196 198\n"
          ]
        }
      ]
    },
    {
      "cell_type": "code",
      "metadata": {
        "colab": {
          "base_uri": "https://localhost:8080/"
        },
        "id": "skIiabUFxTey",
        "outputId": "1363e5ba-94be-4f43-d9ed-47a873235384"
      },
      "source": [
        "def ebob(x1,x2):\n",
        "  if x1<x2:\n",
        "    min=x1\n",
        "  else:\n",
        "    min=x2\n",
        "  for i in range(1,min):\n",
        "    if not x1%i and not x2%i:\n",
        "      ebob=i\n",
        "  return ebob\n",
        "\n",
        "def ekok(x1,x2):\n",
        "  return((x1*x2)/ebob(x1,x2))\n",
        "\n",
        "\n",
        "_input1=int(input(\"Birinci sayıyı giriniz:\"))\n",
        "_input2=int(input(\"İkinci sayıyı giriniz:\"))\n",
        "print(f\"Ebob: {ebob(_input1,_input2)}\")\n",
        "print(f\"Ekok: {ekok(_input1,_input2)}\")"
      ],
      "execution_count": 14,
      "outputs": [
        {
          "output_type": "stream",
          "name": "stdout",
          "text": [
            "Birinci sayıyı giriniz:20\n",
            "İkinci sayıyı giriniz:30\n",
            "Ebob: 10\n",
            "Ekok: 60.0\n"
          ]
        }
      ]
    }
  ]
}