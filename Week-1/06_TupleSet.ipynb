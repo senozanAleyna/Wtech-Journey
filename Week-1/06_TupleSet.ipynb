{
  "nbformat": 4,
  "nbformat_minor": 0,
  "metadata": {
    "colab": {
      "name": "A_06_Tuples_Set_tr.ipynb adlı not defterinin kopyası",
      "provenance": [],
      "collapsed_sections": []
    },
    "kernelspec": {
      "display_name": "Python 3",
      "language": "python",
      "name": "python3"
    },
    "language_info": {
      "codemirror_mode": {
        "name": "ipython",
        "version": 3
      },
      "file_extension": ".py",
      "mimetype": "text/x-python",
      "name": "python",
      "nbconvert_exporter": "python",
      "pygments_lexer": "ipython3",
      "version": "3.8.7"
    }
  },
  "cells": [
    {
      "cell_type": "markdown",
      "metadata": {
        "id": "r0G2zgasTlVF"
      },
      "source": [
        "**(1)** `hafta` adında hafta içi günlerini içeren bir tuple oluşturun."
      ]
    },
    {
      "cell_type": "code",
      "metadata": {
        "id": "rh5eYY4nUZi2",
        "colab": {
          "base_uri": "https://localhost:8080/"
        },
        "outputId": "016eabdf-87e1-4089-cc61-3053b3c8ce44"
      },
      "source": [
        "hafta=('Monday', 'Sunday', 'Wednesday', 'Thursday', 'Friday', 'Saturday', 'Sunday')\n",
        "print(hafta)\n",
        "print(type(hafta))"
      ],
      "execution_count": null,
      "outputs": [
        {
          "output_type": "stream",
          "name": "stdout",
          "text": [
            "('Monday', 'Sunday', 'Wednesday', 'Thursday', 'Friday', 'Saturday', 'Sunday')\n",
            "<class 'tuple'>\n"
          ]
        }
      ]
    },
    {
      "cell_type": "markdown",
      "metadata": {
        "id": "sd-mr_0nUZto"
      },
      "source": [
        "**(2)** `fruits` adında \"elma\", \"mango\" ve \"portakal\" meyvelerini içeren bir küme oluşturun."
      ]
    },
    {
      "cell_type": "code",
      "metadata": {
        "id": "ihcnLIGiUZ4L",
        "colab": {
          "base_uri": "https://localhost:8080/"
        },
        "outputId": "50fcb3ef-c913-4633-b31f-ece11c70a9cf"
      },
      "source": [
        "fruits={'mango', 'elma', 'portakal'}\n",
        "print(fruits)\n",
        "print(type(fruits))"
      ],
      "execution_count": null,
      "outputs": [
        {
          "output_type": "stream",
          "name": "stdout",
          "text": [
            "{'portakal', 'elma', 'mango'}\n",
            "<class 'set'>\n"
          ]
        }
      ]
    },
    {
      "cell_type": "markdown",
      "metadata": {
        "id": "gE05XoiQUaBR"
      },
      "source": [
        "**(3)** `new_fruits` adında \"kiraz\", \"şeftali\", \"elma\" ve \"mango\" meyvelerini içeren ikinci bir küme oluşturun."
      ]
    },
    {
      "cell_type": "code",
      "metadata": {
        "id": "pNk1p3TyUaLh",
        "colab": {
          "base_uri": "https://localhost:8080/"
        },
        "outputId": "cc2885b4-bd0f-48ad-db99-95960b8d0478"
      },
      "source": [
        "new_fruits={'mango', 'elma', 'kiraz', 'şeftali'}\n",
        "print(new_fruits)"
      ],
      "execution_count": null,
      "outputs": [
        {
          "output_type": "stream",
          "name": "stdout",
          "text": [
            "{'elma', 'şeftali', 'mango', 'kiraz'}\n"
          ]
        }
      ]
    },
    {
      "cell_type": "markdown",
      "metadata": {
        "id": "3cHFmE57UaV0"
      },
      "source": [
        "**(4)** `new_fruits`da olan meyvelerde olmayan meyveleri bulun."
      ]
    },
    {
      "cell_type": "code",
      "metadata": {
        "id": "mwzjb1LrUadI",
        "colab": {
          "base_uri": "https://localhost:8080/"
        },
        "outputId": "a5db0761-c3a8-46f5-9e1a-155e2fbc7234"
      },
      "source": [
        "print(\"Sadece new_fruits de olanlar {}\".format(new_fruits.difference(fruits)))"
      ],
      "execution_count": null,
      "outputs": [
        {
          "output_type": "stream",
          "name": "stdout",
          "text": [
            "Sadece new_fruits de olanlar {'şeftali', 'kiraz'}\n"
          ]
        }
      ]
    },
    {
      "cell_type": "markdown",
      "metadata": {
        "id": "ZISIgX2SUamQ"
      },
      "source": [
        "**(5)** Her ikisinde de olan meyveleri bulun."
      ]
    },
    {
      "cell_type": "code",
      "metadata": {
        "id": "ruwPEYJAUasL",
        "colab": {
          "base_uri": "https://localhost:8080/"
        },
        "outputId": "24810cba-86c4-4dad-a9fa-db83503903e6"
      },
      "source": [
        "print(\"Her ikisinde olan meyveler : {}\".format(new_fruits.intersection(fruits)))"
      ],
      "execution_count": null,
      "outputs": [
        {
          "output_type": "stream",
          "name": "stdout",
          "text": [
            "Her ikisinde olan meyveler : {'elma', 'mango'}\n"
          ]
        }
      ]
    }
  ]
}