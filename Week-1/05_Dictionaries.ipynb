{
  "nbformat": 4,
  "nbformat_minor": 0,
  "metadata": {
    "colab": {
      "name": "A_05_Dictionaries_tr.ipynb adlı not defterinin kopyası",
      "provenance": [],
      "collapsed_sections": []
    },
    "kernelspec": {
      "display_name": "Python 3",
      "language": "python",
      "name": "python3"
    },
    "language_info": {
      "codemirror_mode": {
        "name": "ipython",
        "version": 3
      },
      "file_extension": ".py",
      "mimetype": "text/x-python",
      "name": "python",
      "nbconvert_exporter": "python",
      "pygments_lexer": "ipython3",
      "version": "3.8.7"
    }
  },
  "cells": [
    {
      "cell_type": "markdown",
      "metadata": {
        "id": "LIkO2709RTIu"
      },
      "source": [
        "**(1)** İçerisinde 7 günün bulunduğu bir sözlük oluşturun. Kullanıcıya günleri listeleyerek 2 farklı gün seçmesini isteyin (örneğin pazartesi ve salı için \"12\" gibi). Kullanıcının seçtiği günleri sözlükten silerek kalan 5 günü ekrana yazdırın."
      ]
    },
    {
      "cell_type": "code",
      "metadata": {
        "id": "6d6klQLrTOp9",
        "colab": {
          "base_uri": "https://localhost:8080/"
        },
        "outputId": "15169f07-7cce-448c-f8a9-f45d141953eb"
      },
      "source": [
        "days={\"1\":\"pazartesi\",\"2\":\"salı\",\"3\":\"çarşamba\",\"4\":\"perşembe\",\"5\":\"cuma\"}\n",
        "user_list=input(\"Write two days to delete (e.g. \\\"25\\\" ): \")\n",
        "list(user_list)\n",
        "for i in range(len(user_list)):\n",
        "  days.pop(str(user_list[i]))\n",
        "\n",
        "days\n",
        "\n",
        " "
      ],
      "execution_count": 24,
      "outputs": [
        {
          "name": "stdout",
          "output_type": "stream",
          "text": [
            "Write two days to delete (e.g. \"25\" ): 25\n"
          ]
        },
        {
          "output_type": "execute_result",
          "data": {
            "text/plain": [
              "{'1': 'pazartesi', '3': 'çarşamba', '4': 'perşembe'}"
            ]
          },
          "metadata": {},
          "execution_count": 24
        }
      ]
    },
    {
      "cell_type": "markdown",
      "metadata": {
        "id": "mF2PMX0sTOyv"
      },
      "source": [
        "**(2)** Aşağıdaki bilgiler içeren bir sözlük oluşturun. Anahtar olarak isimleri kullanın.\n",
        "\n",
        "|Name|Age|Sex|\n",
        "|-|-|-|\n",
        "|John|25|Male|\n",
        "|Lisa|28|Female|\n",
        "|Linda|32|Female|\n",
        "|Michael|41|Male|"
      ]
    },
    {
      "cell_type": "code",
      "metadata": {
        "id": "tkZDe8tfTO8x",
        "colab": {
          "base_uri": "https://localhost:8080/"
        },
        "outputId": "d5d88846-8892-4ce1-e1e9-ff9591c85d01"
      },
      "source": [
        "dict={'John':{\"Age\":25,\"Sex\": \"Male\"}, 'Lisa':{\"Age\":28,\"Sex\":\"Female\"}, 'Linda':{\"Age\":25,\"Sex\":\"Female\"}, 'Micheal':{\"Age\":41,\"Sex\":\"Male\"}}\n",
        "dict"
      ],
      "execution_count": 31,
      "outputs": [
        {
          "output_type": "execute_result",
          "data": {
            "text/plain": [
              "{'John': {'Age': 25, 'Sex': 'Male'},\n",
              " 'Linda': {'Age': 25, 'Sex': 'Female'},\n",
              " 'Lisa': {'Age': 28, 'Sex': 'Female'},\n",
              " 'Micheal': {'Age': 41, 'Sex': 'Male'}}"
            ]
          },
          "metadata": {},
          "execution_count": 31
        }
      ]
    },
    {
      "cell_type": "markdown",
      "metadata": {
        "id": "Aj8f-84ETPF6"
      },
      "source": [
        "**(3)** Michael ve Linda'ya çocuk bilgisi ekleyin. Michael'in iki 12 yaşında Karen isminde bir kızı ve 7 yaşında Greg isminde bir oğlu, Linda'nın ise 6 yaşında Susan isminde bir kızı var. "
      ]
    },
    {
      "cell_type": "code",
      "metadata": {
        "id": "c7gQOZqXTPfT",
        "colab": {
          "base_uri": "https://localhost:8080/"
        },
        "outputId": "7a495504-733d-4cb8-a413-0b89400b3a72"
      },
      "source": [
        "dict={'John':{\"Age\":25,\"Sex\": \"Male\"},\n",
        "      'Lisa':{\"Age\":28,\"Sex\":\"Female\"},\n",
        "      'Linda':{\"Age\":25,\"Sex\":\"Female\",\"Kids\":{\"Susan\":{\"Age\":6}}},\n",
        "      'Micheal':{\"Age\":41,\"Sex\":\"Male\",\"Kids\":{\"Karen\":{\"Age\":12},\"Greg\":{\"Age\":7}}}\n",
        "      }\n",
        "dict"
      ],
      "execution_count": 59,
      "outputs": [
        {
          "output_type": "execute_result",
          "data": {
            "text/plain": [
              "{'John': {'Age': 25, 'Sex': 'Male'},\n",
              " 'Linda': {'Age': 25, 'Kids': {'Susan': {'Age': 6}}, 'Sex': 'Female'},\n",
              " 'Lisa': {'Age': 28, 'Sex': 'Female'},\n",
              " 'Micheal': {'Age': 41,\n",
              "  'Kids': {'Greg': {'Age': 7}, 'Karen': {'Age': 12}},\n",
              "  'Sex': 'Male'}}"
            ]
          },
          "metadata": {},
          "execution_count": 59
        }
      ]
    },
    {
      "cell_type": "markdown",
      "metadata": {
        "id": "pLa1MakOTPtX"
      },
      "source": [
        "**(4)** Michael'ın çocuklarının adlarını yazdırın."
      ]
    },
    {
      "cell_type": "code",
      "metadata": {
        "id": "WyJ3XNb_TVZs",
        "colab": {
          "base_uri": "https://localhost:8080/"
        },
        "outputId": "7e20e375-21c0-4a7b-cd5d-c4aa07daa6c8"
      },
      "source": [
        "list(dict[\"Micheal\"][\"Kids\"].keys())"
      ],
      "execution_count": 63,
      "outputs": [
        {
          "output_type": "execute_result",
          "data": {
            "text/plain": [
              "['Karen', 'Greg']"
            ]
          },
          "metadata": {},
          "execution_count": 63
        }
      ]
    }
  ]
}