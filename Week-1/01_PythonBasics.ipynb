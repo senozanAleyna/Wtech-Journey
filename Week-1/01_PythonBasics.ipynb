{
  "nbformat": 4,
  "nbformat_minor": 0,
  "metadata": {
    "kernelspec": {
      "display_name": "Python 3",
      "language": "python",
      "name": "python3"
    },
    "language_info": {
      "codemirror_mode": {
        "name": "ipython",
        "version": 3
      },
      "file_extension": ".py",
      "mimetype": "text/x-python",
      "name": "python",
      "nbconvert_exporter": "python",
      "pygments_lexer": "ipython3",
      "version": "3.8.7"
    },
    "colab": {
      "name": "A_01_PythonBasics_tr.ipynb adlı not defterinin kopyası",
      "provenance": [],
      "collapsed_sections": []
    }
  },
  "cells": [
    {
      "cell_type": "markdown",
      "metadata": {
        "id": "MiAwx3g_3cgR"
      },
      "source": [
        "**(1)** Adınızı ve Soyadınızı tek satırda yazan bir kod yazın."
      ]
    },
    {
      "cell_type": "code",
      "metadata": {
        "id": "33HugUeK3cgU",
        "colab": {
          "base_uri": "https://localhost:8080/"
        },
        "outputId": "717ab488-4dbc-49f1-d0dc-6d45721a28ff"
      },
      "source": [
        "print(\"Aleyna Şenozan\")"
      ],
      "execution_count": null,
      "outputs": [
        {
          "output_type": "stream",
          "name": "stdout",
          "text": [
            "Aleyna Şenozan\n"
          ]
        }
      ]
    },
    {
      "cell_type": "markdown",
      "metadata": {
        "id": "4JXpnSPQ3cgU"
      },
      "source": [
        "**(2)** Tek bir `print()` komutu kullanarak adınızı ve soyadınızı iki ayrı satırda gösteren bir kod yazın."
      ]
    },
    {
      "cell_type": "code",
      "metadata": {
        "id": "Jh_XW-WT3cgV",
        "colab": {
          "base_uri": "https://localhost:8080/"
        },
        "outputId": "80113e57-1d4f-4092-fac1-33b182842f00"
      },
      "source": [
        "print(\"\"\"Aleyna\n",
        "Şenozan\"\"\")"
      ],
      "execution_count": null,
      "outputs": [
        {
          "output_type": "stream",
          "name": "stdout",
          "text": [
            "Aleyna\n",
            "Şenozan\n"
          ]
        }
      ]
    },
    {
      "cell_type": "markdown",
      "metadata": {
        "id": "FRF3bFXD3cgW"
      },
      "source": [
        "**(3)** Aşağıdaki metni yazdıran bir komut yazın. Tırnak işaretlerine dikkat edin. Bunların çıktıda görünmesi gerekiyor!\n",
        "\n",
        "    `Bu haftaki yarışta 1'inci olan kişi sezonu \"şampiyon\" olarak tamamlayacak`"
      ]
    },
    {
      "cell_type": "code",
      "metadata": {
        "id": "moYbPBgj3cgW",
        "colab": {
          "base_uri": "https://localhost:8080/"
        },
        "outputId": "21be3c26-92b9-479f-c57f-eee6fc29e90a"
      },
      "source": [
        "print(\"\\'Bu haftaki yarışta 1'inci olan kişi sezonu \\\"şampiyon\\\" olarak tamamlayacak\\'\")"
      ],
      "execution_count": null,
      "outputs": [
        {
          "output_type": "stream",
          "name": "stdout",
          "text": [
            "'Bu haftaki yarışta 1'inci olan kişi sezonu \"şampiyon\" olarak tamamlayacak'\n"
          ]
        }
      ]
    }
  ]
}