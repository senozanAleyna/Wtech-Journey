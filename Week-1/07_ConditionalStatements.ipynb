{
  "nbformat": 4,
  "nbformat_minor": 0,
  "metadata": {
    "kernelspec": {
      "display_name": "Python 3",
      "language": "python",
      "name": "python3"
    },
    "language_info": {
      "codemirror_mode": {
        "name": "ipython",
        "version": 3
      },
      "file_extension": ".py",
      "mimetype": "text/x-python",
      "name": "python",
      "nbconvert_exporter": "python",
      "pygments_lexer": "ipython3",
      "version": "3.7.5"
    },
    "colab": {
      "name": "A_01_ConditionalStatements_tr.ipynb adlı not defterinin kopyası",
      "provenance": [],
      "collapsed_sections": []
    }
  },
  "cells": [
    {
      "cell_type": "markdown",
      "metadata": {
        "id": "AYf_9HtH5hph"
      },
      "source": [
        "- Kullanıcıdan Santigrat ya da Fahrenheit olarak sıcaklık değerini alacak ve diğer sıcaklık birimine çevirecek bir kod yazın. Dönüşüm için `C = (5/9) * (F - 32)` formülünü kullanabilirsiniz. \n",
        "\n",
        "        Örnek : \"40C\" --> \"104F\"\n",
        "                \"52F\" --> \"11.1\"\n",
        "\n",
        "- 1'den 50'ye kadar olan Fibonacci sayılarından oluşan bir liste oluşturun. İlk iki Fibonacci sayısı 1'dir. Sonraki sayılar, önceki iki sayının toplamıdır.\n",
        "\n",
        "- Kullanıcıdan 3 kişinin adını ve yaşını alın ve en yaşlı olanın adını ekrana yazdırın.\n",
        "\n",
        "- Kullanıcının gireceği harfin ünlü harf mi yoksa ünsüz harf mi olduğunu bildiren bir kod yazın. Eğer kullanıcı birden fazla harf girerse, girdiği bir uyarı verecek ve ilk harf için değerlendirme yapmasını, harf dışında bir karakter (rakam vb.) girerse de uyarı vermesini sağlayın."
      ]
    },
    {
      "cell_type": "code",
      "metadata": {
        "id": "Ibhgc5fKf9aQ",
        "colab": {
          "base_uri": "https://localhost:8080/"
        },
        "outputId": "dd2f06c0-db31-4c22-e9b1-cdee2c1d1f7c"
      },
      "source": [
        "inputu=list(input(\"Sıcaklık değerini giriniz(C/F):\"))\n",
        "for i in range(len(inputu)):\n",
        "  if inputu[-1]==\"C\" or inputu[-1]==\"c\":\n",
        "    inputu.pop()\n",
        "    celcius = int(\"\".join(inputu))\n",
        "    print(f\"{celcius*1.8+32}F\")\n",
        "\n",
        "  elif inputu[-1]==\"F\" or inputu[-1]==\"f\":\n",
        "    inputu.pop()\n",
        "    fahr = int(\"\".join(inputu))\n",
        "    print(f\"{(fahr-32)*(5/9)}C\")\n"
      ],
      "execution_count": null,
      "outputs": [
        {
          "output_type": "stream",
          "name": "stdout",
          "text": [
            "Sıcaklık değerini giriniz(C/F):40c\n",
            "104.0F\n"
          ]
        }
      ]
    },
    {
      "cell_type": "code",
      "metadata": {
        "colab": {
          "base_uri": "https://localhost:8080/"
        },
        "id": "cGswsZcMrK5G",
        "outputId": "1b1a3c2b-837e-413c-d265-8e1d63f42bef"
      },
      "source": [
        "n,num=0,0\n",
        "liste=[0,1]\n",
        "while True:\n",
        "  num=liste[n]+liste[n+1]\n",
        "  if(num>=50):\n",
        "    break\n",
        "  liste.append(num)\n",
        "  n=n+1\n",
        "  \n",
        "\n",
        "liste\n"
      ],
      "execution_count": null,
      "outputs": [
        {
          "output_type": "execute_result",
          "data": {
            "text/plain": [
              "[0, 1, 1, 2, 3, 5, 8, 13, 21, 34]"
            ]
          },
          "metadata": {},
          "execution_count": 2
        }
      ]
    },
    {
      "cell_type": "code",
      "metadata": {
        "colab": {
          "base_uri": "https://localhost:8080/",
          "height": 91
        },
        "id": "QlVDN8jkwxVE",
        "outputId": "f69bc2d3-86ca-4fb9-b5e5-b31a1fafe9f2"
      },
      "source": [
        "liste=list(input(\"Ad,Yaş giriniz(Aleyna,23): \").split(\",\") for _ in range(3))\n",
        "for l in liste:\n",
        "  l[-1] = int(l[-1])\n",
        "\n",
        "sorted_x=sorted(liste, key = lambda x:x[-1])\n",
        "sorted_x[-1][0]"
      ],
      "execution_count": null,
      "outputs": [
        {
          "name": "stdout",
          "output_type": "stream",
          "text": [
            "Ad,Yaş giriniz(Aleyna,23): asd,2\n",
            "Ad,Yaş giriniz(Aleyna,23): edf,5\n",
            "Ad,Yaş giriniz(Aleyna,23): was,1\n"
          ]
        },
        {
          "output_type": "execute_result",
          "data": {
            "application/vnd.google.colaboratory.intrinsic+json": {
              "type": "string"
            },
            "text/plain": [
              "'edf'"
            ]
          },
          "metadata": {},
          "execution_count": 38
        }
      ]
    },
    {
      "cell_type": "code",
      "metadata": {
        "colab": {
          "base_uri": "https://localhost:8080/"
        },
        "id": "bwCC2BIlHanC",
        "outputId": "8013f4a2-f6b5-4751-9761-250741e77576"
      },
      "source": [
        "print(\"Çıkmak için xxx'e basınız\")\n",
        "while True: \n",
        "\n",
        "  ch = input(\"Harf giriniz: \")\n",
        "  if ch==\"xxx\":\n",
        "    break\n",
        "  if(ch[0].isnumeric()):\n",
        "    print(\"Rakam girmeyiniz\")\n",
        "    continue\n",
        "  if len(ch)>1:\n",
        "    print(\"Fazla giriş yapıldı.İlk harf alınacaktır.\")\n",
        "    ch=ch[0]\n",
        "  if(ch=='A' or ch=='a' or ch=='E' or ch =='e' or ch=='I'or ch=='i' or ch=='O' or ch=='o' or ch=='U' or ch=='u'):\n",
        "    print(ch, \"ünlü harftir\")\n",
        "  else:\n",
        "    print(ch, \"ünsüz harftir\")\n",
        "  "
      ],
      "execution_count": null,
      "outputs": [
        {
          "name": "stdout",
          "output_type": "stream",
          "text": [
            "Çıkmak için xxx'e basınız\n",
            "Harf giriniz: 1py\n",
            "Rakam girmeyiniz\n",
            "Harf giriniz: py\n",
            "Fazla giriş yapıldı.İlk harf alınacaktır.\n",
            "p ünsüz harftir\n",
            "Harf giriniz: a\n",
            "a ünlü harftir\n",
            "Harf giriniz: xxx\n"
          ]
        }
      ]
    }
  ]
}